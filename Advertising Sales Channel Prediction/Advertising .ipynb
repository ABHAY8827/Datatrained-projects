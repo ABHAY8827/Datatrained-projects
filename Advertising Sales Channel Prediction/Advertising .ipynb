{
 "cells": [
  {
   "cell_type": "markdown",
   "id": "bd8b266a",
   "metadata": {},
   "source": [
    "### TASK-\n",
    "Sales Channel Prediction Case Study  \n",
    "\n",
    "When a company enters a market, the distribution strategy and channel it uses are keys to its success in the market, as well as market know-how and customer knowledge and understanding. Because an effective distribution strategy under efficient supply-chain management opens doors for attaining competitive advantage and strong brand equity in the market, it is a component of the marketing mix that cannot be ignored . \n",
    "\n",
    "The distribution strategy and the channel design have to be right the first time. The case study of Sales channel includes the detailed study of TV, radio and newspaper channel. The predict the total sales generated from all the sales channel.  "
   ]
  },
  {
   "cell_type": "markdown",
   "id": "9bf9e774",
   "metadata": {},
   "source": [
    "## Data preprocessing"
   ]
  },
  {
   "cell_type": "code",
   "execution_count": 78,
   "id": "056b4fe0",
   "metadata": {},
   "outputs": [],
   "source": [
    "# importing  basic libraries\n",
    "import pandas as pd \n",
    "import numpy as np\n",
    "import matplotlib.pyplot as plt\n",
    "import seaborn as sns"
   ]
  },
  {
   "cell_type": "code",
   "execution_count": 79,
   "id": "a8b5ad67",
   "metadata": {},
   "outputs": [
    {
     "data": {
      "text/html": [
       "<div>\n",
       "<style scoped>\n",
       "    .dataframe tbody tr th:only-of-type {\n",
       "        vertical-align: middle;\n",
       "    }\n",
       "\n",
       "    .dataframe tbody tr th {\n",
       "        vertical-align: top;\n",
       "    }\n",
       "\n",
       "    .dataframe thead th {\n",
       "        text-align: right;\n",
       "    }\n",
       "</style>\n",
       "<table border=\"1\" class=\"dataframe\">\n",
       "  <thead>\n",
       "    <tr style=\"text-align: right;\">\n",
       "      <th></th>\n",
       "      <th>Unnamed: 0</th>\n",
       "      <th>TV</th>\n",
       "      <th>radio</th>\n",
       "      <th>newspaper</th>\n",
       "      <th>sales</th>\n",
       "    </tr>\n",
       "  </thead>\n",
       "  <tbody>\n",
       "    <tr>\n",
       "      <th>0</th>\n",
       "      <td>1</td>\n",
       "      <td>230.1</td>\n",
       "      <td>37.8</td>\n",
       "      <td>69.2</td>\n",
       "      <td>22.1</td>\n",
       "    </tr>\n",
       "    <tr>\n",
       "      <th>1</th>\n",
       "      <td>2</td>\n",
       "      <td>44.5</td>\n",
       "      <td>39.3</td>\n",
       "      <td>45.1</td>\n",
       "      <td>10.4</td>\n",
       "    </tr>\n",
       "    <tr>\n",
       "      <th>2</th>\n",
       "      <td>3</td>\n",
       "      <td>17.2</td>\n",
       "      <td>45.9</td>\n",
       "      <td>69.3</td>\n",
       "      <td>9.3</td>\n",
       "    </tr>\n",
       "    <tr>\n",
       "      <th>3</th>\n",
       "      <td>4</td>\n",
       "      <td>151.5</td>\n",
       "      <td>41.3</td>\n",
       "      <td>58.5</td>\n",
       "      <td>18.5</td>\n",
       "    </tr>\n",
       "    <tr>\n",
       "      <th>4</th>\n",
       "      <td>5</td>\n",
       "      <td>180.8</td>\n",
       "      <td>10.8</td>\n",
       "      <td>58.4</td>\n",
       "      <td>12.9</td>\n",
       "    </tr>\n",
       "  </tbody>\n",
       "</table>\n",
       "</div>"
      ],
      "text/plain": [
       "   Unnamed: 0     TV  radio  newspaper  sales\n",
       "0           1  230.1   37.8       69.2   22.1\n",
       "1           2   44.5   39.3       45.1   10.4\n",
       "2           3   17.2   45.9       69.3    9.3\n",
       "3           4  151.5   41.3       58.5   18.5\n",
       "4           5  180.8   10.8       58.4   12.9"
      ]
     },
     "execution_count": 79,
     "metadata": {},
     "output_type": "execute_result"
    }
   ],
   "source": [
    "# importing dataset\n",
    "data = pd.read_csv('Advertising.csv')\n",
    "data.head()"
   ]
  },
  {
   "cell_type": "code",
   "execution_count": 80,
   "id": "c0fecac6",
   "metadata": {},
   "outputs": [
    {
     "data": {
      "text/plain": [
       "(200, 5)"
      ]
     },
     "execution_count": 80,
     "metadata": {},
     "output_type": "execute_result"
    }
   ],
   "source": [
    "data.shape"
   ]
  },
  {
   "cell_type": "code",
   "execution_count": 81,
   "id": "1398156b",
   "metadata": {},
   "outputs": [
    {
     "data": {
      "text/plain": [
       "Unnamed: 0    0\n",
       "TV            0\n",
       "radio         0\n",
       "newspaper     0\n",
       "sales         0\n",
       "dtype: int64"
      ]
     },
     "execution_count": 81,
     "metadata": {},
     "output_type": "execute_result"
    }
   ],
   "source": [
    "data.isnull().sum()"
   ]
  },
  {
   "cell_type": "markdown",
   "id": "79896262",
   "metadata": {},
   "source": [
    "### As we can see the dataset is having 5 columns and 200 rows \n",
    "1) Unnamed:0 - this column is index values so it is of no use\n",
    "\n",
    "2) TV - tv column shows the money provided for advertising on tv to increase sales\n",
    "\n",
    "3) Radio - Radio column shows the money provided for advertising on Radio to increase sales\n",
    "\n",
    "3) newspaper - Newspaper column shows the money provided for advertising on Newspaper to increase sales\n",
    "\n",
    "4) sales - how much sale of the product according to TV,newspaper and radio."
   ]
  },
  {
   "cell_type": "code",
   "execution_count": 82,
   "id": "af570f19",
   "metadata": {},
   "outputs": [
    {
     "data": {
      "text/html": [
       "<div>\n",
       "<style scoped>\n",
       "    .dataframe tbody tr th:only-of-type {\n",
       "        vertical-align: middle;\n",
       "    }\n",
       "\n",
       "    .dataframe tbody tr th {\n",
       "        vertical-align: top;\n",
       "    }\n",
       "\n",
       "    .dataframe thead th {\n",
       "        text-align: right;\n",
       "    }\n",
       "</style>\n",
       "<table border=\"1\" class=\"dataframe\">\n",
       "  <thead>\n",
       "    <tr style=\"text-align: right;\">\n",
       "      <th></th>\n",
       "      <th>Unnamed: 0</th>\n",
       "      <th>TV</th>\n",
       "      <th>radio</th>\n",
       "      <th>newspaper</th>\n",
       "      <th>sales</th>\n",
       "    </tr>\n",
       "  </thead>\n",
       "  <tbody>\n",
       "    <tr>\n",
       "      <th>count</th>\n",
       "      <td>200.000000</td>\n",
       "      <td>200.000000</td>\n",
       "      <td>200.000000</td>\n",
       "      <td>200.000000</td>\n",
       "      <td>200.000000</td>\n",
       "    </tr>\n",
       "    <tr>\n",
       "      <th>mean</th>\n",
       "      <td>100.500000</td>\n",
       "      <td>147.042500</td>\n",
       "      <td>23.264000</td>\n",
       "      <td>30.554000</td>\n",
       "      <td>14.022500</td>\n",
       "    </tr>\n",
       "    <tr>\n",
       "      <th>std</th>\n",
       "      <td>57.879185</td>\n",
       "      <td>85.854236</td>\n",
       "      <td>14.846809</td>\n",
       "      <td>21.778621</td>\n",
       "      <td>5.217457</td>\n",
       "    </tr>\n",
       "    <tr>\n",
       "      <th>min</th>\n",
       "      <td>1.000000</td>\n",
       "      <td>0.700000</td>\n",
       "      <td>0.000000</td>\n",
       "      <td>0.300000</td>\n",
       "      <td>1.600000</td>\n",
       "    </tr>\n",
       "    <tr>\n",
       "      <th>25%</th>\n",
       "      <td>50.750000</td>\n",
       "      <td>74.375000</td>\n",
       "      <td>9.975000</td>\n",
       "      <td>12.750000</td>\n",
       "      <td>10.375000</td>\n",
       "    </tr>\n",
       "    <tr>\n",
       "      <th>50%</th>\n",
       "      <td>100.500000</td>\n",
       "      <td>149.750000</td>\n",
       "      <td>22.900000</td>\n",
       "      <td>25.750000</td>\n",
       "      <td>12.900000</td>\n",
       "    </tr>\n",
       "    <tr>\n",
       "      <th>75%</th>\n",
       "      <td>150.250000</td>\n",
       "      <td>218.825000</td>\n",
       "      <td>36.525000</td>\n",
       "      <td>45.100000</td>\n",
       "      <td>17.400000</td>\n",
       "    </tr>\n",
       "    <tr>\n",
       "      <th>max</th>\n",
       "      <td>200.000000</td>\n",
       "      <td>296.400000</td>\n",
       "      <td>49.600000</td>\n",
       "      <td>114.000000</td>\n",
       "      <td>27.000000</td>\n",
       "    </tr>\n",
       "  </tbody>\n",
       "</table>\n",
       "</div>"
      ],
      "text/plain": [
       "       Unnamed: 0          TV       radio   newspaper       sales\n",
       "count  200.000000  200.000000  200.000000  200.000000  200.000000\n",
       "mean   100.500000  147.042500   23.264000   30.554000   14.022500\n",
       "std     57.879185   85.854236   14.846809   21.778621    5.217457\n",
       "min      1.000000    0.700000    0.000000    0.300000    1.600000\n",
       "25%     50.750000   74.375000    9.975000   12.750000   10.375000\n",
       "50%    100.500000  149.750000   22.900000   25.750000   12.900000\n",
       "75%    150.250000  218.825000   36.525000   45.100000   17.400000\n",
       "max    200.000000  296.400000   49.600000  114.000000   27.000000"
      ]
     },
     "execution_count": 82,
     "metadata": {},
     "output_type": "execute_result"
    }
   ],
   "source": [
    "# statistical values\n",
    "data.describe()"
   ]
  },
  {
   "cell_type": "markdown",
   "id": "2d8b7d7a",
   "metadata": {},
   "source": [
    "#### observation-\n",
    "- TV column shows it is well distributed for all quantile range\n",
    "- radio column it is well distributed for all quantile range\n",
    "- newspaper column the difference in 75% quantile range and 100%(max) is soo much soo there can be skewness\n",
    "- sales column it is target column so no changes for it.\n",
    "#### we will check the skewness for all the columns "
   ]
  },
  {
   "cell_type": "markdown",
   "id": "5aadd70c",
   "metadata": {},
   "source": [
    "## Data cleaning"
   ]
  },
  {
   "cell_type": "code",
   "execution_count": 83,
   "id": "1dd80312",
   "metadata": {},
   "outputs": [],
   "source": [
    "data.drop(columns=['Unnamed: 0'],inplace=True,axis=1)"
   ]
  },
  {
   "cell_type": "code",
   "execution_count": 84,
   "id": "53abce88",
   "metadata": {},
   "outputs": [
    {
     "data": {
      "text/html": [
       "<div>\n",
       "<style scoped>\n",
       "    .dataframe tbody tr th:only-of-type {\n",
       "        vertical-align: middle;\n",
       "    }\n",
       "\n",
       "    .dataframe tbody tr th {\n",
       "        vertical-align: top;\n",
       "    }\n",
       "\n",
       "    .dataframe thead th {\n",
       "        text-align: right;\n",
       "    }\n",
       "</style>\n",
       "<table border=\"1\" class=\"dataframe\">\n",
       "  <thead>\n",
       "    <tr style=\"text-align: right;\">\n",
       "      <th></th>\n",
       "      <th>TV</th>\n",
       "      <th>radio</th>\n",
       "      <th>newspaper</th>\n",
       "      <th>sales</th>\n",
       "    </tr>\n",
       "  </thead>\n",
       "  <tbody>\n",
       "    <tr>\n",
       "      <th>150</th>\n",
       "      <td>280.7</td>\n",
       "      <td>13.9</td>\n",
       "      <td>37.0</td>\n",
       "      <td>16.1</td>\n",
       "    </tr>\n",
       "    <tr>\n",
       "      <th>119</th>\n",
       "      <td>19.4</td>\n",
       "      <td>16.0</td>\n",
       "      <td>22.3</td>\n",
       "      <td>6.6</td>\n",
       "    </tr>\n",
       "    <tr>\n",
       "      <th>24</th>\n",
       "      <td>62.3</td>\n",
       "      <td>12.6</td>\n",
       "      <td>18.3</td>\n",
       "      <td>9.7</td>\n",
       "    </tr>\n",
       "    <tr>\n",
       "      <th>15</th>\n",
       "      <td>195.4</td>\n",
       "      <td>47.7</td>\n",
       "      <td>52.9</td>\n",
       "      <td>22.4</td>\n",
       "    </tr>\n",
       "    <tr>\n",
       "      <th>47</th>\n",
       "      <td>239.9</td>\n",
       "      <td>41.5</td>\n",
       "      <td>18.5</td>\n",
       "      <td>23.2</td>\n",
       "    </tr>\n",
       "  </tbody>\n",
       "</table>\n",
       "</div>"
      ],
      "text/plain": [
       "        TV  radio  newspaper  sales\n",
       "150  280.7   13.9       37.0   16.1\n",
       "119   19.4   16.0       22.3    6.6\n",
       "24    62.3   12.6       18.3    9.7\n",
       "15   195.4   47.7       52.9   22.4\n",
       "47   239.9   41.5       18.5   23.2"
      ]
     },
     "execution_count": 84,
     "metadata": {},
     "output_type": "execute_result"
    }
   ],
   "source": [
    "data.sample(5)"
   ]
  },
  {
   "cell_type": "markdown",
   "id": "88f6b155",
   "metadata": {},
   "source": [
    "## EDA(Exploratory data analysis)"
   ]
  },
  {
   "cell_type": "code",
   "execution_count": 85,
   "id": "66427f53",
   "metadata": {},
   "outputs": [],
   "source": [
    "import warnings \n",
    "warnings.filterwarnings('ignore')"
   ]
  },
  {
   "cell_type": "code",
   "execution_count": 86,
   "id": "c573b825",
   "metadata": {},
   "outputs": [
    {
     "data": {
      "image/png": "[encoded data removed]",
      "text/plain": [
       "<Figure size 1080x720 with 4 Axes>"
      ]
     },
     "metadata": {
      "needs_background": "light"
     },
     "output_type": "display_data"
    }
   ],
   "source": [
    "plt.figure(figsize=(15,10))\n",
    "plotnumber=1\n",
    "\n",
    "for column in data:\n",
    "    if plotnumber<=4: #as there are 12 columns in data\n",
    "        ax=plt.subplot(2,2,plotnumber)\n",
    "        sns.distplot(data[column])\n",
    "        plt.xlabel(column,fontsize=20)\n",
    "    plotnumber +=1\n",
    "plt.show()"
   ]
  },
  {
   "cell_type": "markdown",
   "id": "80d6698a",
   "metadata": {},
   "source": [
    "### there is skewness in all columns so it should be removed not for target column(sales)"
   ]
  },
  {
   "cell_type": "code",
   "execution_count": 87,
   "id": "c00be8d3",
   "metadata": {},
   "outputs": [
    {
     "data": {
      "text/plain": [
       "sales        1.000000\n",
       "TV           0.782224\n",
       "radio        0.576223\n",
       "newspaper    0.228299\n",
       "Name: sales, dtype: float64"
      ]
     },
     "execution_count": 87,
     "metadata": {},
     "output_type": "execute_result"
    }
   ],
   "source": [
    "data.corr()['sales'].sort_values(ascending=False)"
   ]
  },
  {
   "cell_type": "code",
   "execution_count": 88,
   "id": "83f25849",
   "metadata": {},
   "outputs": [
    {
     "data": {
      "text/plain": [
       "<AxesSubplot:title={'center':'Correlation with sales'}>"
      ]
     },
     "execution_count": 88,
     "metadata": {},
     "output_type": "execute_result"
    },
    {
     "data": {
      "image/png": "[encoded data removed]",
      "text/plain": [
       "<Figure size 504x504 with 1 Axes>"
      ]
     },
     "metadata": {
      "needs_background": "light"
     },
     "output_type": "display_data"
    }
   ],
   "source": [
    "# visualize the correlation\n",
    "data.drop('sales', axis =1).corrwith(data['sales']).plot(kind ='bar',grid = True, figsize = (7,7),\n",
    "                                                   title = 'Correlation with sales')"
   ]
  },
  {
   "cell_type": "markdown",
   "id": "4849ecff",
   "metadata": {},
   "source": [
    "##### As we can see by this,\n",
    "- TV column is having very good corelation\n",
    "- radio column is having good corelation\n",
    "- newspaper column is having week among all other columns"
   ]
  },
  {
   "cell_type": "code",
   "execution_count": 89,
   "id": "9f7ca122",
   "metadata": {},
   "outputs": [
    {
     "data": {
      "text/plain": [
       "<function matplotlib.pyplot.show(close=None, block=None)>"
      ]
     },
     "execution_count": 89,
     "metadata": {},
     "output_type": "execute_result"
    },
    {
     "data": {
      "image/png": "[encoded data removed]",
      "text/plain": [
       "<Figure size 360x360 with 2 Axes>"
      ]
     },
     "metadata": {
      "needs_background": "light"
     },
     "output_type": "display_data"
    }
   ],
   "source": [
    "### plotting heatmap\n",
    "plt.figure(figsize=(5,5))\n",
    "sns.heatmap(data.corr(),annot=True)\n",
    "plt.show"
   ]
  },
  {
   "cell_type": "markdown",
   "id": "e1f7f949",
   "metadata": {},
   "source": [
    "#### The lmplot is used to plot scatter plots with regression lines on FacetGrid objects"
   ]
  },
  {
   "cell_type": "code",
   "execution_count": 90,
   "id": "ecabb0a3",
   "metadata": {},
   "outputs": [
    {
     "data": {
      "text/plain": [
       "<seaborn.axisgrid.FacetGrid at 0x1d55fba19a0>"
      ]
     },
     "execution_count": 90,
     "metadata": {},
     "output_type": "execute_result"
    },
    {
     "data": {
      "image/png": "[encoded data removed]",
      "text/plain": [
       "<Figure size 360x360 with 1 Axes>"
      ]
     },
     "metadata": {
      "needs_background": "light"
     },
     "output_type": "display_data"
    }
   ],
   "source": [
    "sns.lmplot(y='TV',x='newspaper',data=data)"
   ]
  },
  {
   "cell_type": "code",
   "execution_count": 91,
   "id": "b47b2c1e",
   "metadata": {},
   "outputs": [
    {
     "data": {
      "text/plain": [
       "<seaborn.axisgrid.FacetGrid at 0x1d55fc34a30>"
      ]
     },
     "execution_count": 91,
     "metadata": {},
     "output_type": "execute_result"
    },
    {
     "data": {
      "image/png": "[encoded data removed]",
      "text/plain": [
       "<Figure size 360x360 with 1 Axes>"
      ]
     },
     "metadata": {
      "needs_background": "light"
     },
     "output_type": "display_data"
    }
   ],
   "source": [
    "sns.lmplot(y='TV',x='radio',data=data)"
   ]
  },
  {
   "cell_type": "markdown",
   "id": "c7a27c1a",
   "metadata": {},
   "source": [
    "###### as we can see they are having no corelation and trend as they are having very random best fit line"
   ]
  },
  {
   "cell_type": "markdown",
   "id": "a1d7e64c",
   "metadata": {},
   "source": [
    "### checking for outliers"
   ]
  },
  {
   "cell_type": "code",
   "execution_count": 92,
   "id": "8d7c94a4",
   "metadata": {},
   "outputs": [
    {
     "data": {
      "image/png": "[encoded data removed]",
      "text/plain": [
       "<Figure size 1440x1296 with 4 Axes>"
      ]
     },
     "metadata": {
      "needs_background": "light"
     },
     "output_type": "display_data"
    }
   ],
   "source": [
    "plt.figure(figsize=(20,18))\n",
    "graph=1\n",
    "\n",
    "for column in data:\n",
    "    if graph<=9:\n",
    "        ax=plt.subplot(3,3,graph)\n",
    "        sns.boxplot(data = data[column],orient=\"v\")\n",
    "        plt.xlabel(column,fontsize=10)\n",
    "    graph+=1\n",
    "plt.show()"
   ]
  },
  {
   "cell_type": "markdown",
   "id": "9e70ed9a",
   "metadata": {},
   "source": [
    "- seems only newspaper column are having outliers but it is close to wiskers.\n",
    "soo,\n",
    "it will not impact much and after normalization it will not have outliers"
   ]
  },
  {
   "cell_type": "markdown",
   "id": "cbadf4e8",
   "metadata": {},
   "source": [
    "### Data normalization\n",
    "##### Removing skewness(power transformer)"
   ]
  },
  {
   "cell_type": "code",
   "execution_count": 93,
   "id": "5c7d5a98",
   "metadata": {},
   "outputs": [
    {
     "data": {
      "text/html": [
       "<div>\n",
       "<style scoped>\n",
       "    .dataframe tbody tr th:only-of-type {\n",
       "        vertical-align: middle;\n",
       "    }\n",
       "\n",
       "    .dataframe tbody tr th {\n",
       "        vertical-align: top;\n",
       "    }\n",
       "\n",
       "    .dataframe thead th {\n",
       "        text-align: right;\n",
       "    }\n",
       "</style>\n",
       "<table border=\"1\" class=\"dataframe\">\n",
       "  <thead>\n",
       "    <tr style=\"text-align: right;\">\n",
       "      <th></th>\n",
       "      <th>TV</th>\n",
       "      <th>radio</th>\n",
       "      <th>newspaper</th>\n",
       "      <th>sales</th>\n",
       "    </tr>\n",
       "  </thead>\n",
       "  <tbody>\n",
       "    <tr>\n",
       "      <th>0</th>\n",
       "      <td>0.948674</td>\n",
       "      <td>0.962247</td>\n",
       "      <td>1.514335</td>\n",
       "      <td>22.1</td>\n",
       "    </tr>\n",
       "    <tr>\n",
       "      <th>1</th>\n",
       "      <td>-1.191314</td>\n",
       "      <td>1.040179</td>\n",
       "      <td>0.787683</td>\n",
       "      <td>10.4</td>\n",
       "    </tr>\n",
       "    <tr>\n",
       "      <th>2</th>\n",
       "      <td>-1.647757</td>\n",
       "      <td>1.370710</td>\n",
       "      <td>1.516998</td>\n",
       "      <td>9.3</td>\n",
       "    </tr>\n",
       "    <tr>\n",
       "      <th>3</th>\n",
       "      <td>0.141020</td>\n",
       "      <td>1.142387</td>\n",
       "      <td>1.214656</td>\n",
       "      <td>18.5</td>\n",
       "    </tr>\n",
       "    <tr>\n",
       "      <th>4</th>\n",
       "      <td>0.452715</td>\n",
       "      <td>-0.748651</td>\n",
       "      <td>1.211704</td>\n",
       "      <td>12.9</td>\n",
       "    </tr>\n",
       "  </tbody>\n",
       "</table>\n",
       "</div>"
      ],
      "text/plain": [
       "         TV     radio  newspaper  sales\n",
       "0  0.948674  0.962247   1.514335   22.1\n",
       "1 -1.191314  1.040179   0.787683   10.4\n",
       "2 -1.647757  1.370710   1.516998    9.3\n",
       "3  0.141020  1.142387   1.214656   18.5\n",
       "4  0.452715 -0.748651   1.211704   12.9"
      ]
     },
     "execution_count": 93,
     "metadata": {},
     "output_type": "execute_result"
    }
   ],
   "source": [
    "features = ['TV','radio','newspaper']\n",
    "from sklearn.preprocessing import PowerTransformer\n",
    "pt = PowerTransformer()\n",
    "data[features]  = pt.fit_transform(data[features].values)\n",
    "data.head()"
   ]
  },
  {
   "cell_type": "code",
   "execution_count": 94,
   "id": "aad4fbe4",
   "metadata": {},
   "outputs": [
    {
     "data": {
      "image/png": "[encoded data removed]",
      "text/plain": [
       "<Figure size 1296x576 with 4 Axes>"
      ]
     },
     "metadata": {
      "needs_background": "light"
     },
     "output_type": "display_data"
    }
   ],
   "source": [
    "plt.figure(figsize=(18,8))\n",
    "plotnumber=1\n",
    "\n",
    "for column in data:\n",
    "    if plotnumber<=4: #as there are 12 columns in data\n",
    "        ax=plt.subplot(1,4,plotnumber)\n",
    "        sns.distplot(data[column])\n",
    "        plt.xlabel(column,fontsize=10)\n",
    "    plotnumber +=1\n",
    "plt.show()"
   ]
  },
  {
   "cell_type": "markdown",
   "id": "977ae348",
   "metadata": {},
   "source": [
    "### data standardization"
   ]
  },
  {
   "cell_type": "code",
   "execution_count": 95,
   "id": "b5ec0ec7",
   "metadata": {},
   "outputs": [],
   "source": [
    "X = data.drop(columns = ['sales'],axis=1)\n",
    "y = data['sales']"
   ]
  },
  {
   "cell_type": "code",
   "execution_count": 96,
   "id": "c5d9543c",
   "metadata": {},
   "outputs": [],
   "source": [
    "from sklearn.preprocessing import StandardScaler"
   ]
  },
  {
   "cell_type": "code",
   "execution_count": 97,
   "id": "5ce54202",
   "metadata": {},
   "outputs": [
    {
     "data": {
      "text/plain": [
       "array([-1.19131426,  1.0401788 ,  0.78768252])"
      ]
     },
     "execution_count": 97,
     "metadata": {},
     "output_type": "execute_result"
    }
   ],
   "source": [
    "scaler=StandardScaler()\n",
    "X_scaled=scaler.fit_transform(X)\n",
    "X_scaled[1]"
   ]
  },
  {
   "cell_type": "markdown",
   "id": "4b999fcc",
   "metadata": {},
   "source": [
    "#### Checking for variance influence factor(vif) "
   ]
  },
  {
   "cell_type": "code",
   "execution_count": 98,
   "id": "959c4cae",
   "metadata": {},
   "outputs": [],
   "source": [
    "from statsmodels.stats.outliers_influence import variance_inflation_factor"
   ]
  },
  {
   "cell_type": "code",
   "execution_count": 99,
   "id": "bf3fc84f",
   "metadata": {},
   "outputs": [
    {
     "data": {
      "text/html": [
       "<div>\n",
       "<style scoped>\n",
       "    .dataframe tbody tr th:only-of-type {\n",
       "        vertical-align: middle;\n",
       "    }\n",
       "\n",
       "    .dataframe tbody tr th {\n",
       "        vertical-align: top;\n",
       "    }\n",
       "\n",
       "    .dataframe thead th {\n",
       "        text-align: right;\n",
       "    }\n",
       "</style>\n",
       "<table border=\"1\" class=\"dataframe\">\n",
       "  <thead>\n",
       "    <tr style=\"text-align: right;\">\n",
       "      <th></th>\n",
       "      <th>vif</th>\n",
       "      <th>Features</th>\n",
       "    </tr>\n",
       "  </thead>\n",
       "  <tbody>\n",
       "    <tr>\n",
       "      <th>0</th>\n",
       "      <td>1.003112</td>\n",
       "      <td>TV</td>\n",
       "    </tr>\n",
       "    <tr>\n",
       "      <th>1</th>\n",
       "      <td>1.094332</td>\n",
       "      <td>radio</td>\n",
       "    </tr>\n",
       "    <tr>\n",
       "      <th>2</th>\n",
       "      <td>1.093766</td>\n",
       "      <td>newspaper</td>\n",
       "    </tr>\n",
       "  </tbody>\n",
       "</table>\n",
       "</div>"
      ],
      "text/plain": [
       "        vif   Features\n",
       "0  1.003112         TV\n",
       "1  1.094332      radio\n",
       "2  1.093766  newspaper"
      ]
     },
     "execution_count": 99,
     "metadata": {},
     "output_type": "execute_result"
    }
   ],
   "source": [
    "vif=pd.DataFrame()\n",
    "vif[\"vif\"]=[variance_inflation_factor(X_scaled,i) for i in range(X_scaled.shape[1])]\n",
    "vif[\"Features\"]=X.columns\n",
    "\n",
    "# lets check the vif\n",
    "vif"
   ]
  },
  {
   "cell_type": "markdown",
   "id": "e1355984",
   "metadata": {},
   "source": [
    "##### it seems there is no multicolinearity problem in this "
   ]
  },
  {
   "cell_type": "code",
   "execution_count": 100,
   "id": "3759608d",
   "metadata": {},
   "outputs": [],
   "source": [
    "from sklearn.linear_model import LinearRegression\n",
    "lr = LinearRegression()\n",
    "from sklearn.metrics import r2_score\n",
    "from sklearn.model_selection import train_test_split"
   ]
  },
  {
   "cell_type": "code",
   "execution_count": 101,
   "id": "f7aae368",
   "metadata": {},
   "outputs": [
    {
     "name": "stdout",
     "output_type": "stream",
     "text": [
      "At random state 203 model perform very well\n",
      "At random state 203\n",
      "Training accuracy score is 90.69383929212164\n",
      "Testing accuracy score is 90.650803218975\n",
      "At random state 330 model perform very well\n",
      "At random state 330\n",
      "Training accuracy score is 90.65949346715982\n",
      "Testing accuracy score is 90.6846813755211\n",
      "At random state 374 model perform very well\n",
      "At random state 374\n",
      "Training accuracy score is 90.68792988449351\n",
      "Testing accuracy score is 90.66686787438638\n",
      "At random state 422 model perform very well\n",
      "At random state 422\n",
      "Training accuracy score is 90.44682651704473\n",
      "Testing accuracy score is 90.44496504975903\n",
      "At random state 446 model perform very well\n",
      "At random state 446\n",
      "Training accuracy score is 90.63652133282854\n",
      "Testing accuracy score is 90.58659692857537\n",
      "At random state 480 model perform very well\n",
      "At random state 480\n",
      "Training accuracy score is 90.74504561185137\n",
      "Testing accuracy score is 90.65888442904638\n",
      "At random state 588 model perform very well\n",
      "At random state 588\n",
      "Training accuracy score is 90.70437884751361\n",
      "Testing accuracy score is 90.66805284014902\n",
      "At random state 609 model perform very well\n",
      "At random state 609\n",
      "Training accuracy score is 90.71854153743205\n",
      "Testing accuracy score is 90.68657274230874\n",
      "At random state 640 model perform very well\n",
      "At random state 640\n",
      "Training accuracy score is 90.66868942702447\n",
      "Testing accuracy score is 90.67178148626319\n",
      "At random state 655 model perform very well\n",
      "At random state 655\n",
      "Training accuracy score is 90.67804910643544\n",
      "Testing accuracy score is 90.73187638783071\n",
      "At random state 688 model perform very well\n",
      "At random state 688\n",
      "Training accuracy score is 90.56920817140005\n",
      "Testing accuracy score is 90.61438081693076\n",
      "At random state 701 model perform very well\n",
      "At random state 701\n",
      "Training accuracy score is 90.69560585110997\n",
      "Testing accuracy score is 90.69330929738626\n",
      "At random state 739 model perform very well\n",
      "At random state 739\n",
      "Training accuracy score is 90.65039617116099\n",
      "Testing accuracy score is 90.73680258737508\n",
      "At random state 807 model perform very well\n",
      "At random state 807\n",
      "Training accuracy score is 90.61565042764433\n",
      "Testing accuracy score is 90.58675976567262\n",
      "At random state 837 model perform very well\n",
      "At random state 837\n",
      "Training accuracy score is 90.43947531493389\n",
      "Testing accuracy score is 90.44671521383026\n",
      "At random state 840 model perform very well\n",
      "At random state 840\n",
      "Training accuracy score is 90.55705850544726\n",
      "Testing accuracy score is 90.56106776978991\n",
      "At random state 907 model perform very well\n",
      "At random state 907\n",
      "Training accuracy score is 90.65084922521027\n",
      "Testing accuracy score is 90.7227899601845\n",
      "At random state 999 model perform very well\n",
      "At random state 999\n",
      "Training accuracy score is 90.48178199933129\n",
      "Testing accuracy score is 90.48357980776764\n"
     ]
    }
   ],
   "source": [
    "for i in range(0,1000):\n",
    "    x_train,x_test,y_train,y_test = train_test_split(X,y,test_size=0.20,random_state = i)\n",
    "    lr.fit(x_train,y_train)\n",
    "    pred_train = lr.predict(x_train) \n",
    "    pred_test = lr.predict(x_test)\n",
    "    if round(r2_score(y_train,pred_train)*100,1) == round(r2_score(y_test,pred_test)*100,1):\n",
    "        print(\"At random state\",i,\"model perform very well\")\n",
    "        print(\"At random state\",i)\n",
    "        print('Training accuracy score is',r2_score(y_train,pred_train)*100)\n",
    "        print('Testing accuracy score is',r2_score(y_test,pred_test)*100)"
   ]
  },
  {
   "cell_type": "code",
   "execution_count": 102,
   "id": "7b1beff4",
   "metadata": {},
   "outputs": [],
   "source": [
    "### random state = 907 is taken "
   ]
  },
  {
   "cell_type": "markdown",
   "id": "bf7515b1",
   "metadata": {},
   "source": [
    "Mean absolute error - The mean absolute error is the average of all absolute errors of the data collected. It is abbreviated as MAE (Mean Absolute Error). It is obtained by dividing the sum of all the absolute errors with the number of errors."
   ]
  },
  {
   "cell_type": "code",
   "execution_count": 103,
   "id": "8e0a6517",
   "metadata": {},
   "outputs": [],
   "source": [
    "from sklearn.model_selection import train_test_split\n",
    "x_train,x_test,y_train,y_test = train_test_split(X,y,test_size=0.20,random_state=907)"
   ]
  },
  {
   "cell_type": "code",
   "execution_count": 104,
   "id": "b7c0cfb3",
   "metadata": {},
   "outputs": [
    {
     "name": "stdout",
     "output_type": "stream",
     "text": [
      "90.7227899601845\n",
      "1.2202921349669416\n"
     ]
    }
   ],
   "source": [
    "from sklearn.linear_model import LinearRegression\n",
    "from sklearn.metrics import mean_absolute_error\n",
    "lr = LinearRegression()\n",
    "lr.fit(x_train,y_train)\n",
    "pred = lr.predict(x_test)\n",
    "print(r2_score(y_test,pred)*100)\n",
    "print(mean_absolute_error(y_test,pred))"
   ]
  },
  {
   "cell_type": "code",
   "execution_count": 105,
   "id": "437d2d2a",
   "metadata": {},
   "outputs": [
    {
     "name": "stdout",
     "output_type": "stream",
     "text": [
      "86.08595778602778\n",
      "1.3566607031663653\n"
     ]
    }
   ],
   "source": [
    "from sklearn.linear_model import Lasso\n",
    "from sklearn.metrics import mean_absolute_error\n",
    "las = Lasso()\n",
    "las.fit(x_train,y_train)\n",
    "pred = las.predict(x_test)\n",
    "print(r2_score(y_test,pred)*100)\n",
    "print(mean_absolute_error(y_test,pred))"
   ]
  },
  {
   "cell_type": "code",
   "execution_count": 112,
   "id": "bf6477ce",
   "metadata": {},
   "outputs": [
    {
     "name": "stdout",
     "output_type": "stream",
     "text": [
      "90.8105280115\n",
      "1.2180173675528025\n"
     ]
    }
   ],
   "source": [
    "from sklearn.linear_model import Ridge\n",
    "from sklearn.metrics import mean_absolute_error\n",
    "ridge = Ridge()\n",
    "ridge.fit(x_train,y_train)\n",
    "pred = ridge.predict(x_test)\n",
    "print(r2_score(y_test,pred)*100)\n",
    "print(mean_absolute_error(y_test,pred))"
   ]
  },
  {
   "cell_type": "code",
   "execution_count": 106,
   "id": "f082c147",
   "metadata": {},
   "outputs": [
    {
     "name": "stdout",
     "output_type": "stream",
     "text": [
      "97.74619806083744\n",
      "0.6103249999999983\n"
     ]
    }
   ],
   "source": [
    "from sklearn.ensemble import RandomForestRegressor\n",
    "rf = RandomForestRegressor()\n",
    "rf.fit(x_train,y_train)\n",
    "pred = rf.predict(x_test)\n",
    "print(r2_score(y_test,pred)*100)\n",
    "print(mean_absolute_error(y_test,pred))"
   ]
  },
  {
   "cell_type": "code",
   "execution_count": 108,
   "id": "171f2a0a",
   "metadata": {},
   "outputs": [
    {
     "name": "stdout",
     "output_type": "stream",
     "text": [
      "97.69349229424517\n",
      "0.597001580550125\n"
     ]
    }
   ],
   "source": [
    "from sklearn.ensemble import GradientBoostingRegressor\n",
    "gb = GradientBoostingRegressor()\n",
    "gb.fit(x_train,y_train)\n",
    "pred = gb.predict(x_test)\n",
    "print(r2_score(y_test,pred)*100)\n",
    "print(mean_absolute_error(y_test,pred))"
   ]
  },
  {
   "cell_type": "code",
   "execution_count": 109,
   "id": "def0886d",
   "metadata": {},
   "outputs": [
    {
     "name": "stdout",
     "output_type": "stream",
     "text": [
      "97.70408250383308\n",
      "0.5949920791274351\n"
     ]
    }
   ],
   "source": [
    "from xgboost import XGBRegressor\n",
    "xgbt = GradientBoostingRegressor()\n",
    "xgbt.fit(x_train,y_train)\n",
    "pred = xgbt.predict(x_test)\n",
    "print(r2_score(y_test,pred)*100)\n",
    "print(mean_absolute_error(y_test,pred))"
   ]
  },
  {
   "cell_type": "code",
   "execution_count": 114,
   "id": "30e9b0a8",
   "metadata": {},
   "outputs": [
    {
     "name": "stdout",
     "output_type": "stream",
     "text": [
      "92.60684286175973\n",
      "0.8526560303753381\n"
     ]
    }
   ],
   "source": [
    "from sklearn.svm import SVR\n",
    "svr = SVR()\n",
    "svr.fit(x_train,y_train)\n",
    "pred_svr = svr.predict(x_test)\n",
    "print(r2_score(y_test,pred_svr)*100)\n",
    "print(mean_absolute_error(y_test,pred_svr))"
   ]
  },
  {
   "cell_type": "markdown",
   "id": "a9c7eb16",
   "metadata": {},
   "source": [
    "### cross validation "
   ]
  },
  {
   "cell_type": "code",
   "execution_count": 117,
   "id": "c35398da",
   "metadata": {},
   "outputs": [
    {
     "name": "stdout",
     "output_type": "stream",
     "text": [
      "Cross validation score of linear regression model is 89.78060430607071\n"
     ]
    }
   ],
   "source": [
    "from sklearn.model_selection import cross_val_score\n",
    "scr = cross_val_score(lr, X, y, cv=5)\n",
    "print(\"Cross validation score of linear regression model is\",scr.mean()*100)"
   ]
  },
  {
   "cell_type": "code",
   "execution_count": 118,
   "id": "e1ed28c1",
   "metadata": {},
   "outputs": [
    {
     "name": "stdout",
     "output_type": "stream",
     "text": [
      "Cross validation score of lasso model is 82.70960357806553\n"
     ]
    }
   ],
   "source": [
    "from sklearn.model_selection import cross_val_score\n",
    "scr = cross_val_score(las, X, y, cv=5)\n",
    "print(\"Cross validation score of lasso model is\",scr.mean()*100)"
   ]
  },
  {
   "cell_type": "code",
   "execution_count": 119,
   "id": "feb14e1c",
   "metadata": {},
   "outputs": [
    {
     "name": "stdout",
     "output_type": "stream",
     "text": [
      "Cross validation score of ridge model is 89.78620959324853\n"
     ]
    }
   ],
   "source": [
    "from sklearn.model_selection import cross_val_score\n",
    "scr = cross_val_score(ridge, X, y, cv=5)\n",
    "print(\"Cross validation score of ridge model is\",scr.mean()*100)"
   ]
  },
  {
   "cell_type": "code",
   "execution_count": 121,
   "id": "f1bf73cb",
   "metadata": {},
   "outputs": [
    {
     "name": "stdout",
     "output_type": "stream",
     "text": [
      "Cross validation score of Random forest model is 97.54247375721819\n"
     ]
    }
   ],
   "source": [
    "from sklearn.model_selection import cross_val_score\n",
    "scr = cross_val_score(rf, X, y, cv=5)\n",
    "print(\"Cross validation score of Random forest model is\",scr.mean()*100)"
   ]
  },
  {
   "cell_type": "code",
   "execution_count": 122,
   "id": "ea50b56d",
   "metadata": {},
   "outputs": [
    {
     "name": "stdout",
     "output_type": "stream",
     "text": [
      "Cross validation score of Gradient boosting model is 97.75796738021599\n"
     ]
    }
   ],
   "source": [
    "from sklearn.model_selection import cross_val_score\n",
    "scr = cross_val_score(gb, X, y, cv=5)\n",
    "print(\"Cross validation score of Gradient boosting model is\",scr.mean()*100)"
   ]
  },
  {
   "cell_type": "code",
   "execution_count": 123,
   "id": "729de043",
   "metadata": {},
   "outputs": [
    {
     "name": "stdout",
     "output_type": "stream",
     "text": [
      "Cross validation score of xtreme Gradient boosting model is 97.77261510143698\n"
     ]
    }
   ],
   "source": [
    "from sklearn.model_selection import cross_val_score\n",
    "scr = cross_val_score(xgbt, X, y, cv=5)\n",
    "print(\"Cross validation score of xtreme Gradient boosting model is\",scr.mean()*100)"
   ]
  },
  {
   "cell_type": "code",
   "execution_count": 124,
   "id": "5de5c7c5",
   "metadata": {},
   "outputs": [
    {
     "name": "stdout",
     "output_type": "stream",
     "text": [
      "Cross validation score of support vector machine model is 91.71386899137437\n"
     ]
    }
   ],
   "source": [
    "from sklearn.model_selection import cross_val_score\n",
    "scr = cross_val_score(svr, X, y, cv=5)\n",
    "print(\"Cross validation score of support vector machine model is\",scr.mean()*100)"
   ]
  },
  {
   "cell_type": "markdown",
   "id": "46a33174",
   "metadata": {},
   "source": [
    "#### by cross validation we will select the model,  Xtreme gradient boosting"
   ]
  },
  {
   "cell_type": "markdown",
   "id": "5a0d3ee1",
   "metadata": {},
   "source": [
    "### hyper parameter tuning\n",
    "Gridsearchcv for xgboost"
   ]
  },
  {
   "cell_type": "code",
   "execution_count": 158,
   "id": "199c058d",
   "metadata": {},
   "outputs": [
    {
     "name": "stdout",
     "output_type": "stream",
     "text": [
      "GradientBoostingRegressor(alpha=0.5, max_depth=2, n_estimators=19)\n",
      "\n",
      "R2_score => \n",
      " 0.9795411680266187\n",
      "\n",
      "mean absolute error => \n",
      " 0.5876384737914842\n"
     ]
    }
   ],
   "source": [
    "from xgboost import XGBRegressor\n",
    "from sklearn.model_selection import GridSearchCV\n",
    "\n",
    "params = {'learning_rate':np.arange(0.1,0.35,0.1),\n",
    "          'n_estimators':range(19,24,2),\n",
    "        'max_depth':range(2,8,2),\n",
    "          'alpha':np.arange(0.5,0.9,0.1)\n",
    "         }\n",
    "GCV = GridSearchCV(gb,params,cv=5,scoring='accuracy')\n",
    "\n",
    "GCV.fit(x_train,y_train)  #fitting the data in model\n",
    "GCV.best_params_          #printing the best parameter found by Gridsearchcv\n",
    "GCV_pred = GCV.best_estimator_.predict(x_test) #predicting with best parameter \n",
    "print(GCV.best_estimator_)        \n",
    "#checking final accuracy\n",
    "print('\\nR2_score =>','\\n',r2_score(y_test,y_pred))\n",
    "print('\\nmean absolute error =>','\\n',mean_absolute_error(y_test,y_pred))"
   ]
  },
  {
   "cell_type": "markdown",
   "id": "acca022b",
   "metadata": {},
   "source": [
    "### we have increase the accuracy and reduces the error"
   ]
  },
  {
   "cell_type": "code",
   "execution_count": 159,
   "id": "3073b555",
   "metadata": {},
   "outputs": [
    {
     "data": {
      "text/plain": [
       "['Advertising.pkl']"
      ]
     },
     "execution_count": 159,
     "metadata": {},
     "output_type": "execute_result"
    }
   ],
   "source": [
    "import joblib\n",
    "joblib.dump(GCV.best_estimator_,'Advertising.pkl')"
   ]
  },
  {
   "cell_type": "code",
   "execution_count": 161,
   "id": "b8733589",
   "metadata": {},
   "outputs": [
    {
     "data": {
      "text/html": [
       "<div>\n",
       "<style scoped>\n",
       "    .dataframe tbody tr th:only-of-type {\n",
       "        vertical-align: middle;\n",
       "    }\n",
       "\n",
       "    .dataframe tbody tr th {\n",
       "        vertical-align: top;\n",
       "    }\n",
       "\n",
       "    .dataframe thead th {\n",
       "        text-align: right;\n",
       "    }\n",
       "</style>\n",
       "<table border=\"1\" class=\"dataframe\">\n",
       "  <thead>\n",
       "    <tr style=\"text-align: right;\">\n",
       "      <th></th>\n",
       "      <th>predicted</th>\n",
       "    </tr>\n",
       "  </thead>\n",
       "  <tbody>\n",
       "    <tr>\n",
       "      <th>0</th>\n",
       "      <td>7.549073</td>\n",
       "    </tr>\n",
       "    <tr>\n",
       "      <th>1</th>\n",
       "      <td>11.953610</td>\n",
       "    </tr>\n",
       "    <tr>\n",
       "      <th>2</th>\n",
       "      <td>11.253251</td>\n",
       "    </tr>\n",
       "    <tr>\n",
       "      <th>3</th>\n",
       "      <td>21.611195</td>\n",
       "    </tr>\n",
       "    <tr>\n",
       "      <th>4</th>\n",
       "      <td>16.694383</td>\n",
       "    </tr>\n",
       "    <tr>\n",
       "      <th>5</th>\n",
       "      <td>10.010501</td>\n",
       "    </tr>\n",
       "    <tr>\n",
       "      <th>6</th>\n",
       "      <td>13.511124</td>\n",
       "    </tr>\n",
       "    <tr>\n",
       "      <th>7</th>\n",
       "      <td>11.253251</td>\n",
       "    </tr>\n",
       "    <tr>\n",
       "      <th>8</th>\n",
       "      <td>11.942084</td>\n",
       "    </tr>\n",
       "    <tr>\n",
       "      <th>9</th>\n",
       "      <td>12.839054</td>\n",
       "    </tr>\n",
       "    <tr>\n",
       "      <th>10</th>\n",
       "      <td>12.839054</td>\n",
       "    </tr>\n",
       "    <tr>\n",
       "      <th>11</th>\n",
       "      <td>10.834434</td>\n",
       "    </tr>\n",
       "    <tr>\n",
       "      <th>12</th>\n",
       "      <td>17.993733</td>\n",
       "    </tr>\n",
       "    <tr>\n",
       "      <th>13</th>\n",
       "      <td>21.611195</td>\n",
       "    </tr>\n",
       "    <tr>\n",
       "      <th>14</th>\n",
       "      <td>15.221069</td>\n",
       "    </tr>\n",
       "    <tr>\n",
       "      <th>15</th>\n",
       "      <td>20.216357</td>\n",
       "    </tr>\n",
       "    <tr>\n",
       "      <th>16</th>\n",
       "      <td>10.010501</td>\n",
       "    </tr>\n",
       "    <tr>\n",
       "      <th>17</th>\n",
       "      <td>10.834434</td>\n",
       "    </tr>\n",
       "    <tr>\n",
       "      <th>18</th>\n",
       "      <td>12.729195</td>\n",
       "    </tr>\n",
       "    <tr>\n",
       "      <th>19</th>\n",
       "      <td>13.353316</td>\n",
       "    </tr>\n",
       "    <tr>\n",
       "      <th>20</th>\n",
       "      <td>18.530633</td>\n",
       "    </tr>\n",
       "    <tr>\n",
       "      <th>21</th>\n",
       "      <td>21.611195</td>\n",
       "    </tr>\n",
       "    <tr>\n",
       "      <th>22</th>\n",
       "      <td>11.253251</td>\n",
       "    </tr>\n",
       "    <tr>\n",
       "      <th>23</th>\n",
       "      <td>11.953610</td>\n",
       "    </tr>\n",
       "    <tr>\n",
       "      <th>24</th>\n",
       "      <td>10.448191</td>\n",
       "    </tr>\n",
       "    <tr>\n",
       "      <th>25</th>\n",
       "      <td>16.694383</td>\n",
       "    </tr>\n",
       "    <tr>\n",
       "      <th>26</th>\n",
       "      <td>11.253251</td>\n",
       "    </tr>\n",
       "    <tr>\n",
       "      <th>27</th>\n",
       "      <td>11.253251</td>\n",
       "    </tr>\n",
       "    <tr>\n",
       "      <th>28</th>\n",
       "      <td>13.056469</td>\n",
       "    </tr>\n",
       "    <tr>\n",
       "      <th>29</th>\n",
       "      <td>20.216357</td>\n",
       "    </tr>\n",
       "    <tr>\n",
       "      <th>30</th>\n",
       "      <td>8.846707</td>\n",
       "    </tr>\n",
       "    <tr>\n",
       "      <th>31</th>\n",
       "      <td>13.056469</td>\n",
       "    </tr>\n",
       "    <tr>\n",
       "      <th>32</th>\n",
       "      <td>12.729195</td>\n",
       "    </tr>\n",
       "    <tr>\n",
       "      <th>33</th>\n",
       "      <td>8.214599</td>\n",
       "    </tr>\n",
       "    <tr>\n",
       "      <th>34</th>\n",
       "      <td>13.052237</td>\n",
       "    </tr>\n",
       "    <tr>\n",
       "      <th>35</th>\n",
       "      <td>16.694383</td>\n",
       "    </tr>\n",
       "    <tr>\n",
       "      <th>36</th>\n",
       "      <td>12.910744</td>\n",
       "    </tr>\n",
       "    <tr>\n",
       "      <th>37</th>\n",
       "      <td>15.221069</td>\n",
       "    </tr>\n",
       "    <tr>\n",
       "      <th>38</th>\n",
       "      <td>11.942084</td>\n",
       "    </tr>\n",
       "    <tr>\n",
       "      <th>39</th>\n",
       "      <td>14.492877</td>\n",
       "    </tr>\n",
       "  </tbody>\n",
       "</table>\n",
       "</div>"
      ],
      "text/plain": [
       "    predicted\n",
       "0    7.549073\n",
       "1   11.953610\n",
       "2   11.253251\n",
       "3   21.611195\n",
       "4   16.694383\n",
       "5   10.010501\n",
       "6   13.511124\n",
       "7   11.253251\n",
       "8   11.942084\n",
       "9   12.839054\n",
       "10  12.839054\n",
       "11  10.834434\n",
       "12  17.993733\n",
       "13  21.611195\n",
       "14  15.221069\n",
       "15  20.216357\n",
       "16  10.010501\n",
       "17  10.834434\n",
       "18  12.729195\n",
       "19  13.353316\n",
       "20  18.530633\n",
       "21  21.611195\n",
       "22  11.253251\n",
       "23  11.953610\n",
       "24  10.448191\n",
       "25  16.694383\n",
       "26  11.253251\n",
       "27  11.253251\n",
       "28  13.056469\n",
       "29  20.216357\n",
       "30   8.846707\n",
       "31  13.056469\n",
       "32  12.729195\n",
       "33   8.214599\n",
       "34  13.052237\n",
       "35  16.694383\n",
       "36  12.910744\n",
       "37  15.221069\n",
       "38  11.942084\n",
       "39  14.492877"
      ]
     },
     "execution_count": 161,
     "metadata": {},
     "output_type": "execute_result"
    }
   ],
   "source": [
    "model=joblib.load(\"E:\\Datatrained projects\\Datatrained-projects\\Advertising Sales Channel Prediction\\Advertising.pkl\")\n",
    "y_preds=model.predict(x_test)\n",
    "predicted=pd.DataFrame(y_preds,columns=['predicted'])\n",
    "predicted"
   ]
  },
  {
   "cell_type": "code",
   "execution_count": null,
   "id": "f6744738",
   "metadata": {},
   "outputs": [],
   "source": []
  }
 ],
 "metadata": {
  "kernelspec": {
   "display_name": "Python 3",
   "language": "python",
   "name": "python3"
  },
  "language_info": {
   "codemirror_mode": {
    "name": "ipython",
    "version": 3
   },
   "file_extension": ".py",
   "mimetype": "text/x-python",
   "name": "python",
   "nbconvert_exporter": "python",
   "pygments_lexer": "ipython3",
   "version": "3.8.8"
  }
 },
 "nbformat": 4,
 "nbformat_minor": 5
}
