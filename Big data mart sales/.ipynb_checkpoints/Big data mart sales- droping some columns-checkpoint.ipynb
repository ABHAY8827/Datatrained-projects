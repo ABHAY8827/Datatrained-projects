{
 "cells": [
  {
   "cell_type": "markdown",
   "id": "60b78976",
   "metadata": {},
   "source": [
    "## Task"
   ]
  },
  {
   "cell_type": "markdown",
   "id": "85b4bffa",
   "metadata": {},
   "source": [
    "The data scientists at BigMart have collected 2013 sales data for 1559 products across 10 stores in different cities. Also, certain attributes of each product and store have been defined. The aim is to build a predictive model and find out the sales of each product at a particular store.\n",
    "\n",
    "Using this model, BigMart will try to understand the properties of products and stores which play a key role in increasing the sales of their products."
   ]
  },
  {
   "cell_type": "markdown",
   "id": "788e2569",
   "metadata": {},
   "source": [
    "#### importing important libraries"
   ]
  },
  {
   "cell_type": "code",
   "execution_count": 415,
   "id": "e82902a8",
   "metadata": {},
   "outputs": [],
   "source": [
    "import pandas as pd\n",
    "import numpy as np\n",
    "import matplotlib.pyplot as plt\n",
    "import seaborn as sns"
   ]
  },
  {
   "cell_type": "markdown",
   "id": "b13294c3",
   "metadata": {},
   "source": [
    "### Data preprocessing"
   ]
  },
  {
   "cell_type": "code",
   "execution_count": 416,
   "id": "aa628c14",
   "metadata": {},
   "outputs": [
    {
     "data": {
      "text/html": [
       "<div>\n",
       "<style scoped>\n",
       "    .dataframe tbody tr th:only-of-type {\n",
       "        vertical-align: middle;\n",
       "    }\n",
       "\n",
       "    .dataframe tbody tr th {\n",
       "        vertical-align: top;\n",
       "    }\n",
       "\n",
       "    .dataframe thead th {\n",
       "        text-align: right;\n",
       "    }\n",
       "</style>\n",
       "<table border=\"1\" class=\"dataframe\">\n",
       "  <thead>\n",
       "    <tr style=\"text-align: right;\">\n",
       "      <th></th>\n",
       "      <th>Item_Identifier</th>\n",
       "      <th>Item_Weight</th>\n",
       "      <th>Item_Fat_Content</th>\n",
       "      <th>Item_Visibility</th>\n",
       "      <th>Item_Type</th>\n",
       "      <th>Item_MRP</th>\n",
       "      <th>Outlet_Identifier</th>\n",
       "      <th>Outlet_Establishment_Year</th>\n",
       "      <th>Outlet_Size</th>\n",
       "      <th>Outlet_Location_Type</th>\n",
       "      <th>Outlet_Type</th>\n",
       "      <th>Item_Outlet_Sales</th>\n",
       "    </tr>\n",
       "  </thead>\n",
       "  <tbody>\n",
       "    <tr>\n",
       "      <th>0</th>\n",
       "      <td>FDA15</td>\n",
       "      <td>9.30</td>\n",
       "      <td>Low Fat</td>\n",
       "      <td>0.016047</td>\n",
       "      <td>Dairy</td>\n",
       "      <td>249.8092</td>\n",
       "      <td>OUT049</td>\n",
       "      <td>1999</td>\n",
       "      <td>Medium</td>\n",
       "      <td>Tier 1</td>\n",
       "      <td>Supermarket Type1</td>\n",
       "      <td>3735.1380</td>\n",
       "    </tr>\n",
       "    <tr>\n",
       "      <th>1</th>\n",
       "      <td>DRC01</td>\n",
       "      <td>5.92</td>\n",
       "      <td>Regular</td>\n",
       "      <td>0.019278</td>\n",
       "      <td>Soft Drinks</td>\n",
       "      <td>48.2692</td>\n",
       "      <td>OUT018</td>\n",
       "      <td>2009</td>\n",
       "      <td>Medium</td>\n",
       "      <td>Tier 3</td>\n",
       "      <td>Supermarket Type2</td>\n",
       "      <td>443.4228</td>\n",
       "    </tr>\n",
       "    <tr>\n",
       "      <th>2</th>\n",
       "      <td>FDN15</td>\n",
       "      <td>17.50</td>\n",
       "      <td>Low Fat</td>\n",
       "      <td>0.016760</td>\n",
       "      <td>Meat</td>\n",
       "      <td>141.6180</td>\n",
       "      <td>OUT049</td>\n",
       "      <td>1999</td>\n",
       "      <td>Medium</td>\n",
       "      <td>Tier 1</td>\n",
       "      <td>Supermarket Type1</td>\n",
       "      <td>2097.2700</td>\n",
       "    </tr>\n",
       "    <tr>\n",
       "      <th>3</th>\n",
       "      <td>FDX07</td>\n",
       "      <td>19.20</td>\n",
       "      <td>Regular</td>\n",
       "      <td>0.000000</td>\n",
       "      <td>Fruits and Vegetables</td>\n",
       "      <td>182.0950</td>\n",
       "      <td>OUT010</td>\n",
       "      <td>1998</td>\n",
       "      <td>NaN</td>\n",
       "      <td>Tier 3</td>\n",
       "      <td>Grocery Store</td>\n",
       "      <td>732.3800</td>\n",
       "    </tr>\n",
       "    <tr>\n",
       "      <th>4</th>\n",
       "      <td>NCD19</td>\n",
       "      <td>8.93</td>\n",
       "      <td>Low Fat</td>\n",
       "      <td>0.000000</td>\n",
       "      <td>Household</td>\n",
       "      <td>53.8614</td>\n",
       "      <td>OUT013</td>\n",
       "      <td>1987</td>\n",
       "      <td>High</td>\n",
       "      <td>Tier 3</td>\n",
       "      <td>Supermarket Type1</td>\n",
       "      <td>994.7052</td>\n",
       "    </tr>\n",
       "  </tbody>\n",
       "</table>\n",
       "</div>"
      ],
      "text/plain": [
       "  Item_Identifier  Item_Weight Item_Fat_Content  Item_Visibility  \\\n",
       "0           FDA15         9.30          Low Fat         0.016047   \n",
       "1           DRC01         5.92          Regular         0.019278   \n",
       "2           FDN15        17.50          Low Fat         0.016760   \n",
       "3           FDX07        19.20          Regular         0.000000   \n",
       "4           NCD19         8.93          Low Fat         0.000000   \n",
       "\n",
       "               Item_Type  Item_MRP Outlet_Identifier  \\\n",
       "0                  Dairy  249.8092            OUT049   \n",
       "1            Soft Drinks   48.2692            OUT018   \n",
       "2                   Meat  141.6180            OUT049   \n",
       "3  Fruits and Vegetables  182.0950            OUT010   \n",
       "4              Household   53.8614            OUT013   \n",
       "\n",
       "   Outlet_Establishment_Year Outlet_Size Outlet_Location_Type  \\\n",
       "0                       1999      Medium               Tier 1   \n",
       "1                       2009      Medium               Tier 3   \n",
       "2                       1999      Medium               Tier 1   \n",
       "3                       1998         NaN               Tier 3   \n",
       "4                       1987        High               Tier 3   \n",
       "\n",
       "         Outlet_Type  Item_Outlet_Sales  \n",
       "0  Supermarket Type1          3735.1380  \n",
       "1  Supermarket Type2           443.4228  \n",
       "2  Supermarket Type1          2097.2700  \n",
       "3      Grocery Store           732.3800  \n",
       "4  Supermarket Type1           994.7052  "
      ]
     },
     "execution_count": 416,
     "metadata": {},
     "output_type": "execute_result"
    }
   ],
   "source": [
    "data = pd.read_csv('bigdatamart_Train.csv')\n",
    "data.head()"
   ]
  },
  {
   "cell_type": "code",
   "execution_count": 417,
   "id": "f4623423",
   "metadata": {},
   "outputs": [
    {
     "data": {
      "text/plain": [
       "(8523, 12)"
      ]
     },
     "execution_count": 417,
     "metadata": {},
     "output_type": "execute_result"
    }
   ],
   "source": [
    "data.shape"
   ]
  },
  {
   "cell_type": "code",
   "execution_count": 418,
   "id": "3b4b1b35",
   "metadata": {},
   "outputs": [
    {
     "data": {
      "text/plain": [
       "Item_Identifier                 0\n",
       "Item_Weight                  1463\n",
       "Item_Fat_Content                0\n",
       "Item_Visibility                 0\n",
       "Item_Type                       0\n",
       "Item_MRP                        0\n",
       "Outlet_Identifier               0\n",
       "Outlet_Establishment_Year       0\n",
       "Outlet_Size                  2410\n",
       "Outlet_Location_Type            0\n",
       "Outlet_Type                     0\n",
       "Item_Outlet_Sales               0\n",
       "dtype: int64"
      ]
     },
     "execution_count": 418,
     "metadata": {},
     "output_type": "execute_result"
    }
   ],
   "source": [
    "data.isnull().sum()"
   ]
  },
  {
   "cell_type": "markdown",
   "id": "8554bf47",
   "metadata": {},
   "source": [
    "### Observation\n",
    "- Item_Identifier - it is of no use we will drop it in furthur steps\n",
    "\n",
    "- Item_Weight -  This column is having nan values we can impute by mean in this column or by any imputer so its good to drop this column we cant see any coorelation directly with this column.\n",
    "\n",
    "\n",
    "- Item_Fat_Content -  it can have an impact on sales so we will keep it\n",
    "\n",
    "- Item_Visibility - it can have an impact on sales so we will keep it\n",
    "\n",
    "\n",
    "- Item_Type - it is of no use we will drop it in furthur steps\n",
    "\n",
    "\n",
    "- Item_MRP - it can have an impact on sales so we will keep it\n",
    "\n",
    "\n",
    "- Outlet_Identifier -  it is of no use we will drop it in furthur steps\n",
    "\n",
    "\n",
    "- Outlet_Establishment_Year - it is of no use we will drop it in furthur steps\n",
    "\n",
    "- Outlet_Size - it can have an impact on sales so we will keep it\n",
    "\n",
    "\n",
    "- Outlet_Location_Type  - it can have an impact on sales so we will keep it\n",
    "\n",
    "\n",
    "- Outlet_Type- it is of no use we will drop it in furthur steps\n",
    "\n",
    "\n",
    "- Item_Outlet_Sales - it can have an impact on sales so we will keep it\n"
   ]
  },
  {
   "cell_type": "code",
   "execution_count": 419,
   "id": "74716d89",
   "metadata": {},
   "outputs": [],
   "source": [
    "#### droping unwanted columns"
   ]
  },
  {
   "cell_type": "code",
   "execution_count": 420,
   "id": "34852bda",
   "metadata": {},
   "outputs": [],
   "source": [
    "data.drop(columns=['Item_Identifier','Item_Weight','Item_Type','Outlet_Identifier','Outlet_Establishment_Year'],axis=1,inplace=True)"
   ]
  },
  {
   "cell_type": "code",
   "execution_count": 421,
   "id": "2fc75a00",
   "metadata": {},
   "outputs": [
    {
     "data": {
      "text/html": [
       "<div>\n",
       "<style scoped>\n",
       "    .dataframe tbody tr th:only-of-type {\n",
       "        vertical-align: middle;\n",
       "    }\n",
       "\n",
       "    .dataframe tbody tr th {\n",
       "        vertical-align: top;\n",
       "    }\n",
       "\n",
       "    .dataframe thead th {\n",
       "        text-align: right;\n",
       "    }\n",
       "</style>\n",
       "<table border=\"1\" class=\"dataframe\">\n",
       "  <thead>\n",
       "    <tr style=\"text-align: right;\">\n",
       "      <th></th>\n",
       "      <th>Item_Fat_Content</th>\n",
       "      <th>Item_Visibility</th>\n",
       "      <th>Item_MRP</th>\n",
       "      <th>Outlet_Size</th>\n",
       "      <th>Outlet_Location_Type</th>\n",
       "      <th>Outlet_Type</th>\n",
       "      <th>Item_Outlet_Sales</th>\n",
       "    </tr>\n",
       "  </thead>\n",
       "  <tbody>\n",
       "    <tr>\n",
       "      <th>6450</th>\n",
       "      <td>Low Fat</td>\n",
       "      <td>0.026784</td>\n",
       "      <td>108.1570</td>\n",
       "      <td>Small</td>\n",
       "      <td>Tier 2</td>\n",
       "      <td>Supermarket Type1</td>\n",
       "      <td>1098.5700</td>\n",
       "    </tr>\n",
       "    <tr>\n",
       "      <th>8476</th>\n",
       "      <td>Low Fat</td>\n",
       "      <td>0.018887</td>\n",
       "      <td>98.8384</td>\n",
       "      <td>NaN</td>\n",
       "      <td>Tier 2</td>\n",
       "      <td>Supermarket Type1</td>\n",
       "      <td>1280.9992</td>\n",
       "    </tr>\n",
       "    <tr>\n",
       "      <th>7874</th>\n",
       "      <td>Low Fat</td>\n",
       "      <td>0.021293</td>\n",
       "      <td>151.9024</td>\n",
       "      <td>NaN</td>\n",
       "      <td>Tier 2</td>\n",
       "      <td>Supermarket Type1</td>\n",
       "      <td>2732.4432</td>\n",
       "    </tr>\n",
       "    <tr>\n",
       "      <th>7514</th>\n",
       "      <td>Regular</td>\n",
       "      <td>0.160671</td>\n",
       "      <td>254.7014</td>\n",
       "      <td>Small</td>\n",
       "      <td>Tier 2</td>\n",
       "      <td>Supermarket Type1</td>\n",
       "      <td>3570.0196</td>\n",
       "    </tr>\n",
       "    <tr>\n",
       "      <th>224</th>\n",
       "      <td>Low Fat</td>\n",
       "      <td>0.062838</td>\n",
       "      <td>161.5578</td>\n",
       "      <td>High</td>\n",
       "      <td>Tier 3</td>\n",
       "      <td>Supermarket Type1</td>\n",
       "      <td>2406.8670</td>\n",
       "    </tr>\n",
       "  </tbody>\n",
       "</table>\n",
       "</div>"
      ],
      "text/plain": [
       "     Item_Fat_Content  Item_Visibility  Item_MRP Outlet_Size  \\\n",
       "6450          Low Fat         0.026784  108.1570       Small   \n",
       "8476          Low Fat         0.018887   98.8384         NaN   \n",
       "7874          Low Fat         0.021293  151.9024         NaN   \n",
       "7514          Regular         0.160671  254.7014       Small   \n",
       "224           Low Fat         0.062838  161.5578        High   \n",
       "\n",
       "     Outlet_Location_Type        Outlet_Type  Item_Outlet_Sales  \n",
       "6450               Tier 2  Supermarket Type1          1098.5700  \n",
       "8476               Tier 2  Supermarket Type1          1280.9992  \n",
       "7874               Tier 2  Supermarket Type1          2732.4432  \n",
       "7514               Tier 2  Supermarket Type1          3570.0196  \n",
       "224                Tier 3  Supermarket Type1          2406.8670  "
      ]
     },
     "execution_count": 421,
     "metadata": {},
     "output_type": "execute_result"
    }
   ],
   "source": [
    "data.sample(5)"
   ]
  },
  {
   "cell_type": "code",
   "execution_count": 422,
   "id": "bf92e134",
   "metadata": {},
   "outputs": [
    {
     "data": {
      "text/plain": [
       "(8523, 7)"
      ]
     },
     "execution_count": 422,
     "metadata": {},
     "output_type": "execute_result"
    }
   ],
   "source": [
    "data.shape"
   ]
  },
  {
   "cell_type": "code",
   "execution_count": 423,
   "id": "621de5d2",
   "metadata": {},
   "outputs": [
    {
     "data": {
      "text/plain": [
       "array(['Low Fat', 'Regular', 'low fat', 'LF', 'reg'], dtype=object)"
      ]
     },
     "execution_count": 423,
     "metadata": {},
     "output_type": "execute_result"
    }
   ],
   "source": [
    "data['Item_Fat_Content'].unique()"
   ]
  },
  {
   "cell_type": "code",
   "execution_count": 424,
   "id": "c50e74f7",
   "metadata": {},
   "outputs": [
    {
     "data": {
      "text/plain": [
       "Low Fat    5089\n",
       "Regular    2889\n",
       "LF          316\n",
       "reg         117\n",
       "low fat     112\n",
       "Name: Item_Fat_Content, dtype: int64"
      ]
     },
     "execution_count": 424,
     "metadata": {},
     "output_type": "execute_result"
    }
   ],
   "source": [
    "data['Item_Fat_Content'].value_counts()"
   ]
  },
  {
   "cell_type": "markdown",
   "id": "f4a6e087",
   "metadata": {},
   "source": [
    "- ##### we have to change LF and lowfat as Low Fat and reg as Regular and then encode it by ordinal encoder"
   ]
  },
  {
   "cell_type": "code",
   "execution_count": 425,
   "id": "e1281bff",
   "metadata": {},
   "outputs": [
    {
     "data": {
      "text/plain": [
       "array(['Medium', nan, 'High', 'Small'], dtype=object)"
      ]
     },
     "execution_count": 425,
     "metadata": {},
     "output_type": "execute_result"
    }
   ],
   "source": [
    "data['Outlet_Size'].unique()"
   ]
  },
  {
   "cell_type": "markdown",
   "id": "07abc9df",
   "metadata": {},
   "source": [
    "- #### Outlet_size is very sensitive data so nan values will be droped directly. remaning will be change by ordinal encoder"
   ]
  },
  {
   "cell_type": "code",
   "execution_count": 426,
   "id": "96f01974",
   "metadata": {},
   "outputs": [
    {
     "data": {
      "text/plain": [
       "array(['Tier 1', 'Tier 3', 'Tier 2'], dtype=object)"
      ]
     },
     "execution_count": 426,
     "metadata": {},
     "output_type": "execute_result"
    }
   ],
   "source": [
    "data['Outlet_Location_Type'].unique()"
   ]
  },
  {
   "cell_type": "code",
   "execution_count": 427,
   "id": "c517802e",
   "metadata": {},
   "outputs": [
    {
     "data": {
      "text/plain": [
       "array(['Supermarket Type1', 'Supermarket Type2', 'Grocery Store',\n",
       "       'Supermarket Type3'], dtype=object)"
      ]
     },
     "execution_count": 427,
     "metadata": {},
     "output_type": "execute_result"
    }
   ],
   "source": [
    "data['Outlet_Type'].unique()"
   ]
  },
  {
   "cell_type": "markdown",
   "id": "472f9f80",
   "metadata": {},
   "source": [
    "- ##### Outlet_Location_type will be change by ordinal encoder"
   ]
  },
  {
   "cell_type": "markdown",
   "id": "da3a73cd",
   "metadata": {},
   "source": [
    "#### Droping nan values"
   ]
  },
  {
   "cell_type": "code",
   "execution_count": 428,
   "id": "212c7e7a",
   "metadata": {},
   "outputs": [],
   "source": [
    "data.dropna(inplace=True)\n",
    "data.reset_index(inplace=True)"
   ]
  },
  {
   "cell_type": "code",
   "execution_count": 429,
   "id": "71857ed5",
   "metadata": {},
   "outputs": [
    {
     "data": {
      "text/html": [
       "<div>\n",
       "<style scoped>\n",
       "    .dataframe tbody tr th:only-of-type {\n",
       "        vertical-align: middle;\n",
       "    }\n",
       "\n",
       "    .dataframe tbody tr th {\n",
       "        vertical-align: top;\n",
       "    }\n",
       "\n",
       "    .dataframe thead th {\n",
       "        text-align: right;\n",
       "    }\n",
       "</style>\n",
       "<table border=\"1\" class=\"dataframe\">\n",
       "  <thead>\n",
       "    <tr style=\"text-align: right;\">\n",
       "      <th></th>\n",
       "      <th>index</th>\n",
       "      <th>Item_Fat_Content</th>\n",
       "      <th>Item_Visibility</th>\n",
       "      <th>Item_MRP</th>\n",
       "      <th>Outlet_Size</th>\n",
       "      <th>Outlet_Location_Type</th>\n",
       "      <th>Outlet_Type</th>\n",
       "      <th>Item_Outlet_Sales</th>\n",
       "    </tr>\n",
       "  </thead>\n",
       "  <tbody>\n",
       "    <tr>\n",
       "      <th>0</th>\n",
       "      <td>0</td>\n",
       "      <td>Low Fat</td>\n",
       "      <td>0.016047</td>\n",
       "      <td>249.8092</td>\n",
       "      <td>Medium</td>\n",
       "      <td>Tier 1</td>\n",
       "      <td>Supermarket Type1</td>\n",
       "      <td>3735.1380</td>\n",
       "    </tr>\n",
       "    <tr>\n",
       "      <th>1</th>\n",
       "      <td>1</td>\n",
       "      <td>Regular</td>\n",
       "      <td>0.019278</td>\n",
       "      <td>48.2692</td>\n",
       "      <td>Medium</td>\n",
       "      <td>Tier 3</td>\n",
       "      <td>Supermarket Type2</td>\n",
       "      <td>443.4228</td>\n",
       "    </tr>\n",
       "    <tr>\n",
       "      <th>2</th>\n",
       "      <td>2</td>\n",
       "      <td>Low Fat</td>\n",
       "      <td>0.016760</td>\n",
       "      <td>141.6180</td>\n",
       "      <td>Medium</td>\n",
       "      <td>Tier 1</td>\n",
       "      <td>Supermarket Type1</td>\n",
       "      <td>2097.2700</td>\n",
       "    </tr>\n",
       "    <tr>\n",
       "      <th>3</th>\n",
       "      <td>4</td>\n",
       "      <td>Low Fat</td>\n",
       "      <td>0.000000</td>\n",
       "      <td>53.8614</td>\n",
       "      <td>High</td>\n",
       "      <td>Tier 3</td>\n",
       "      <td>Supermarket Type1</td>\n",
       "      <td>994.7052</td>\n",
       "    </tr>\n",
       "    <tr>\n",
       "      <th>4</th>\n",
       "      <td>5</td>\n",
       "      <td>Regular</td>\n",
       "      <td>0.000000</td>\n",
       "      <td>51.4008</td>\n",
       "      <td>Medium</td>\n",
       "      <td>Tier 3</td>\n",
       "      <td>Supermarket Type2</td>\n",
       "      <td>556.6088</td>\n",
       "    </tr>\n",
       "  </tbody>\n",
       "</table>\n",
       "</div>"
      ],
      "text/plain": [
       "   index Item_Fat_Content  Item_Visibility  Item_MRP Outlet_Size  \\\n",
       "0      0          Low Fat         0.016047  249.8092      Medium   \n",
       "1      1          Regular         0.019278   48.2692      Medium   \n",
       "2      2          Low Fat         0.016760  141.6180      Medium   \n",
       "3      4          Low Fat         0.000000   53.8614        High   \n",
       "4      5          Regular         0.000000   51.4008      Medium   \n",
       "\n",
       "  Outlet_Location_Type        Outlet_Type  Item_Outlet_Sales  \n",
       "0               Tier 1  Supermarket Type1          3735.1380  \n",
       "1               Tier 3  Supermarket Type2           443.4228  \n",
       "2               Tier 1  Supermarket Type1          2097.2700  \n",
       "3               Tier 3  Supermarket Type1           994.7052  \n",
       "4               Tier 3  Supermarket Type2           556.6088  "
      ]
     },
     "execution_count": 429,
     "metadata": {},
     "output_type": "execute_result"
    }
   ],
   "source": [
    "data.head()"
   ]
  },
  {
   "cell_type": "code",
   "execution_count": 430,
   "id": "5d50d70e",
   "metadata": {},
   "outputs": [
    {
     "data": {
      "text/plain": [
       "(6113, 8)"
      ]
     },
     "execution_count": 430,
     "metadata": {},
     "output_type": "execute_result"
    }
   ],
   "source": [
    "data.shape"
   ]
  },
  {
   "cell_type": "markdown",
   "id": "9c4b44ed",
   "metadata": {},
   "source": [
    "#### Item_fat_content : LF and low fat as Low fat and reg as regular"
   ]
  },
  {
   "cell_type": "code",
   "execution_count": 431,
   "id": "b9d0aa4f",
   "metadata": {},
   "outputs": [],
   "source": [
    "col = []\n",
    "for i in (data['Item_Fat_Content']):    \n",
    "    if i == 'reg': \n",
    "        col.append('Regular')\n",
    "    elif i == 'low fat':\n",
    "        col.append('Low Fat')\n",
    "    elif i == 'LF':\n",
    "        col.append('Low Fat')\n",
    "    elif i == 'Low Fat':\n",
    "        col.append('Low Fat')\n",
    "    else:\n",
    "        col.append('Regular')\n",
    "data['Item_Fat_Content'] = col"
   ]
  },
  {
   "cell_type": "code",
   "execution_count": 432,
   "id": "0a0a615a",
   "metadata": {},
   "outputs": [
    {
     "data": {
      "text/plain": [
       "array(['Low Fat', 'Regular'], dtype=object)"
      ]
     },
     "execution_count": 432,
     "metadata": {},
     "output_type": "execute_result"
    }
   ],
   "source": [
    "data['Item_Fat_Content'].unique()"
   ]
  },
  {
   "cell_type": "code",
   "execution_count": 433,
   "id": "284ad829",
   "metadata": {},
   "outputs": [
    {
     "data": {
      "text/html": [
       "<div>\n",
       "<style scoped>\n",
       "    .dataframe tbody tr th:only-of-type {\n",
       "        vertical-align: middle;\n",
       "    }\n",
       "\n",
       "    .dataframe tbody tr th {\n",
       "        vertical-align: top;\n",
       "    }\n",
       "\n",
       "    .dataframe thead th {\n",
       "        text-align: right;\n",
       "    }\n",
       "</style>\n",
       "<table border=\"1\" class=\"dataframe\">\n",
       "  <thead>\n",
       "    <tr style=\"text-align: right;\">\n",
       "      <th></th>\n",
       "      <th>index</th>\n",
       "      <th>Item_Fat_Content</th>\n",
       "      <th>Item_Visibility</th>\n",
       "      <th>Item_MRP</th>\n",
       "      <th>Outlet_Size</th>\n",
       "      <th>Outlet_Location_Type</th>\n",
       "      <th>Outlet_Type</th>\n",
       "      <th>Item_Outlet_Sales</th>\n",
       "    </tr>\n",
       "  </thead>\n",
       "  <tbody>\n",
       "    <tr>\n",
       "      <th>0</th>\n",
       "      <td>0</td>\n",
       "      <td>Low Fat</td>\n",
       "      <td>0.016047</td>\n",
       "      <td>249.8092</td>\n",
       "      <td>Medium</td>\n",
       "      <td>Tier 1</td>\n",
       "      <td>Supermarket Type1</td>\n",
       "      <td>3735.1380</td>\n",
       "    </tr>\n",
       "    <tr>\n",
       "      <th>1</th>\n",
       "      <td>1</td>\n",
       "      <td>Regular</td>\n",
       "      <td>0.019278</td>\n",
       "      <td>48.2692</td>\n",
       "      <td>Medium</td>\n",
       "      <td>Tier 3</td>\n",
       "      <td>Supermarket Type2</td>\n",
       "      <td>443.4228</td>\n",
       "    </tr>\n",
       "    <tr>\n",
       "      <th>2</th>\n",
       "      <td>2</td>\n",
       "      <td>Low Fat</td>\n",
       "      <td>0.016760</td>\n",
       "      <td>141.6180</td>\n",
       "      <td>Medium</td>\n",
       "      <td>Tier 1</td>\n",
       "      <td>Supermarket Type1</td>\n",
       "      <td>2097.2700</td>\n",
       "    </tr>\n",
       "    <tr>\n",
       "      <th>3</th>\n",
       "      <td>4</td>\n",
       "      <td>Low Fat</td>\n",
       "      <td>0.000000</td>\n",
       "      <td>53.8614</td>\n",
       "      <td>High</td>\n",
       "      <td>Tier 3</td>\n",
       "      <td>Supermarket Type1</td>\n",
       "      <td>994.7052</td>\n",
       "    </tr>\n",
       "    <tr>\n",
       "      <th>4</th>\n",
       "      <td>5</td>\n",
       "      <td>Regular</td>\n",
       "      <td>0.000000</td>\n",
       "      <td>51.4008</td>\n",
       "      <td>Medium</td>\n",
       "      <td>Tier 3</td>\n",
       "      <td>Supermarket Type2</td>\n",
       "      <td>556.6088</td>\n",
       "    </tr>\n",
       "    <tr>\n",
       "      <th>...</th>\n",
       "      <td>...</td>\n",
       "      <td>...</td>\n",
       "      <td>...</td>\n",
       "      <td>...</td>\n",
       "      <td>...</td>\n",
       "      <td>...</td>\n",
       "      <td>...</td>\n",
       "      <td>...</td>\n",
       "    </tr>\n",
       "    <tr>\n",
       "      <th>6108</th>\n",
       "      <td>8517</td>\n",
       "      <td>Regular</td>\n",
       "      <td>0.083607</td>\n",
       "      <td>178.8318</td>\n",
       "      <td>Small</td>\n",
       "      <td>Tier 1</td>\n",
       "      <td>Supermarket Type1</td>\n",
       "      <td>3608.6360</td>\n",
       "    </tr>\n",
       "    <tr>\n",
       "      <th>6109</th>\n",
       "      <td>8518</td>\n",
       "      <td>Low Fat</td>\n",
       "      <td>0.056783</td>\n",
       "      <td>214.5218</td>\n",
       "      <td>High</td>\n",
       "      <td>Tier 3</td>\n",
       "      <td>Supermarket Type1</td>\n",
       "      <td>2778.3834</td>\n",
       "    </tr>\n",
       "    <tr>\n",
       "      <th>6110</th>\n",
       "      <td>8520</td>\n",
       "      <td>Low Fat</td>\n",
       "      <td>0.035186</td>\n",
       "      <td>85.1224</td>\n",
       "      <td>Small</td>\n",
       "      <td>Tier 2</td>\n",
       "      <td>Supermarket Type1</td>\n",
       "      <td>1193.1136</td>\n",
       "    </tr>\n",
       "    <tr>\n",
       "      <th>6111</th>\n",
       "      <td>8521</td>\n",
       "      <td>Regular</td>\n",
       "      <td>0.145221</td>\n",
       "      <td>103.1332</td>\n",
       "      <td>Medium</td>\n",
       "      <td>Tier 3</td>\n",
       "      <td>Supermarket Type2</td>\n",
       "      <td>1845.5976</td>\n",
       "    </tr>\n",
       "    <tr>\n",
       "      <th>6112</th>\n",
       "      <td>8522</td>\n",
       "      <td>Low Fat</td>\n",
       "      <td>0.044878</td>\n",
       "      <td>75.4670</td>\n",
       "      <td>Small</td>\n",
       "      <td>Tier 1</td>\n",
       "      <td>Supermarket Type1</td>\n",
       "      <td>765.6700</td>\n",
       "    </tr>\n",
       "  </tbody>\n",
       "</table>\n",
       "<p>6113 rows × 8 columns</p>\n",
       "</div>"
      ],
      "text/plain": [
       "      index Item_Fat_Content  Item_Visibility  Item_MRP Outlet_Size  \\\n",
       "0         0          Low Fat         0.016047  249.8092      Medium   \n",
       "1         1          Regular         0.019278   48.2692      Medium   \n",
       "2         2          Low Fat         0.016760  141.6180      Medium   \n",
       "3         4          Low Fat         0.000000   53.8614        High   \n",
       "4         5          Regular         0.000000   51.4008      Medium   \n",
       "...     ...              ...              ...       ...         ...   \n",
       "6108   8517          Regular         0.083607  178.8318       Small   \n",
       "6109   8518          Low Fat         0.056783  214.5218        High   \n",
       "6110   8520          Low Fat         0.035186   85.1224       Small   \n",
       "6111   8521          Regular         0.145221  103.1332      Medium   \n",
       "6112   8522          Low Fat         0.044878   75.4670       Small   \n",
       "\n",
       "     Outlet_Location_Type        Outlet_Type  Item_Outlet_Sales  \n",
       "0                  Tier 1  Supermarket Type1          3735.1380  \n",
       "1                  Tier 3  Supermarket Type2           443.4228  \n",
       "2                  Tier 1  Supermarket Type1          2097.2700  \n",
       "3                  Tier 3  Supermarket Type1           994.7052  \n",
       "4                  Tier 3  Supermarket Type2           556.6088  \n",
       "...                   ...                ...                ...  \n",
       "6108               Tier 1  Supermarket Type1          3608.6360  \n",
       "6109               Tier 3  Supermarket Type1          2778.3834  \n",
       "6110               Tier 2  Supermarket Type1          1193.1136  \n",
       "6111               Tier 3  Supermarket Type2          1845.5976  \n",
       "6112               Tier 1  Supermarket Type1           765.6700  \n",
       "\n",
       "[6113 rows x 8 columns]"
      ]
     },
     "execution_count": 433,
     "metadata": {},
     "output_type": "execute_result"
    }
   ],
   "source": [
    "data"
   ]
  },
  {
   "cell_type": "markdown",
   "id": "fde39f96",
   "metadata": {},
   "source": [
    "#### encoding it by ordinal encoder,"
   ]
  },
  {
   "cell_type": "code",
   "execution_count": 434,
   "id": "a40bb119",
   "metadata": {},
   "outputs": [],
   "source": [
    "from sklearn.preprocessing import OrdinalEncoder\n",
    "data.drop(columns=['index'],axis = 1,inplace = True)"
   ]
  },
  {
   "cell_type": "code",
   "execution_count": 438,
   "id": "4d35f0c9",
   "metadata": {},
   "outputs": [],
   "source": [
    "cols = ['Item_Fat_Content','Outlet_Size','Outlet_Location_Type','Outlet_Type']"
   ]
  },
  {
   "cell_type": "code",
   "execution_count": 439,
   "id": "dc1f4493",
   "metadata": {},
   "outputs": [
    {
     "data": {
      "text/html": [
       "<div>\n",
       "<style scoped>\n",
       "    .dataframe tbody tr th:only-of-type {\n",
       "        vertical-align: middle;\n",
       "    }\n",
       "\n",
       "    .dataframe tbody tr th {\n",
       "        vertical-align: top;\n",
       "    }\n",
       "\n",
       "    .dataframe thead th {\n",
       "        text-align: right;\n",
       "    }\n",
       "</style>\n",
       "<table border=\"1\" class=\"dataframe\">\n",
       "  <thead>\n",
       "    <tr style=\"text-align: right;\">\n",
       "      <th></th>\n",
       "      <th>Item_Fat_Content</th>\n",
       "      <th>Item_Visibility</th>\n",
       "      <th>Item_MRP</th>\n",
       "      <th>Outlet_Size</th>\n",
       "      <th>Outlet_Location_Type</th>\n",
       "      <th>Outlet_Type</th>\n",
       "      <th>Item_Outlet_Sales</th>\n",
       "    </tr>\n",
       "  </thead>\n",
       "  <tbody>\n",
       "    <tr>\n",
       "      <th>0</th>\n",
       "      <td>0.0</td>\n",
       "      <td>0.016047</td>\n",
       "      <td>249.8092</td>\n",
       "      <td>1.0</td>\n",
       "      <td>0.0</td>\n",
       "      <td>0.0</td>\n",
       "      <td>3735.1380</td>\n",
       "    </tr>\n",
       "    <tr>\n",
       "      <th>1</th>\n",
       "      <td>1.0</td>\n",
       "      <td>0.019278</td>\n",
       "      <td>48.2692</td>\n",
       "      <td>1.0</td>\n",
       "      <td>2.0</td>\n",
       "      <td>1.0</td>\n",
       "      <td>443.4228</td>\n",
       "    </tr>\n",
       "    <tr>\n",
       "      <th>2</th>\n",
       "      <td>0.0</td>\n",
       "      <td>0.016760</td>\n",
       "      <td>141.6180</td>\n",
       "      <td>1.0</td>\n",
       "      <td>0.0</td>\n",
       "      <td>0.0</td>\n",
       "      <td>2097.2700</td>\n",
       "    </tr>\n",
       "    <tr>\n",
       "      <th>3</th>\n",
       "      <td>0.0</td>\n",
       "      <td>0.000000</td>\n",
       "      <td>53.8614</td>\n",
       "      <td>2.0</td>\n",
       "      <td>2.0</td>\n",
       "      <td>0.0</td>\n",
       "      <td>994.7052</td>\n",
       "    </tr>\n",
       "    <tr>\n",
       "      <th>4</th>\n",
       "      <td>1.0</td>\n",
       "      <td>0.000000</td>\n",
       "      <td>51.4008</td>\n",
       "      <td>1.0</td>\n",
       "      <td>2.0</td>\n",
       "      <td>1.0</td>\n",
       "      <td>556.6088</td>\n",
       "    </tr>\n",
       "    <tr>\n",
       "      <th>...</th>\n",
       "      <td>...</td>\n",
       "      <td>...</td>\n",
       "      <td>...</td>\n",
       "      <td>...</td>\n",
       "      <td>...</td>\n",
       "      <td>...</td>\n",
       "      <td>...</td>\n",
       "    </tr>\n",
       "    <tr>\n",
       "      <th>6108</th>\n",
       "      <td>1.0</td>\n",
       "      <td>0.083607</td>\n",
       "      <td>178.8318</td>\n",
       "      <td>0.0</td>\n",
       "      <td>0.0</td>\n",
       "      <td>0.0</td>\n",
       "      <td>3608.6360</td>\n",
       "    </tr>\n",
       "    <tr>\n",
       "      <th>6109</th>\n",
       "      <td>0.0</td>\n",
       "      <td>0.056783</td>\n",
       "      <td>214.5218</td>\n",
       "      <td>2.0</td>\n",
       "      <td>2.0</td>\n",
       "      <td>0.0</td>\n",
       "      <td>2778.3834</td>\n",
       "    </tr>\n",
       "    <tr>\n",
       "      <th>6110</th>\n",
       "      <td>0.0</td>\n",
       "      <td>0.035186</td>\n",
       "      <td>85.1224</td>\n",
       "      <td>0.0</td>\n",
       "      <td>1.0</td>\n",
       "      <td>0.0</td>\n",
       "      <td>1193.1136</td>\n",
       "    </tr>\n",
       "    <tr>\n",
       "      <th>6111</th>\n",
       "      <td>1.0</td>\n",
       "      <td>0.145221</td>\n",
       "      <td>103.1332</td>\n",
       "      <td>1.0</td>\n",
       "      <td>2.0</td>\n",
       "      <td>1.0</td>\n",
       "      <td>1845.5976</td>\n",
       "    </tr>\n",
       "    <tr>\n",
       "      <th>6112</th>\n",
       "      <td>0.0</td>\n",
       "      <td>0.044878</td>\n",
       "      <td>75.4670</td>\n",
       "      <td>0.0</td>\n",
       "      <td>0.0</td>\n",
       "      <td>0.0</td>\n",
       "      <td>765.6700</td>\n",
       "    </tr>\n",
       "  </tbody>\n",
       "</table>\n",
       "<p>6113 rows × 7 columns</p>\n",
       "</div>"
      ],
      "text/plain": [
       "      Item_Fat_Content  Item_Visibility  Item_MRP  Outlet_Size  \\\n",
       "0                  0.0         0.016047  249.8092          1.0   \n",
       "1                  1.0         0.019278   48.2692          1.0   \n",
       "2                  0.0         0.016760  141.6180          1.0   \n",
       "3                  0.0         0.000000   53.8614          2.0   \n",
       "4                  1.0         0.000000   51.4008          1.0   \n",
       "...                ...              ...       ...          ...   \n",
       "6108               1.0         0.083607  178.8318          0.0   \n",
       "6109               0.0         0.056783  214.5218          2.0   \n",
       "6110               0.0         0.035186   85.1224          0.0   \n",
       "6111               1.0         0.145221  103.1332          1.0   \n",
       "6112               0.0         0.044878   75.4670          0.0   \n",
       "\n",
       "      Outlet_Location_Type  Outlet_Type  Item_Outlet_Sales  \n",
       "0                      0.0          0.0          3735.1380  \n",
       "1                      2.0          1.0           443.4228  \n",
       "2                      0.0          0.0          2097.2700  \n",
       "3                      2.0          0.0           994.7052  \n",
       "4                      2.0          1.0           556.6088  \n",
       "...                    ...          ...                ...  \n",
       "6108                   0.0          0.0          3608.6360  \n",
       "6109                   2.0          0.0          2778.3834  \n",
       "6110                   1.0          0.0          1193.1136  \n",
       "6111                   2.0          1.0          1845.5976  \n",
       "6112                   0.0          0.0           765.6700  \n",
       "\n",
       "[6113 rows x 7 columns]"
      ]
     },
     "execution_count": 439,
     "metadata": {},
     "output_type": "execute_result"
    }
   ],
   "source": [
    "ord_enc=OrdinalEncoder(categories=[['Low Fat','Regular'],['Small','Medium','High'],['Tier 1','Tier 2','Tier 3'],['Supermarket Type1','Supermarket Type2','Grocery Store','Supermarket Type3']])\n",
    "data1 = ord_enc.fit_transform(data[['Item_Fat_Content','Outlet_Size','Outlet_Location_Type','Outlet_Type']])\n",
    "data[cols] = data1\n",
    "data"
   ]
  },
  {
   "cell_type": "markdown",
   "id": "54227979",
   "metadata": {},
   "source": [
    "#### now our data looks good to proceed ahead "
   ]
  },
  {
   "cell_type": "markdown",
   "id": "5d60e9fb",
   "metadata": {},
   "source": [
    "### EDA(Exploratory data analysis)"
   ]
  },
  {
   "cell_type": "code",
   "execution_count": 440,
   "id": "507c7249",
   "metadata": {},
   "outputs": [],
   "source": [
    "import warnings\n",
    "warnings.filterwarnings('ignore')"
   ]
  },
  {
   "cell_type": "code",
   "execution_count": 441,
   "id": "26617573",
   "metadata": {},
   "outputs": [
    {
     "data": {
      "image/png": "[encoded data removed]",
      "text/plain": [
       "<Figure size 1440x1080 with 7 Axes>"
      ]
     },
     "metadata": {
      "needs_background": "light"
     },
     "output_type": "display_data"
    }
   ],
   "source": [
    "plt.figure(figsize=(20,15))\n",
    "plotnumber = 1\n",
    "\n",
    "for column in data:\n",
    "    if plotnumber < 8:\n",
    "        ax = plt.subplot(2,4,plotnumber)\n",
    "        sns.distplot(data[column])\n",
    "        plt.xlabel(column,fontsize=17)\n",
    "    plotnumber +=1\n",
    "plt.show()"
   ]
  },
  {
   "cell_type": "markdown",
   "id": "e32f7f71",
   "metadata": {},
   "source": [
    "#### observation\n",
    "\n",
    "- Item_Fat_Content -  It is categorical data no use of seeing it in distribution\n",
    "\n",
    "- ###### - Item_Visibility - This column is having skewness should be corrected using transformer(right skewed)\n",
    "\n",
    "- ###### - Item_MRP - This column is having skewness should be corrected using transformer(peek correction)\n",
    "\n",
    "\n",
    "- Outlet_Size - It is categorical data no use of seeing it in distribution\n",
    "\n",
    "\n",
    "- Outlet_Location_Type  - It is categorical data no use of seeing it in distribution\n",
    "\n",
    "- ###### - Item_Outlet_Sales - it can have an impact on sales so we will keep it.\n"
   ]
  },
  {
   "cell_type": "code",
   "execution_count": 442,
   "id": "606636b0",
   "metadata": {},
   "outputs": [
    {
     "data": {
      "text/plain": [
       "Item_Outlet_Sales       1.000000\n",
       "Item_MRP                0.588939\n",
       "Outlet_Location_Type    0.206719\n",
       "Outlet_Size             0.129076\n",
       "Outlet_Type             0.121306\n",
       "Item_Fat_Content        0.013739\n",
       "Item_Visibility        -0.105854\n",
       "Name: Item_Outlet_Sales, dtype: float64"
      ]
     },
     "execution_count": 442,
     "metadata": {},
     "output_type": "execute_result"
    }
   ],
   "source": [
    "data.corr()['Item_Outlet_Sales'].sort_values(ascending=False)"
   ]
  },
  {
   "cell_type": "code",
   "execution_count": 443,
   "id": "f5b36d25",
   "metadata": {},
   "outputs": [
    {
     "data": {
      "text/plain": [
       "<AxesSubplot:title={'center':'Correlation with sales'}>"
      ]
     },
     "execution_count": 443,
     "metadata": {},
     "output_type": "execute_result"
    },
    {
     "data": {
      "image/png": "[encoded data removed]",
      "text/plain": [
       "<Figure size 504x504 with 1 Axes>"
      ]
     },
     "metadata": {
      "needs_background": "light"
     },
     "output_type": "display_data"
    }
   ],
   "source": [
    "# visualize the correlation\n",
    "data.drop('Item_Outlet_Sales', axis =1).corrwith(data['Item_Outlet_Sales']).plot(kind ='bar',grid = True, figsize = (7,7),\n",
    "                                                   title = 'Correlation with sales')"
   ]
  },
  {
   "cell_type": "markdown",
   "id": "df662e6a",
   "metadata": {},
   "source": [
    "##### As we can see by this,\n",
    "- Item_MRP column - having very good corelation\n",
    "\n",
    "- Outlet_Size and Outlet_Location_Type column - having good corelation\n",
    "\n",
    "- Item_Visibilty - having negative good relation \n",
    "\n",
    "- Item_Fat_Content column - having week among all other columns."
   ]
  },
  {
   "cell_type": "code",
   "execution_count": 444,
   "id": "d1d1bcd3",
   "metadata": {},
   "outputs": [
    {
     "data": {
      "text/plain": [
       "<function matplotlib.pyplot.show(close=None, block=None)>"
      ]
     },
     "execution_count": 444,
     "metadata": {},
     "output_type": "execute_result"
    },
    {
     "data": {
      "image/png": "[encoded data removed]",
      "text/plain": [
       "<Figure size 720x504 with 2 Axes>"
      ]
     },
     "metadata": {
      "needs_background": "light"
     },
     "output_type": "display_data"
    }
   ],
   "source": [
    "### plotting heatmap\n",
    "plt.figure(figsize=(10,7))\n",
    "sns.heatmap(abs(data.corr()),annot=True)\n",
    "plt.show"
   ]
  },
  {
   "cell_type": "markdown",
   "id": "b56abe73",
   "metadata": {},
   "source": [
    "##### - for multicolinearity we will check vif value too but by heat map we can see that there would not be any problem of multicolinearity"
   ]
  },
  {
   "cell_type": "code",
   "execution_count": 445,
   "id": "76478643",
   "metadata": {},
   "outputs": [
    {
     "data": {
      "text/plain": [
       "<AxesSubplot:xlabel='Outlet_Size', ylabel='Item_Outlet_Sales'>"
      ]
     },
     "execution_count": 445,
     "metadata": {},
     "output_type": "execute_result"
    },
    {
     "data": {
      "image/png": "[encoded data removed]",
      "text/plain": [
       "<Figure size 432x288 with 1 Axes>"
      ]
     },
     "metadata": {
      "needs_background": "light"
     },
     "output_type": "display_data"
    }
   ],
   "source": [
    "sns.regplot(y='Item_Outlet_Sales',x='Outlet_Size',data=data)"
   ]
  },
  {
   "cell_type": "code",
   "execution_count": 446,
   "id": "f04418d1",
   "metadata": {},
   "outputs": [
    {
     "data": {
      "text/plain": [
       "<AxesSubplot:xlabel='Item_MRP', ylabel='Item_Outlet_Sales'>"
      ]
     },
     "execution_count": 446,
     "metadata": {},
     "output_type": "execute_result"
    },
    {
     "data": {
      "image/png": "[encoded data removed]",
      "text/plain": [
       "<Figure size 432x288 with 1 Axes>"
      ]
     },
     "metadata": {
      "needs_background": "light"
     },
     "output_type": "display_data"
    }
   ],
   "source": [
    "sns.regplot(y='Item_Outlet_Sales',x='Item_MRP',data=data)"
   ]
  },
  {
   "cell_type": "markdown",
   "id": "33235537",
   "metadata": {},
   "source": [
    "#### there seems to have no trends in features and target"
   ]
  },
  {
   "cell_type": "markdown",
   "id": "8e68048f",
   "metadata": {},
   "source": [
    "#### Checking for outliers"
   ]
  },
  {
   "cell_type": "code",
   "execution_count": 447,
   "id": "a47cee73",
   "metadata": {},
   "outputs": [
    {
     "data": {
      "image/png": "[encoded data removed]",
      "text/plain": [
       "<Figure size 1080x504 with 7 Axes>"
      ]
     },
     "metadata": {
      "needs_background": "light"
     },
     "output_type": "display_data"
    }
   ],
   "source": [
    "plt.figure(figsize=(15,7))\n",
    "graph=1\n",
    "\n",
    "for column in data:\n",
    "    if graph<=8:\n",
    "        ax=plt.subplot(2,4,graph)\n",
    "        sns.boxplot(data = data[column],orient=\"v\")\n",
    "        plt.xlabel(column,fontsize=10)\n",
    "    graph+=1\n",
    "plt.show()"
   ]
  },
  {
   "cell_type": "markdown",
   "id": "ca6f31f2",
   "metadata": {},
   "source": [
    "#### -  There seems to have outliers,we will remove outliers by IQR after power transforming it."
   ]
  },
  {
   "cell_type": "markdown",
   "id": "fed25bf6",
   "metadata": {},
   "source": [
    "### Data normalization\n",
    "##### Removing skewness(power transformer)"
   ]
  },
  {
   "cell_type": "code",
   "execution_count": 448,
   "id": "988fcb96",
   "metadata": {},
   "outputs": [
    {
     "data": {
      "text/html": [
       "<div>\n",
       "<style scoped>\n",
       "    .dataframe tbody tr th:only-of-type {\n",
       "        vertical-align: middle;\n",
       "    }\n",
       "\n",
       "    .dataframe tbody tr th {\n",
       "        vertical-align: top;\n",
       "    }\n",
       "\n",
       "    .dataframe thead th {\n",
       "        text-align: right;\n",
       "    }\n",
       "</style>\n",
       "<table border=\"1\" class=\"dataframe\">\n",
       "  <thead>\n",
       "    <tr style=\"text-align: right;\">\n",
       "      <th></th>\n",
       "      <th>Item_Fat_Content</th>\n",
       "      <th>Item_Visibility</th>\n",
       "      <th>Item_MRP</th>\n",
       "      <th>Outlet_Size</th>\n",
       "      <th>Outlet_Location_Type</th>\n",
       "      <th>Outlet_Type</th>\n",
       "      <th>Item_Outlet_Sales</th>\n",
       "    </tr>\n",
       "  </thead>\n",
       "  <tbody>\n",
       "    <tr>\n",
       "      <th>0</th>\n",
       "      <td>0.0</td>\n",
       "      <td>-1.134852</td>\n",
       "      <td>1.622234</td>\n",
       "      <td>1.0</td>\n",
       "      <td>0.0</td>\n",
       "      <td>0.0</td>\n",
       "      <td>3735.1380</td>\n",
       "    </tr>\n",
       "    <tr>\n",
       "      <th>1</th>\n",
       "      <td>1.0</td>\n",
       "      <td>-1.023236</td>\n",
       "      <td>-1.600871</td>\n",
       "      <td>1.0</td>\n",
       "      <td>2.0</td>\n",
       "      <td>1.0</td>\n",
       "      <td>443.4228</td>\n",
       "    </tr>\n",
       "    <tr>\n",
       "      <th>2</th>\n",
       "      <td>0.0</td>\n",
       "      <td>-1.109929</td>\n",
       "      <td>0.076445</td>\n",
       "      <td>1.0</td>\n",
       "      <td>0.0</td>\n",
       "      <td>0.0</td>\n",
       "      <td>2097.2700</td>\n",
       "    </tr>\n",
       "    <tr>\n",
       "      <th>3</th>\n",
       "      <td>0.0</td>\n",
       "      <td>-1.744118</td>\n",
       "      <td>-1.481986</td>\n",
       "      <td>2.0</td>\n",
       "      <td>2.0</td>\n",
       "      <td>0.0</td>\n",
       "      <td>994.7052</td>\n",
       "    </tr>\n",
       "    <tr>\n",
       "      <th>4</th>\n",
       "      <td>1.0</td>\n",
       "      <td>-1.744118</td>\n",
       "      <td>-1.533821</td>\n",
       "      <td>1.0</td>\n",
       "      <td>2.0</td>\n",
       "      <td>1.0</td>\n",
       "      <td>556.6088</td>\n",
       "    </tr>\n",
       "  </tbody>\n",
       "</table>\n",
       "</div>"
      ],
      "text/plain": [
       "   Item_Fat_Content  Item_Visibility  Item_MRP  Outlet_Size  \\\n",
       "0               0.0        -1.134852  1.622234          1.0   \n",
       "1               1.0        -1.023236 -1.600871          1.0   \n",
       "2               0.0        -1.109929  0.076445          1.0   \n",
       "3               0.0        -1.744118 -1.481986          2.0   \n",
       "4               1.0        -1.744118 -1.533821          1.0   \n",
       "\n",
       "   Outlet_Location_Type  Outlet_Type  Item_Outlet_Sales  \n",
       "0                   0.0          0.0          3735.1380  \n",
       "1                   2.0          1.0           443.4228  \n",
       "2                   0.0          0.0          2097.2700  \n",
       "3                   2.0          0.0           994.7052  \n",
       "4                   2.0          1.0           556.6088  "
      ]
     },
     "execution_count": 448,
     "metadata": {},
     "output_type": "execute_result"
    }
   ],
   "source": [
    "features = ['Item_Visibility','Item_MRP']\n",
    "from sklearn.preprocessing import PowerTransformer\n",
    "pt = PowerTransformer()\n",
    "data[features]  = pt.fit_transform(data[features].values)\n",
    "data.head()"
   ]
  },
  {
   "cell_type": "code",
   "execution_count": 449,
   "id": "b1223d5a",
   "metadata": {},
   "outputs": [
    {
     "data": {
      "image/png": "[encoded data removed]",
      "text/plain": [
       "<Figure size 1440x1080 with 5 Axes>"
      ]
     },
     "metadata": {
      "needs_background": "light"
     },
     "output_type": "display_data"
    }
   ],
   "source": [
    "plt.figure(figsize=(20,15))\n",
    "plotnumber = 1\n",
    "for column in data:\n",
    "    if plotnumber < 6:\n",
    "        ax = plt.subplot(2,3,plotnumber)\n",
    "        sns.distplot(data[column])\n",
    "        plt.xlabel(column,fontsize=17)\n",
    "    plotnumber +=1\n",
    "plt.show()"
   ]
  },
  {
   "cell_type": "markdown",
   "id": "bb7ade88",
   "metadata": {},
   "source": [
    "### Removing Outliers(IQR-Inter quantile range)"
   ]
  },
  {
   "cell_type": "code",
   "execution_count": 450,
   "id": "24d727b9",
   "metadata": {},
   "outputs": [
    {
     "data": {
      "text/plain": [
       "Item_Fat_Content           1.000000\n",
       "Item_Visibility            1.562310\n",
       "Item_MRP                   1.455217\n",
       "Outlet_Size                1.000000\n",
       "Outlet_Location_Type       2.000000\n",
       "Outlet_Type                1.000000\n",
       "Item_Outlet_Sales       2296.344200\n",
       "dtype: float64"
      ]
     },
     "execution_count": 450,
     "metadata": {},
     "output_type": "execute_result"
    }
   ],
   "source": [
    "#quantile 1\n",
    "q1=data.quantile(0.25)\n",
    "#QUANTILE 3\n",
    "q3=data.quantile(0.75)\n",
    "\n",
    "IQR=q3-q1\n",
    "IQR"
   ]
  },
  {
   "cell_type": "markdown",
   "id": "26b3c3a5",
   "metadata": {},
   "source": [
    "#### Outfiers detection formula\n",
    "##### higherside==> Q3+(1.5*IQR)\n",
    "##### lowerside==>Q3 -(1.5*IQR)"
   ]
  },
  {
   "cell_type": "code",
   "execution_count": 451,
   "id": "535240e8",
   "metadata": {},
   "outputs": [
    {
     "name": "stdout",
     "output_type": "stream",
     "text": [
      "2.9241078062773553\n",
      "(6113, 7)\n"
     ]
    },
    {
     "data": {
      "text/html": [
       "<div>\n",
       "<style scoped>\n",
       "    .dataframe tbody tr th:only-of-type {\n",
       "        vertical-align: middle;\n",
       "    }\n",
       "\n",
       "    .dataframe tbody tr th {\n",
       "        vertical-align: top;\n",
       "    }\n",
       "\n",
       "    .dataframe thead th {\n",
       "        text-align: right;\n",
       "    }\n",
       "</style>\n",
       "<table border=\"1\" class=\"dataframe\">\n",
       "  <thead>\n",
       "    <tr style=\"text-align: right;\">\n",
       "      <th></th>\n",
       "      <th>index</th>\n",
       "      <th>Item_Fat_Content</th>\n",
       "      <th>Item_Visibility</th>\n",
       "      <th>Item_MRP</th>\n",
       "      <th>Outlet_Size</th>\n",
       "      <th>Outlet_Location_Type</th>\n",
       "      <th>Outlet_Type</th>\n",
       "      <th>Item_Outlet_Sales</th>\n",
       "    </tr>\n",
       "  </thead>\n",
       "  <tbody>\n",
       "    <tr>\n",
       "      <th>0</th>\n",
       "      <td>0</td>\n",
       "      <td>0.0</td>\n",
       "      <td>-1.134852</td>\n",
       "      <td>1.622234</td>\n",
       "      <td>1.0</td>\n",
       "      <td>0.0</td>\n",
       "      <td>0.0</td>\n",
       "      <td>3735.1380</td>\n",
       "    </tr>\n",
       "    <tr>\n",
       "      <th>1</th>\n",
       "      <td>1</td>\n",
       "      <td>1.0</td>\n",
       "      <td>-1.023236</td>\n",
       "      <td>-1.600871</td>\n",
       "      <td>1.0</td>\n",
       "      <td>2.0</td>\n",
       "      <td>1.0</td>\n",
       "      <td>443.4228</td>\n",
       "    </tr>\n",
       "    <tr>\n",
       "      <th>2</th>\n",
       "      <td>2</td>\n",
       "      <td>0.0</td>\n",
       "      <td>-1.109929</td>\n",
       "      <td>0.076445</td>\n",
       "      <td>1.0</td>\n",
       "      <td>0.0</td>\n",
       "      <td>0.0</td>\n",
       "      <td>2097.2700</td>\n",
       "    </tr>\n",
       "    <tr>\n",
       "      <th>3</th>\n",
       "      <td>3</td>\n",
       "      <td>0.0</td>\n",
       "      <td>-1.744118</td>\n",
       "      <td>-1.481986</td>\n",
       "      <td>2.0</td>\n",
       "      <td>2.0</td>\n",
       "      <td>0.0</td>\n",
       "      <td>994.7052</td>\n",
       "    </tr>\n",
       "    <tr>\n",
       "      <th>4</th>\n",
       "      <td>4</td>\n",
       "      <td>1.0</td>\n",
       "      <td>-1.744118</td>\n",
       "      <td>-1.533821</td>\n",
       "      <td>1.0</td>\n",
       "      <td>2.0</td>\n",
       "      <td>1.0</td>\n",
       "      <td>556.6088</td>\n",
       "    </tr>\n",
       "    <tr>\n",
       "      <th>...</th>\n",
       "      <td>...</td>\n",
       "      <td>...</td>\n",
       "      <td>...</td>\n",
       "      <td>...</td>\n",
       "      <td>...</td>\n",
       "      <td>...</td>\n",
       "      <td>...</td>\n",
       "      <td>...</td>\n",
       "    </tr>\n",
       "    <tr>\n",
       "      <th>6108</th>\n",
       "      <td>6108</td>\n",
       "      <td>1.0</td>\n",
       "      <td>0.616890</td>\n",
       "      <td>0.638757</td>\n",
       "      <td>0.0</td>\n",
       "      <td>0.0</td>\n",
       "      <td>0.0</td>\n",
       "      <td>3608.6360</td>\n",
       "    </tr>\n",
       "    <tr>\n",
       "      <th>6109</th>\n",
       "      <td>6109</td>\n",
       "      <td>0.0</td>\n",
       "      <td>0.049704</td>\n",
       "      <td>1.145606</td>\n",
       "      <td>2.0</td>\n",
       "      <td>2.0</td>\n",
       "      <td>0.0</td>\n",
       "      <td>2778.3834</td>\n",
       "    </tr>\n",
       "    <tr>\n",
       "      <th>6110</th>\n",
       "      <td>6110</td>\n",
       "      <td>0.0</td>\n",
       "      <td>-0.521358</td>\n",
       "      <td>-0.873760</td>\n",
       "      <td>0.0</td>\n",
       "      <td>1.0</td>\n",
       "      <td>0.0</td>\n",
       "      <td>1193.1136</td>\n",
       "    </tr>\n",
       "    <tr>\n",
       "      <th>6111</th>\n",
       "      <td>6111</td>\n",
       "      <td>1.0</td>\n",
       "      <td>1.502221</td>\n",
       "      <td>-0.554586</td>\n",
       "      <td>1.0</td>\n",
       "      <td>2.0</td>\n",
       "      <td>1.0</td>\n",
       "      <td>1845.5976</td>\n",
       "    </tr>\n",
       "    <tr>\n",
       "      <th>6112</th>\n",
       "      <td>6112</td>\n",
       "      <td>0.0</td>\n",
       "      <td>-0.250739</td>\n",
       "      <td>-1.053136</td>\n",
       "      <td>0.0</td>\n",
       "      <td>0.0</td>\n",
       "      <td>0.0</td>\n",
       "      <td>765.6700</td>\n",
       "    </tr>\n",
       "  </tbody>\n",
       "</table>\n",
       "<p>6113 rows × 8 columns</p>\n",
       "</div>"
      ],
      "text/plain": [
       "      index  Item_Fat_Content  Item_Visibility  Item_MRP  Outlet_Size  \\\n",
       "0         0               0.0        -1.134852  1.622234          1.0   \n",
       "1         1               1.0        -1.023236 -1.600871          1.0   \n",
       "2         2               0.0        -1.109929  0.076445          1.0   \n",
       "3         3               0.0        -1.744118 -1.481986          2.0   \n",
       "4         4               1.0        -1.744118 -1.533821          1.0   \n",
       "...     ...               ...              ...       ...          ...   \n",
       "6108   6108               1.0         0.616890  0.638757          0.0   \n",
       "6109   6109               0.0         0.049704  1.145606          2.0   \n",
       "6110   6110               0.0        -0.521358 -0.873760          0.0   \n",
       "6111   6111               1.0         1.502221 -0.554586          1.0   \n",
       "6112   6112               0.0        -0.250739 -1.053136          0.0   \n",
       "\n",
       "      Outlet_Location_Type  Outlet_Type  Item_Outlet_Sales  \n",
       "0                      0.0          0.0          3735.1380  \n",
       "1                      2.0          1.0           443.4228  \n",
       "2                      0.0          0.0          2097.2700  \n",
       "3                      2.0          0.0           994.7052  \n",
       "4                      2.0          1.0           556.6088  \n",
       "...                    ...          ...                ...  \n",
       "6108                   0.0          0.0          3608.6360  \n",
       "6109                   2.0          0.0          2778.3834  \n",
       "6110                   1.0          0.0          1193.1136  \n",
       "6111                   2.0          1.0          1845.5976  \n",
       "6112                   0.0          0.0           765.6700  \n",
       "\n",
       "[6113 rows x 8 columns]"
      ]
     },
     "execution_count": 451,
     "metadata": {},
     "output_type": "execute_result"
    }
   ],
   "source": [
    "MRP_high=(q3.Item_MRP+1.5*IQR.Item_MRP)\n",
    "print(MRP_high)\n",
    "index = np.where(data['Item_MRP']>MRP_high)\n",
    "data=data.drop(data.index[index])\n",
    "print(data.shape)\n",
    "data.reset_index()"
   ]
  },
  {
   "cell_type": "code",
   "execution_count": 452,
   "id": "46da2621",
   "metadata": {},
   "outputs": [
    {
     "data": {
      "text/html": [
       "<div>\n",
       "<style scoped>\n",
       "    .dataframe tbody tr th:only-of-type {\n",
       "        vertical-align: middle;\n",
       "    }\n",
       "\n",
       "    .dataframe tbody tr th {\n",
       "        vertical-align: top;\n",
       "    }\n",
       "\n",
       "    .dataframe thead th {\n",
       "        text-align: right;\n",
       "    }\n",
       "</style>\n",
       "<table border=\"1\" class=\"dataframe\">\n",
       "  <thead>\n",
       "    <tr style=\"text-align: right;\">\n",
       "      <th></th>\n",
       "      <th>Item_Fat_Content</th>\n",
       "      <th>Item_Visibility</th>\n",
       "      <th>Item_MRP</th>\n",
       "      <th>Outlet_Size</th>\n",
       "      <th>Outlet_Location_Type</th>\n",
       "      <th>Outlet_Type</th>\n",
       "      <th>Item_Outlet_Sales</th>\n",
       "    </tr>\n",
       "  </thead>\n",
       "  <tbody>\n",
       "    <tr>\n",
       "      <th>0</th>\n",
       "      <td>0.0</td>\n",
       "      <td>-1.134852</td>\n",
       "      <td>1.622234</td>\n",
       "      <td>1.0</td>\n",
       "      <td>0.0</td>\n",
       "      <td>0.0</td>\n",
       "      <td>3735.1380</td>\n",
       "    </tr>\n",
       "    <tr>\n",
       "      <th>1</th>\n",
       "      <td>1.0</td>\n",
       "      <td>-1.023236</td>\n",
       "      <td>-1.600871</td>\n",
       "      <td>1.0</td>\n",
       "      <td>2.0</td>\n",
       "      <td>1.0</td>\n",
       "      <td>443.4228</td>\n",
       "    </tr>\n",
       "    <tr>\n",
       "      <th>2</th>\n",
       "      <td>0.0</td>\n",
       "      <td>-1.109929</td>\n",
       "      <td>0.076445</td>\n",
       "      <td>1.0</td>\n",
       "      <td>0.0</td>\n",
       "      <td>0.0</td>\n",
       "      <td>2097.2700</td>\n",
       "    </tr>\n",
       "    <tr>\n",
       "      <th>3</th>\n",
       "      <td>0.0</td>\n",
       "      <td>-1.744118</td>\n",
       "      <td>-1.481986</td>\n",
       "      <td>2.0</td>\n",
       "      <td>2.0</td>\n",
       "      <td>0.0</td>\n",
       "      <td>994.7052</td>\n",
       "    </tr>\n",
       "    <tr>\n",
       "      <th>4</th>\n",
       "      <td>1.0</td>\n",
       "      <td>-1.744118</td>\n",
       "      <td>-1.533821</td>\n",
       "      <td>1.0</td>\n",
       "      <td>2.0</td>\n",
       "      <td>1.0</td>\n",
       "      <td>556.6088</td>\n",
       "    </tr>\n",
       "  </tbody>\n",
       "</table>\n",
       "</div>"
      ],
      "text/plain": [
       "   Item_Fat_Content  Item_Visibility  Item_MRP  Outlet_Size  \\\n",
       "0               0.0        -1.134852  1.622234          1.0   \n",
       "1               1.0        -1.023236 -1.600871          1.0   \n",
       "2               0.0        -1.109929  0.076445          1.0   \n",
       "3               0.0        -1.744118 -1.481986          2.0   \n",
       "4               1.0        -1.744118 -1.533821          1.0   \n",
       "\n",
       "   Outlet_Location_Type  Outlet_Type  Item_Outlet_Sales  \n",
       "0                   0.0          0.0          3735.1380  \n",
       "1                   2.0          1.0           443.4228  \n",
       "2                   0.0          0.0          2097.2700  \n",
       "3                   2.0          0.0           994.7052  \n",
       "4                   2.0          1.0           556.6088  "
      ]
     },
     "execution_count": 452,
     "metadata": {},
     "output_type": "execute_result"
    }
   ],
   "source": [
    "data.head()"
   ]
  },
  {
   "cell_type": "code",
   "execution_count": 454,
   "id": "43fd4db3",
   "metadata": {},
   "outputs": [
    {
     "data": {
      "image/png": "[encoded data removed]",
      "text/plain": [
       "<Figure size 1080x504 with 7 Axes>"
      ]
     },
     "metadata": {
      "needs_background": "light"
     },
     "output_type": "display_data"
    }
   ],
   "source": [
    "plt.figure(figsize=(15,7))\n",
    "graph=1\n",
    "\n",
    "for column in data:\n",
    "    if graph<=8:\n",
    "        ax=plt.subplot(2,4,graph)\n",
    "        sns.boxplot(data = data[column],orient=\"v\")\n",
    "        plt.xlabel(column,fontsize=10)\n",
    "    graph+=1\n",
    "plt.show()"
   ]
  },
  {
   "cell_type": "markdown",
   "id": "ab860fc0",
   "metadata": {},
   "source": [
    "#### OUTLIERS are removed and now we can good to proceed ahead,"
   ]
  },
  {
   "cell_type": "markdown",
   "id": "7f7ffe1e",
   "metadata": {},
   "source": [
    "### Data Standardization and checking vif values"
   ]
  },
  {
   "cell_type": "code",
   "execution_count": 455,
   "id": "a8561f20",
   "metadata": {},
   "outputs": [],
   "source": [
    "X = data.drop(columns = ['Item_Outlet_Sales'],axis=1)\n",
    "y = data['Item_Outlet_Sales']"
   ]
  },
  {
   "cell_type": "code",
   "execution_count": 456,
   "id": "d7abafb9",
   "metadata": {},
   "outputs": [],
   "source": [
    "from sklearn.preprocessing import StandardScaler"
   ]
  },
  {
   "cell_type": "code",
   "execution_count": 457,
   "id": "4c7403ed",
   "metadata": {},
   "outputs": [
    {
     "data": {
      "text/plain": [
       "array([ 1.35377822, -1.02323569, -1.60087114,  0.3415242 ,  1.01637093,\n",
       "        0.19294082])"
      ]
     },
     "execution_count": 457,
     "metadata": {},
     "output_type": "execute_result"
    }
   ],
   "source": [
    "scaler=StandardScaler()\n",
    "X_scaled=scaler.fit_transform(X)\n",
    "X_scaled[1]"
   ]
  },
  {
   "cell_type": "markdown",
   "id": "808617ef",
   "metadata": {},
   "source": [
    "#### Checking for variance influence factor(vif) "
   ]
  },
  {
   "cell_type": "code",
   "execution_count": 458,
   "id": "ba09ed36",
   "metadata": {},
   "outputs": [],
   "source": [
    "from statsmodels.stats.outliers_influence import variance_inflation_factor"
   ]
  },
  {
   "cell_type": "code",
   "execution_count": 459,
   "id": "a1cdc25d",
   "metadata": {},
   "outputs": [
    {
     "data": {
      "text/html": [
       "<div>\n",
       "<style scoped>\n",
       "    .dataframe tbody tr th:only-of-type {\n",
       "        vertical-align: middle;\n",
       "    }\n",
       "\n",
       "    .dataframe tbody tr th {\n",
       "        vertical-align: top;\n",
       "    }\n",
       "\n",
       "    .dataframe thead th {\n",
       "        text-align: right;\n",
       "    }\n",
       "</style>\n",
       "<table border=\"1\" class=\"dataframe\">\n",
       "  <thead>\n",
       "    <tr style=\"text-align: right;\">\n",
       "      <th></th>\n",
       "      <th>vif</th>\n",
       "      <th>Features</th>\n",
       "    </tr>\n",
       "  </thead>\n",
       "  <tbody>\n",
       "    <tr>\n",
       "      <th>0</th>\n",
       "      <td>1.002819</td>\n",
       "      <td>Item_Fat_Content</td>\n",
       "    </tr>\n",
       "    <tr>\n",
       "      <th>1</th>\n",
       "      <td>1.017399</td>\n",
       "      <td>Item_Visibility</td>\n",
       "    </tr>\n",
       "    <tr>\n",
       "      <th>2</th>\n",
       "      <td>1.000469</td>\n",
       "      <td>Item_MRP</td>\n",
       "    </tr>\n",
       "    <tr>\n",
       "      <th>3</th>\n",
       "      <td>1.851270</td>\n",
       "      <td>Outlet_Size</td>\n",
       "    </tr>\n",
       "    <tr>\n",
       "      <th>4</th>\n",
       "      <td>2.164671</td>\n",
       "      <td>Outlet_Location_Type</td>\n",
       "    </tr>\n",
       "    <tr>\n",
       "      <th>5</th>\n",
       "      <td>1.293748</td>\n",
       "      <td>Outlet_Type</td>\n",
       "    </tr>\n",
       "  </tbody>\n",
       "</table>\n",
       "</div>"
      ],
      "text/plain": [
       "        vif              Features\n",
       "0  1.002819      Item_Fat_Content\n",
       "1  1.017399       Item_Visibility\n",
       "2  1.000469              Item_MRP\n",
       "3  1.851270           Outlet_Size\n",
       "4  2.164671  Outlet_Location_Type\n",
       "5  1.293748           Outlet_Type"
      ]
     },
     "execution_count": 459,
     "metadata": {},
     "output_type": "execute_result"
    }
   ],
   "source": [
    "vif=pd.DataFrame()\n",
    "vif[\"vif\"]=[variance_inflation_factor(X_scaled,i) for i in range(X_scaled.shape[1])]\n",
    "vif[\"Features\"]=X.columns\n",
    "\n",
    "# lets check the vif\n",
    "vif"
   ]
  },
  {
   "cell_type": "markdown",
   "id": "6b8a8146",
   "metadata": {},
   "source": [
    "### There is no problem of multicolinearity as vif < 5"
   ]
  },
  {
   "cell_type": "code",
   "execution_count": 460,
   "id": "de7820e7",
   "metadata": {},
   "outputs": [],
   "source": [
    "from sklearn.linear_model import LinearRegression\n",
    "lr = LinearRegression()\n",
    "from sklearn.metrics import r2_score\n",
    "from sklearn.model_selection import train_test_split"
   ]
  },
  {
   "cell_type": "code",
   "execution_count": 461,
   "id": "dded28f9",
   "metadata": {},
   "outputs": [
    {
     "name": "stdout",
     "output_type": "stream",
     "text": [
      "At random state 53 model perform very well\n",
      "At random state 53\n",
      "Training accuracy score is 39.60370716989975\n",
      "Testing accuracy score is 39.63630118886417\n",
      "At random state 132 model perform very well\n",
      "At random state 132\n",
      "Training accuracy score is 39.61212403153252\n",
      "Testing accuracy score is 39.58104326323982\n",
      "At random state 136 model perform very well\n",
      "At random state 136\n",
      "Training accuracy score is 39.63870471644275\n",
      "Testing accuracy score is 39.639707335570705\n",
      "At random state 273 model perform very well\n",
      "At random state 273\n",
      "Training accuracy score is 39.63416054828214\n",
      "Testing accuracy score is 39.57439056483323\n",
      "At random state 316 model perform very well\n",
      "At random state 316\n",
      "Training accuracy score is 39.641732279622744\n",
      "Testing accuracy score is 39.56828794658127\n",
      "At random state 369 model perform very well\n",
      "At random state 369\n",
      "Training accuracy score is 39.627400508385776\n",
      "Testing accuracy score is 39.623564807083135\n",
      "At random state 415 model perform very well\n",
      "At random state 415\n",
      "Training accuracy score is 39.58705201222457\n",
      "Testing accuracy score is 39.56302440610623\n",
      "At random state 435 model perform very well\n",
      "At random state 435\n",
      "Training accuracy score is 39.636426711835426\n",
      "Testing accuracy score is 39.60609065953611\n",
      "At random state 450 model perform very well\n",
      "At random state 450\n",
      "Training accuracy score is 39.634806694582956\n",
      "Testing accuracy score is 39.5900523764491\n",
      "At random state 497 model perform very well\n",
      "At random state 497\n",
      "Training accuracy score is 39.64489073509334\n",
      "Testing accuracy score is 39.645639753297644\n",
      "At random state 511 model perform very well\n",
      "At random state 511\n",
      "Training accuracy score is 39.60451688539273\n",
      "Testing accuracy score is 39.57080361599791\n",
      "At random state 531 model perform very well\n",
      "At random state 531\n",
      "Training accuracy score is 39.638262798412704\n",
      "Testing accuracy score is 39.6208790686051\n",
      "At random state 590 model perform very well\n",
      "At random state 590\n",
      "Training accuracy score is 39.609886693869825\n",
      "Testing accuracy score is 39.604657864813774\n",
      "At random state 623 model perform very well\n",
      "At random state 623\n",
      "Training accuracy score is 39.62774196538589\n",
      "Testing accuracy score is 39.56506208075166\n",
      "At random state 725 model perform very well\n",
      "At random state 725\n",
      "Training accuracy score is 39.55736607675586\n",
      "Testing accuracy score is 39.614702815236434\n",
      "At random state 756 model perform very well\n",
      "At random state 756\n",
      "Training accuracy score is 39.57892204123863\n",
      "Testing accuracy score is 39.585725812902425\n",
      "At random state 757 model perform very well\n",
      "At random state 757\n",
      "Training accuracy score is 39.64150577329072\n",
      "Testing accuracy score is 39.56515261871787\n",
      "At random state 812 model perform very well\n",
      "At random state 812\n",
      "Training accuracy score is 39.62493307087007\n",
      "Testing accuracy score is 39.60784425415588\n",
      "At random state 892 model perform very well\n",
      "At random state 892\n",
      "Training accuracy score is 39.63380630726543\n",
      "Testing accuracy score is 39.63954078134878\n",
      "At random state 908 model perform very well\n",
      "At random state 908\n",
      "Training accuracy score is 39.644609255624594\n",
      "Testing accuracy score is 39.58401002274511\n",
      "At random state 939 model perform very well\n",
      "At random state 939\n",
      "Training accuracy score is 39.64750532487808\n",
      "Testing accuracy score is 39.63427259580048\n",
      "At random state 970 model perform very well\n",
      "At random state 970\n",
      "Training accuracy score is 39.61081767075759\n",
      "Testing accuracy score is 39.60370272535282\n"
     ]
    }
   ],
   "source": [
    "for i in range(0,1000):\n",
    "    x_train,x_test,y_train,y_test = train_test_split(X,y,test_size=0.20,random_state = i)\n",
    "    lr.fit(x_train,y_train)\n",
    "    pred_train = lr.predict(x_train) \n",
    "    pred_test = lr.predict(x_test)\n",
    "    if round(r2_score(y_train,pred_train)*100,1) == round(r2_score(y_test,pred_test)*100,1):\n",
    "        print(\"At random state\",i,\"model perform very well\")\n",
    "        print(\"At random state\",i)\n",
    "        print('Training accuracy score is',r2_score(y_train,pred_train)*100)\n",
    "        print('Testing accuracy score is',r2_score(y_test,pred_test)*100)"
   ]
  },
  {
   "cell_type": "code",
   "execution_count": null,
   "id": "60e00d38",
   "metadata": {},
   "outputs": [],
   "source": []
  }
 ],
 "metadata": {
  "kernelspec": {
   "display_name": "Python 3",
   "language": "python",
   "name": "python3"
  },
  "language_info": {
   "codemirror_mode": {
    "name": "ipython",
    "version": 3
   },
   "file_extension": ".py",
   "mimetype": "text/x-python",
   "name": "python",
   "nbconvert_exporter": "python",
   "pygments_lexer": "ipython3",
   "version": "3.8.8"
  }
 },
 "nbformat": 4,
 "nbformat_minor": 5
}
