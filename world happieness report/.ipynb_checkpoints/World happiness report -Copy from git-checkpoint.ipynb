{
 "cells": [
  {
   "cell_type": "markdown",
   "id": "97de4c31",
   "metadata": {},
   "source": [
    "### Task - You need to predict the happiness score considering all the other factors mentioned in the dataset. "
   ]
  },
  {
   "cell_type": "code",
   "execution_count": 30,
   "id": "7a3f6bca",
   "metadata": {},
   "outputs": [],
   "source": [
    "#basic library\n",
    "import pandas as pd\n",
    "import numpy as np\n",
    "import matplotlib.pyplot as plt \n",
    "import seaborn as sns"
   ]
  },
  {
   "cell_type": "code",
   "execution_count": 31,
   "id": "0c352a72",
   "metadata": {},
   "outputs": [],
   "source": [
    "data = pd.read_csv(\"happiness_score_dataset.csv\")"
   ]
  },
  {
   "cell_type": "code",
   "execution_count": 32,
   "id": "ea619164",
   "metadata": {},
   "outputs": [
    {
     "data": {
      "text/html": [
       "<div>\n",
       "<style scoped>\n",
       "    .dataframe tbody tr th:only-of-type {\n",
       "        vertical-align: middle;\n",
       "    }\n",
       "\n",
       "    .dataframe tbody tr th {\n",
       "        vertical-align: top;\n",
       "    }\n",
       "\n",
       "    .dataframe thead th {\n",
       "        text-align: right;\n",
       "    }\n",
       "</style>\n",
       "<table border=\"1\" class=\"dataframe\">\n",
       "  <thead>\n",
       "    <tr style=\"text-align: right;\">\n",
       "      <th></th>\n",
       "      <th>Country</th>\n",
       "      <th>Region</th>\n",
       "      <th>Happiness Rank</th>\n",
       "      <th>Happiness Score</th>\n",
       "      <th>Standard Error</th>\n",
       "      <th>Economy (GDP per Capita)</th>\n",
       "      <th>Family</th>\n",
       "      <th>Health (Life Expectancy)</th>\n",
       "      <th>Freedom</th>\n",
       "      <th>Trust (Government Corruption)</th>\n",
       "      <th>Generosity</th>\n",
       "      <th>Dystopia Residual</th>\n",
       "    </tr>\n",
       "  </thead>\n",
       "  <tbody>\n",
       "    <tr>\n",
       "      <th>91</th>\n",
       "      <td>Morocco</td>\n",
       "      <td>Middle East and Northern Africa</td>\n",
       "      <td>92</td>\n",
       "      <td>5.013</td>\n",
       "      <td>0.03420</td>\n",
       "      <td>0.73479</td>\n",
       "      <td>0.64095</td>\n",
       "      <td>0.60954</td>\n",
       "      <td>0.41691</td>\n",
       "      <td>0.08546</td>\n",
       "      <td>0.07172</td>\n",
       "      <td>2.45373</td>\n",
       "    </tr>\n",
       "    <tr>\n",
       "      <th>102</th>\n",
       "      <td>Lebanon</td>\n",
       "      <td>Middle East and Northern Africa</td>\n",
       "      <td>103</td>\n",
       "      <td>4.839</td>\n",
       "      <td>0.04337</td>\n",
       "      <td>1.02564</td>\n",
       "      <td>0.80001</td>\n",
       "      <td>0.83947</td>\n",
       "      <td>0.33916</td>\n",
       "      <td>0.04582</td>\n",
       "      <td>0.21854</td>\n",
       "      <td>1.57059</td>\n",
       "    </tr>\n",
       "    <tr>\n",
       "      <th>71</th>\n",
       "      <td>Hong Kong</td>\n",
       "      <td>Eastern Asia</td>\n",
       "      <td>72</td>\n",
       "      <td>5.474</td>\n",
       "      <td>0.05051</td>\n",
       "      <td>1.38604</td>\n",
       "      <td>1.05818</td>\n",
       "      <td>1.01328</td>\n",
       "      <td>0.59608</td>\n",
       "      <td>0.37124</td>\n",
       "      <td>0.39478</td>\n",
       "      <td>0.65429</td>\n",
       "    </tr>\n",
       "    <tr>\n",
       "      <th>126</th>\n",
       "      <td>Armenia</td>\n",
       "      <td>Central and Eastern Europe</td>\n",
       "      <td>127</td>\n",
       "      <td>4.350</td>\n",
       "      <td>0.04763</td>\n",
       "      <td>0.76821</td>\n",
       "      <td>0.77711</td>\n",
       "      <td>0.72990</td>\n",
       "      <td>0.19847</td>\n",
       "      <td>0.03900</td>\n",
       "      <td>0.07855</td>\n",
       "      <td>1.75873</td>\n",
       "    </tr>\n",
       "    <tr>\n",
       "      <th>63</th>\n",
       "      <td>Russia</td>\n",
       "      <td>Central and Eastern Europe</td>\n",
       "      <td>64</td>\n",
       "      <td>5.716</td>\n",
       "      <td>0.03135</td>\n",
       "      <td>1.13764</td>\n",
       "      <td>1.23617</td>\n",
       "      <td>0.66926</td>\n",
       "      <td>0.36679</td>\n",
       "      <td>0.03005</td>\n",
       "      <td>0.00199</td>\n",
       "      <td>2.27394</td>\n",
       "    </tr>\n",
       "  </tbody>\n",
       "</table>\n",
       "</div>"
      ],
      "text/plain": [
       "       Country                           Region  Happiness Rank  \\\n",
       "91     Morocco  Middle East and Northern Africa              92   \n",
       "102    Lebanon  Middle East and Northern Africa             103   \n",
       "71   Hong Kong                     Eastern Asia              72   \n",
       "126    Armenia       Central and Eastern Europe             127   \n",
       "63      Russia       Central and Eastern Europe              64   \n",
       "\n",
       "     Happiness Score  Standard Error  Economy (GDP per Capita)   Family  \\\n",
       "91             5.013         0.03420                   0.73479  0.64095   \n",
       "102            4.839         0.04337                   1.02564  0.80001   \n",
       "71             5.474         0.05051                   1.38604  1.05818   \n",
       "126            4.350         0.04763                   0.76821  0.77711   \n",
       "63             5.716         0.03135                   1.13764  1.23617   \n",
       "\n",
       "     Health (Life Expectancy)  Freedom  Trust (Government Corruption)  \\\n",
       "91                    0.60954  0.41691                        0.08546   \n",
       "102                   0.83947  0.33916                        0.04582   \n",
       "71                    1.01328  0.59608                        0.37124   \n",
       "126                   0.72990  0.19847                        0.03900   \n",
       "63                    0.66926  0.36679                        0.03005   \n",
       "\n",
       "     Generosity  Dystopia Residual  \n",
       "91      0.07172            2.45373  \n",
       "102     0.21854            1.57059  \n",
       "71      0.39478            0.65429  \n",
       "126     0.07855            1.75873  \n",
       "63      0.00199            2.27394  "
      ]
     },
     "execution_count": 32,
     "metadata": {},
     "output_type": "execute_result"
    }
   ],
   "source": [
    "data.sample(5) #sample will show you random 5 values from data set instead of this we can use head() to see top rows."
   ]
  },
  {
   "cell_type": "code",
   "execution_count": 33,
   "id": "f5bfb4f3",
   "metadata": {},
   "outputs": [
    {
     "data": {
      "text/plain": [
       "(158, 12)"
      ]
     },
     "execution_count": 33,
     "metadata": {},
     "output_type": "execute_result"
    }
   ],
   "source": [
    "data.shape #there are 158 rows and 12 columns"
   ]
  },
  {
   "cell_type": "code",
   "execution_count": 34,
   "id": "1dfa5971",
   "metadata": {},
   "outputs": [
    {
     "data": {
      "text/plain": [
       "Country                          0\n",
       "Region                           0\n",
       "Happiness Rank                   0\n",
       "Happiness Score                  0\n",
       "Standard Error                   0\n",
       "Economy (GDP per Capita)         0\n",
       "Family                           0\n",
       "Health (Life Expectancy)         0\n",
       "Freedom                          0\n",
       "Trust (Government Corruption)    0\n",
       "Generosity                       0\n",
       "Dystopia Residual                0\n",
       "dtype: int64"
      ]
     },
     "execution_count": 34,
     "metadata": {},
     "output_type": "execute_result"
    }
   ],
   "source": [
    "# checking aur null values in columns\n",
    "data.isnull().sum()"
   ]
  },
  {
   "cell_type": "markdown",
   "id": "b66bd81b",
   "metadata": {},
   "source": [
    "###### there is no null values in any columns so we can skip the part of imputing values "
   ]
  },
  {
   "cell_type": "code",
   "execution_count": 35,
   "id": "43726715",
   "metadata": {},
   "outputs": [
    {
     "data": {
      "text/html": [
       "<div>\n",
       "<style scoped>\n",
       "    .dataframe tbody tr th:only-of-type {\n",
       "        vertical-align: middle;\n",
       "    }\n",
       "\n",
       "    .dataframe tbody tr th {\n",
       "        vertical-align: top;\n",
       "    }\n",
       "\n",
       "    .dataframe thead th {\n",
       "        text-align: right;\n",
       "    }\n",
       "</style>\n",
       "<table border=\"1\" class=\"dataframe\">\n",
       "  <thead>\n",
       "    <tr style=\"text-align: right;\">\n",
       "      <th></th>\n",
       "      <th>Happiness Rank</th>\n",
       "      <th>Happiness Score</th>\n",
       "      <th>Standard Error</th>\n",
       "      <th>Economy (GDP per Capita)</th>\n",
       "      <th>Family</th>\n",
       "      <th>Health (Life Expectancy)</th>\n",
       "      <th>Freedom</th>\n",
       "      <th>Trust (Government Corruption)</th>\n",
       "      <th>Generosity</th>\n",
       "      <th>Dystopia Residual</th>\n",
       "    </tr>\n",
       "  </thead>\n",
       "  <tbody>\n",
       "    <tr>\n",
       "      <th>count</th>\n",
       "      <td>158.000000</td>\n",
       "      <td>158.000000</td>\n",
       "      <td>158.000000</td>\n",
       "      <td>158.000000</td>\n",
       "      <td>158.000000</td>\n",
       "      <td>158.000000</td>\n",
       "      <td>158.000000</td>\n",
       "      <td>158.000000</td>\n",
       "      <td>158.000000</td>\n",
       "      <td>158.000000</td>\n",
       "    </tr>\n",
       "    <tr>\n",
       "      <th>mean</th>\n",
       "      <td>79.493671</td>\n",
       "      <td>5.375734</td>\n",
       "      <td>0.047885</td>\n",
       "      <td>0.846137</td>\n",
       "      <td>0.991046</td>\n",
       "      <td>0.630259</td>\n",
       "      <td>0.428615</td>\n",
       "      <td>0.143422</td>\n",
       "      <td>0.237296</td>\n",
       "      <td>2.098977</td>\n",
       "    </tr>\n",
       "    <tr>\n",
       "      <th>std</th>\n",
       "      <td>45.754363</td>\n",
       "      <td>1.145010</td>\n",
       "      <td>0.017146</td>\n",
       "      <td>0.403121</td>\n",
       "      <td>0.272369</td>\n",
       "      <td>0.247078</td>\n",
       "      <td>0.150693</td>\n",
       "      <td>0.120034</td>\n",
       "      <td>0.126685</td>\n",
       "      <td>0.553550</td>\n",
       "    </tr>\n",
       "    <tr>\n",
       "      <th>min</th>\n",
       "      <td>1.000000</td>\n",
       "      <td>2.839000</td>\n",
       "      <td>0.018480</td>\n",
       "      <td>0.000000</td>\n",
       "      <td>0.000000</td>\n",
       "      <td>0.000000</td>\n",
       "      <td>0.000000</td>\n",
       "      <td>0.000000</td>\n",
       "      <td>0.000000</td>\n",
       "      <td>0.328580</td>\n",
       "    </tr>\n",
       "    <tr>\n",
       "      <th>25%</th>\n",
       "      <td>40.250000</td>\n",
       "      <td>4.526000</td>\n",
       "      <td>0.037268</td>\n",
       "      <td>0.545808</td>\n",
       "      <td>0.856823</td>\n",
       "      <td>0.439185</td>\n",
       "      <td>0.328330</td>\n",
       "      <td>0.061675</td>\n",
       "      <td>0.150553</td>\n",
       "      <td>1.759410</td>\n",
       "    </tr>\n",
       "    <tr>\n",
       "      <th>50%</th>\n",
       "      <td>79.500000</td>\n",
       "      <td>5.232500</td>\n",
       "      <td>0.043940</td>\n",
       "      <td>0.910245</td>\n",
       "      <td>1.029510</td>\n",
       "      <td>0.696705</td>\n",
       "      <td>0.435515</td>\n",
       "      <td>0.107220</td>\n",
       "      <td>0.216130</td>\n",
       "      <td>2.095415</td>\n",
       "    </tr>\n",
       "    <tr>\n",
       "      <th>75%</th>\n",
       "      <td>118.750000</td>\n",
       "      <td>6.243750</td>\n",
       "      <td>0.052300</td>\n",
       "      <td>1.158448</td>\n",
       "      <td>1.214405</td>\n",
       "      <td>0.811013</td>\n",
       "      <td>0.549092</td>\n",
       "      <td>0.180255</td>\n",
       "      <td>0.309883</td>\n",
       "      <td>2.462415</td>\n",
       "    </tr>\n",
       "    <tr>\n",
       "      <th>max</th>\n",
       "      <td>158.000000</td>\n",
       "      <td>7.587000</td>\n",
       "      <td>0.136930</td>\n",
       "      <td>1.690420</td>\n",
       "      <td>1.402230</td>\n",
       "      <td>1.025250</td>\n",
       "      <td>0.669730</td>\n",
       "      <td>0.551910</td>\n",
       "      <td>0.795880</td>\n",
       "      <td>3.602140</td>\n",
       "    </tr>\n",
       "  </tbody>\n",
       "</table>\n",
       "</div>"
      ],
      "text/plain": [
       "       Happiness Rank  Happiness Score  Standard Error  \\\n",
       "count      158.000000       158.000000      158.000000   \n",
       "mean        79.493671         5.375734        0.047885   \n",
       "std         45.754363         1.145010        0.017146   \n",
       "min          1.000000         2.839000        0.018480   \n",
       "25%         40.250000         4.526000        0.037268   \n",
       "50%         79.500000         5.232500        0.043940   \n",
       "75%        118.750000         6.243750        0.052300   \n",
       "max        158.000000         7.587000        0.136930   \n",
       "\n",
       "       Economy (GDP per Capita)      Family  Health (Life Expectancy)  \\\n",
       "count                158.000000  158.000000                158.000000   \n",
       "mean                   0.846137    0.991046                  0.630259   \n",
       "std                    0.403121    0.272369                  0.247078   \n",
       "min                    0.000000    0.000000                  0.000000   \n",
       "25%                    0.545808    0.856823                  0.439185   \n",
       "50%                    0.910245    1.029510                  0.696705   \n",
       "75%                    1.158448    1.214405                  0.811013   \n",
       "max                    1.690420    1.402230                  1.025250   \n",
       "\n",
       "          Freedom  Trust (Government Corruption)  Generosity  \\\n",
       "count  158.000000                     158.000000  158.000000   \n",
       "mean     0.428615                       0.143422    0.237296   \n",
       "std      0.150693                       0.120034    0.126685   \n",
       "min      0.000000                       0.000000    0.000000   \n",
       "25%      0.328330                       0.061675    0.150553   \n",
       "50%      0.435515                       0.107220    0.216130   \n",
       "75%      0.549092                       0.180255    0.309883   \n",
       "max      0.669730                       0.551910    0.795880   \n",
       "\n",
       "       Dystopia Residual  \n",
       "count         158.000000  \n",
       "mean            2.098977  \n",
       "std             0.553550  \n",
       "min             0.328580  \n",
       "25%             1.759410  \n",
       "50%             2.095415  \n",
       "75%             2.462415  \n",
       "max             3.602140  "
      ]
     },
     "execution_count": 35,
     "metadata": {},
     "output_type": "execute_result"
    }
   ],
   "source": [
    "data.describe() #statistical summary"
   ]
  },
  {
   "cell_type": "markdown",
   "id": "4fa5bedc",
   "metadata": {},
   "source": [
    "### Observation - 1)GDP, Health, freedom, trust(GC),Generosity can't be zero(min value) - outliers should be removed. \n",
    "### 2) Continous data\n",
    "### Columns used : GDP per Capita, Family, Life Expectancy, Freedom, Generosity, Trust Government Corruption describe the extent to which these factors contribute in evaluating the happiness in each country. so we can drop all other except this columns"
   ]
  },
  {
   "cell_type": "code",
   "execution_count": 36,
   "id": "c19ed684",
   "metadata": {},
   "outputs": [],
   "source": [
    "data.drop(columns=['Country','Region','Happiness Rank','Standard Error'],axis=1,inplace=True) #droping country and region columns"
   ]
  },
  {
   "cell_type": "code",
   "execution_count": 37,
   "id": "e48199b1",
   "metadata": {},
   "outputs": [],
   "source": [
    "# checking correlation"
   ]
  },
  {
   "cell_type": "code",
   "execution_count": 38,
   "id": "f35b50de",
   "metadata": {},
   "outputs": [
    {
     "data": {
      "text/html": [
       "<div>\n",
       "<style scoped>\n",
       "    .dataframe tbody tr th:only-of-type {\n",
       "        vertical-align: middle;\n",
       "    }\n",
       "\n",
       "    .dataframe tbody tr th {\n",
       "        vertical-align: top;\n",
       "    }\n",
       "\n",
       "    .dataframe thead th {\n",
       "        text-align: right;\n",
       "    }\n",
       "</style>\n",
       "<table border=\"1\" class=\"dataframe\">\n",
       "  <thead>\n",
       "    <tr style=\"text-align: right;\">\n",
       "      <th></th>\n",
       "      <th>Happiness Score</th>\n",
       "      <th>Economy (GDP per Capita)</th>\n",
       "      <th>Family</th>\n",
       "      <th>Health (Life Expectancy)</th>\n",
       "      <th>Freedom</th>\n",
       "      <th>Trust (Government Corruption)</th>\n",
       "      <th>Generosity</th>\n",
       "      <th>Dystopia Residual</th>\n",
       "    </tr>\n",
       "  </thead>\n",
       "  <tbody>\n",
       "    <tr>\n",
       "      <th>Happiness Score</th>\n",
       "      <td>1.000000</td>\n",
       "      <td>0.780966</td>\n",
       "      <td>0.740605</td>\n",
       "      <td>0.724200</td>\n",
       "      <td>0.568211</td>\n",
       "      <td>0.395199</td>\n",
       "      <td>0.180319</td>\n",
       "      <td>0.530474</td>\n",
       "    </tr>\n",
       "    <tr>\n",
       "      <th>Economy (GDP per Capita)</th>\n",
       "      <td>0.780966</td>\n",
       "      <td>1.000000</td>\n",
       "      <td>0.645299</td>\n",
       "      <td>0.816478</td>\n",
       "      <td>0.370300</td>\n",
       "      <td>0.307885</td>\n",
       "      <td>-0.010465</td>\n",
       "      <td>0.040059</td>\n",
       "    </tr>\n",
       "    <tr>\n",
       "      <th>Family</th>\n",
       "      <td>0.740605</td>\n",
       "      <td>0.645299</td>\n",
       "      <td>1.000000</td>\n",
       "      <td>0.531104</td>\n",
       "      <td>0.441518</td>\n",
       "      <td>0.205605</td>\n",
       "      <td>0.087513</td>\n",
       "      <td>0.148117</td>\n",
       "    </tr>\n",
       "    <tr>\n",
       "      <th>Health (Life Expectancy)</th>\n",
       "      <td>0.724200</td>\n",
       "      <td>0.816478</td>\n",
       "      <td>0.531104</td>\n",
       "      <td>1.000000</td>\n",
       "      <td>0.360477</td>\n",
       "      <td>0.248335</td>\n",
       "      <td>0.108335</td>\n",
       "      <td>0.018979</td>\n",
       "    </tr>\n",
       "    <tr>\n",
       "      <th>Freedom</th>\n",
       "      <td>0.568211</td>\n",
       "      <td>0.370300</td>\n",
       "      <td>0.441518</td>\n",
       "      <td>0.360477</td>\n",
       "      <td>1.000000</td>\n",
       "      <td>0.493524</td>\n",
       "      <td>0.373916</td>\n",
       "      <td>0.062783</td>\n",
       "    </tr>\n",
       "    <tr>\n",
       "      <th>Trust (Government Corruption)</th>\n",
       "      <td>0.395199</td>\n",
       "      <td>0.307885</td>\n",
       "      <td>0.205605</td>\n",
       "      <td>0.248335</td>\n",
       "      <td>0.493524</td>\n",
       "      <td>1.000000</td>\n",
       "      <td>0.276123</td>\n",
       "      <td>-0.033105</td>\n",
       "    </tr>\n",
       "    <tr>\n",
       "      <th>Generosity</th>\n",
       "      <td>0.180319</td>\n",
       "      <td>-0.010465</td>\n",
       "      <td>0.087513</td>\n",
       "      <td>0.108335</td>\n",
       "      <td>0.373916</td>\n",
       "      <td>0.276123</td>\n",
       "      <td>1.000000</td>\n",
       "      <td>-0.101301</td>\n",
       "    </tr>\n",
       "    <tr>\n",
       "      <th>Dystopia Residual</th>\n",
       "      <td>0.530474</td>\n",
       "      <td>0.040059</td>\n",
       "      <td>0.148117</td>\n",
       "      <td>0.018979</td>\n",
       "      <td>0.062783</td>\n",
       "      <td>-0.033105</td>\n",
       "      <td>-0.101301</td>\n",
       "      <td>1.000000</td>\n",
       "    </tr>\n",
       "  </tbody>\n",
       "</table>\n",
       "</div>"
      ],
      "text/plain": [
       "                               Happiness Score  Economy (GDP per Capita)  \\\n",
       "Happiness Score                       1.000000                  0.780966   \n",
       "Economy (GDP per Capita)              0.780966                  1.000000   \n",
       "Family                                0.740605                  0.645299   \n",
       "Health (Life Expectancy)              0.724200                  0.816478   \n",
       "Freedom                               0.568211                  0.370300   \n",
       "Trust (Government Corruption)         0.395199                  0.307885   \n",
       "Generosity                            0.180319                 -0.010465   \n",
       "Dystopia Residual                     0.530474                  0.040059   \n",
       "\n",
       "                                 Family  Health (Life Expectancy)   Freedom  \\\n",
       "Happiness Score                0.740605                  0.724200  0.568211   \n",
       "Economy (GDP per Capita)       0.645299                  0.816478  0.370300   \n",
       "Family                         1.000000                  0.531104  0.441518   \n",
       "Health (Life Expectancy)       0.531104                  1.000000  0.360477   \n",
       "Freedom                        0.441518                  0.360477  1.000000   \n",
       "Trust (Government Corruption)  0.205605                  0.248335  0.493524   \n",
       "Generosity                     0.087513                  0.108335  0.373916   \n",
       "Dystopia Residual              0.148117                  0.018979  0.062783   \n",
       "\n",
       "                               Trust (Government Corruption)  Generosity  \\\n",
       "Happiness Score                                     0.395199    0.180319   \n",
       "Economy (GDP per Capita)                            0.307885   -0.010465   \n",
       "Family                                              0.205605    0.087513   \n",
       "Health (Life Expectancy)                            0.248335    0.108335   \n",
       "Freedom                                             0.493524    0.373916   \n",
       "Trust (Government Corruption)                       1.000000    0.276123   \n",
       "Generosity                                          0.276123    1.000000   \n",
       "Dystopia Residual                                  -0.033105   -0.101301   \n",
       "\n",
       "                               Dystopia Residual  \n",
       "Happiness Score                         0.530474  \n",
       "Economy (GDP per Capita)                0.040059  \n",
       "Family                                  0.148117  \n",
       "Health (Life Expectancy)                0.018979  \n",
       "Freedom                                 0.062783  \n",
       "Trust (Government Corruption)          -0.033105  \n",
       "Generosity                             -0.101301  \n",
       "Dystopia Residual                       1.000000  "
      ]
     },
     "execution_count": 38,
     "metadata": {},
     "output_type": "execute_result"
    }
   ],
   "source": [
    "data.corr()"
   ]
  },
  {
   "cell_type": "code",
   "execution_count": 39,
   "id": "0e225a9f",
   "metadata": {},
   "outputs": [
    {
     "data": {
      "image/png": "[encoded data removed]",
      "text/plain": [
       "<Figure size 720x720 with 2 Axes>"
      ]
     },
     "metadata": {
      "needs_background": "light"
     },
     "output_type": "display_data"
    }
   ],
   "source": [
    "corr_mat  =data.corr()\n",
    "#size of the canvas \n",
    "plt.figure(figsize = [10,10])\n",
    "#plor the correlation matrix\n",
    "sns.heatmap(corr_mat,annot = True)\n",
    "plt.title('Correlation matrix')\n",
    "plt.show()"
   ]
  },
  {
   "cell_type": "code",
   "execution_count": 40,
   "id": "9e4339d6",
   "metadata": {},
   "outputs": [
    {
     "data": {
      "text/plain": [
       "Happiness Score                  1.000000\n",
       "Economy (GDP per Capita)         0.780966\n",
       "Family                           0.740605\n",
       "Health (Life Expectancy)         0.724200\n",
       "Freedom                          0.568211\n",
       "Dystopia Residual                0.530474\n",
       "Trust (Government Corruption)    0.395199\n",
       "Generosity                       0.180319\n",
       "Name: Happiness Score, dtype: float64"
      ]
     },
     "execution_count": 40,
     "metadata": {},
     "output_type": "execute_result"
    }
   ],
   "source": [
    "corr_matrix = data.corr()\n",
    "corr_matrix['Happiness Score'].sort_values(ascending=False)"
   ]
  },
  {
   "cell_type": "markdown",
   "id": "572534ac",
   "metadata": {},
   "source": [
    "#### as we can see through heat map there is possibility that Economy and health column are corelated so we have to confirm by scatter plot are they following any trend"
   ]
  },
  {
   "cell_type": "code",
   "execution_count": 41,
   "id": "0bd061e6",
   "metadata": {},
   "outputs": [
    {
     "data": {
      "text/plain": [
       "<matplotlib.collections.PathCollection at 0x1c8f55f0820>"
      ]
     },
     "execution_count": 41,
     "metadata": {},
     "output_type": "execute_result"
    },
    {
     "data": {
      "image/png": "[encoded data removed]",
      "text/plain": [
       "<Figure size 432x288 with 1 Axes>"
      ]
     },
     "metadata": {
      "needs_background": "light"
     },
     "output_type": "display_data"
    }
   ],
   "source": [
    "plt.scatter(y ='Economy (GDP per Capita)',x='Happiness Score',data=data)"
   ]
  },
  {
   "cell_type": "code",
   "execution_count": 42,
   "id": "2e532644",
   "metadata": {},
   "outputs": [
    {
     "data": {
      "text/plain": [
       "<matplotlib.collections.PathCollection at 0x1c8f564e430>"
      ]
     },
     "execution_count": 42,
     "metadata": {},
     "output_type": "execute_result"
    },
    {
     "data": {
      "image/png": "[encoded data removed]",
      "text/plain": [
       "<Figure size 432x288 with 1 Axes>"
      ]
     },
     "metadata": {
      "needs_background": "light"
     },
     "output_type": "display_data"
    }
   ],
   "source": [
    "plt.scatter(y ='Health (Life Expectancy)',x='Happiness Score',data=data)"
   ]
  },
  {
   "cell_type": "code",
   "execution_count": 43,
   "id": "ddff97b4",
   "metadata": {},
   "outputs": [],
   "source": [
    "# cant see any trend soo we can cant say they are highly corelated"
   ]
  },
  {
   "cell_type": "code",
   "execution_count": 44,
   "id": "732fc783",
   "metadata": {},
   "outputs": [],
   "source": [
    "# seeing data distribution by histogram"
   ]
  },
  {
   "cell_type": "code",
   "execution_count": 45,
   "id": "ad951fde",
   "metadata": {},
   "outputs": [
    {
     "data": {
      "image/png": "[encoded data removed]",
      "text/plain": [
       "<Figure size 1800x2160 with 8 Axes>"
      ]
     },
     "metadata": {
      "needs_background": "light"
     },
     "output_type": "display_data"
    }
   ],
   "source": [
    "plt.figure(figsize=(25,30))\n",
    "plotnumber=1\n",
    "\n",
    "for column in data:\n",
    "    if plotnumber<=12: #as there are 9 columns in data\n",
    "        ax=plt.subplot(3,3,plotnumber)\n",
    "        plt.hist(data[column],bins=30)\n",
    "        plt.xlabel(column,fontsize=20)\n",
    "    plotnumber +=1\n",
    "plt.show()"
   ]
  },
  {
   "cell_type": "code",
   "execution_count": 46,
   "id": "ea0a93c6",
   "metadata": {},
   "outputs": [
    {
     "data": {
      "image/png": "[encoded data removed]",
      "text/plain": [
       "<Figure size 2880x4320 with 200 Axes>"
      ]
     },
     "metadata": {
      "needs_background": "light"
     },
     "output_type": "display_data"
    }
   ],
   "source": [
    "data.plot(kind = 'density',subplots = True, layout = (10,20), sharex = False, legend =False ,fontsize =1,figsize=(40,60))\n",
    "plt.show()"
   ]
  },
  {
   "cell_type": "code",
   "execution_count": 47,
   "id": "e6419b73",
   "metadata": {},
   "outputs": [],
   "source": [
    "# we can see skewness in data, we will handle it in furthur steps"
   ]
  },
  {
   "cell_type": "markdown",
   "id": "acd63ad0",
   "metadata": {},
   "source": [
    "### splitting the independent and target variable in X and Y before removing the skewness"
   ]
  },
  {
   "cell_type": "code",
   "execution_count": 48,
   "id": "af3b03af",
   "metadata": {},
   "outputs": [],
   "source": [
    "x = data.drop(['Happiness Score'],axis = 1)\n",
    "y = data['Happiness Score']"
   ]
  },
  {
   "cell_type": "code",
   "execution_count": 49,
   "id": "52452194",
   "metadata": {},
   "outputs": [
    {
     "data": {
      "text/plain": [
       "Trust (Government Corruption)    1.385463\n",
       "Generosity                       1.001961\n",
       "Dystopia Residual               -0.238911\n",
       "Economy (GDP per Capita)        -0.317575\n",
       "Freedom                         -0.413462\n",
       "Health (Life Expectancy)        -0.705328\n",
       "Family                          -1.006893\n",
       "dtype: float64"
      ]
     },
     "execution_count": 49,
     "metadata": {},
     "output_type": "execute_result"
    }
   ],
   "source": [
    "x.skew().sort_values(ascending = False)"
   ]
  },
  {
   "cell_type": "markdown",
   "id": "38440319",
   "metadata": {},
   "source": [
    "### We can see skewness in the most of the columns of dataset. we will remove the skewness using the power transformer (and value accepted is -0.5 to 0.5)"
   ]
  },
  {
   "cell_type": "code",
   "execution_count": 50,
   "id": "2120f659",
   "metadata": {},
   "outputs": [
    {
     "name": "stdout",
     "output_type": "stream",
     "text": [
      "<class 'numpy.ndarray'>\n"
     ]
    }
   ],
   "source": [
    "from sklearn.preprocessing import power_transform\n",
    "x_new = power_transform(x)\n",
    "print(type(x_new))"
   ]
  },
  {
   "cell_type": "code",
   "execution_count": 51,
   "id": "6c1beda5",
   "metadata": {},
   "outputs": [
    {
     "data": {
      "text/html": [
       "<div>\n",
       "<style scoped>\n",
       "    .dataframe tbody tr th:only-of-type {\n",
       "        vertical-align: middle;\n",
       "    }\n",
       "\n",
       "    .dataframe tbody tr th {\n",
       "        vertical-align: top;\n",
       "    }\n",
       "\n",
       "    .dataframe thead th {\n",
       "        text-align: right;\n",
       "    }\n",
       "</style>\n",
       "<table border=\"1\" class=\"dataframe\">\n",
       "  <thead>\n",
       "    <tr style=\"text-align: right;\">\n",
       "      <th></th>\n",
       "      <th>Economy (GDP per Capita)</th>\n",
       "      <th>Family</th>\n",
       "      <th>Health (Life Expectancy)</th>\n",
       "      <th>Freedom</th>\n",
       "      <th>Trust (Government Corruption)</th>\n",
       "      <th>Generosity</th>\n",
       "      <th>Dystopia Residual</th>\n",
       "    </tr>\n",
       "  </thead>\n",
       "  <tbody>\n",
       "    <tr>\n",
       "      <th>0</th>\n",
       "      <td>1.446061</td>\n",
       "      <td>1.669206</td>\n",
       "      <td>1.491765</td>\n",
       "      <td>1.756335</td>\n",
       "      <td>1.773991</td>\n",
       "      <td>0.622391</td>\n",
       "      <td>0.750992</td>\n",
       "    </tr>\n",
       "    <tr>\n",
       "      <th>1</th>\n",
       "      <td>1.173321</td>\n",
       "      <td>2.012132</td>\n",
       "      <td>1.532348</td>\n",
       "      <td>1.439946</td>\n",
       "      <td>0.315993</td>\n",
       "      <td>1.480995</td>\n",
       "      <td>1.110011</td>\n",
       "    </tr>\n",
       "    <tr>\n",
       "      <th>2</th>\n",
       "      <td>1.239836</td>\n",
       "      <td>1.739586</td>\n",
       "      <td>1.085223</td>\n",
       "      <td>1.615733</td>\n",
       "      <td>1.906792</td>\n",
       "      <td>0.927973</td>\n",
       "      <td>0.702275</td>\n",
       "    </tr>\n",
       "    <tr>\n",
       "      <th>3</th>\n",
       "      <td>1.630246</td>\n",
       "      <td>1.553118</td>\n",
       "      <td>1.147600</td>\n",
       "      <td>1.792821</td>\n",
       "      <td>1.624007</td>\n",
       "      <td>0.964080</td>\n",
       "      <td>0.651035</td>\n",
       "    </tr>\n",
       "    <tr>\n",
       "      <th>4</th>\n",
       "      <td>1.242168</td>\n",
       "      <td>1.501726</td>\n",
       "      <td>1.270179</td>\n",
       "      <td>1.475479</td>\n",
       "      <td>1.503484</td>\n",
       "      <td>1.592224</td>\n",
       "      <td>0.625118</td>\n",
       "    </tr>\n",
       "    <tr>\n",
       "      <th>...</th>\n",
       "      <td>...</td>\n",
       "      <td>...</td>\n",
       "      <td>...</td>\n",
       "      <td>...</td>\n",
       "      <td>...</td>\n",
       "      <td>...</td>\n",
       "      <td>...</td>\n",
       "    </tr>\n",
       "    <tr>\n",
       "      <th>153</th>\n",
       "      <td>-1.494046</td>\n",
       "      <td>-0.959885</td>\n",
       "      <td>-0.939459</td>\n",
       "      <td>1.135229</td>\n",
       "      <td>2.012856</td>\n",
       "      <td>0.065304</td>\n",
       "      <td>-2.393259</td>\n",
       "    </tr>\n",
       "    <tr>\n",
       "      <th>154</th>\n",
       "      <td>-1.360829</td>\n",
       "      <td>-1.896644</td>\n",
       "      <td>-1.276496</td>\n",
       "      <td>0.307514</td>\n",
       "      <td>-0.433835</td>\n",
       "      <td>-0.334169</td>\n",
       "      <td>-0.863565</td>\n",
       "    </tr>\n",
       "    <tr>\n",
       "      <th>155</th>\n",
       "      <td>-0.513469</td>\n",
       "      <td>-1.690664</td>\n",
       "      <td>0.262933</td>\n",
       "      <td>-1.668658</td>\n",
       "      <td>0.738915</td>\n",
       "      <td>1.659336</td>\n",
       "      <td>-2.866216</td>\n",
       "    </tr>\n",
       "    <tr>\n",
       "      <th>156</th>\n",
       "      <td>-1.894954</td>\n",
       "      <td>-1.796803</td>\n",
       "      <td>-1.525700</td>\n",
       "      <td>-1.849903</td>\n",
       "      <td>-0.151946</td>\n",
       "      <td>-0.194829</td>\n",
       "      <td>-0.514801</td>\n",
       "    </tr>\n",
       "    <tr>\n",
       "      <th>157</th>\n",
       "      <td>-1.521226</td>\n",
       "      <td>-2.160397</td>\n",
       "      <td>-1.371811</td>\n",
       "      <td>-0.508362</td>\n",
       "      <td>-0.067326</td>\n",
       "      <td>-0.490415</td>\n",
       "      <td>-0.976645</td>\n",
       "    </tr>\n",
       "  </tbody>\n",
       "</table>\n",
       "<p>158 rows × 7 columns</p>\n",
       "</div>"
      ],
      "text/plain": [
       "     Economy (GDP per Capita)    Family  Health (Life Expectancy)   Freedom  \\\n",
       "0                    1.446061  1.669206                  1.491765  1.756335   \n",
       "1                    1.173321  2.012132                  1.532348  1.439946   \n",
       "2                    1.239836  1.739586                  1.085223  1.615733   \n",
       "3                    1.630246  1.553118                  1.147600  1.792821   \n",
       "4                    1.242168  1.501726                  1.270179  1.475479   \n",
       "..                        ...       ...                       ...       ...   \n",
       "153                 -1.494046 -0.959885                 -0.939459  1.135229   \n",
       "154                 -1.360829 -1.896644                 -1.276496  0.307514   \n",
       "155                 -0.513469 -1.690664                  0.262933 -1.668658   \n",
       "156                 -1.894954 -1.796803                 -1.525700 -1.849903   \n",
       "157                 -1.521226 -2.160397                 -1.371811 -0.508362   \n",
       "\n",
       "     Trust (Government Corruption)  Generosity  Dystopia Residual  \n",
       "0                         1.773991    0.622391           0.750992  \n",
       "1                         0.315993    1.480995           1.110011  \n",
       "2                         1.906792    0.927973           0.702275  \n",
       "3                         1.624007    0.964080           0.651035  \n",
       "4                         1.503484    1.592224           0.625118  \n",
       "..                             ...         ...                ...  \n",
       "153                       2.012856    0.065304          -2.393259  \n",
       "154                      -0.433835   -0.334169          -0.863565  \n",
       "155                       0.738915    1.659336          -2.866216  \n",
       "156                      -0.151946   -0.194829          -0.514801  \n",
       "157                      -0.067326   -0.490415          -0.976645  \n",
       "\n",
       "[158 rows x 7 columns]"
      ]
     },
     "execution_count": 51,
     "metadata": {},
     "output_type": "execute_result"
    }
   ],
   "source": [
    "x = pd.DataFrame(x_new,columns = x.columns)\n",
    "x"
   ]
  },
  {
   "cell_type": "code",
   "execution_count": 52,
   "id": "e109c798",
   "metadata": {},
   "outputs": [
    {
     "data": {
      "text/plain": [
       "True"
      ]
     },
     "execution_count": 52,
     "metadata": {},
     "output_type": "execute_result"
    }
   ],
   "source": [
    "sk = x.skew()\n",
    "sk[np.abs(sk)>0.25].all()"
   ]
  },
  {
   "cell_type": "markdown",
   "id": "9f7de394",
   "metadata": {},
   "source": [
    "### Checking outliers"
   ]
  },
  {
   "cell_type": "code",
   "execution_count": 53,
   "id": "4021d33e",
   "metadata": {},
   "outputs": [
    {
     "data": {
      "text/plain": [
       "<function matplotlib.pyplot.show(close=None, block=None)>"
      ]
     },
     "execution_count": 53,
     "metadata": {},
     "output_type": "execute_result"
    },
    {
     "data": {
      "image/png": "[encoded data removed]",
      "text/plain": [
       "<Figure size 1440x576 with 1 Axes>"
      ]
     },
     "metadata": {
      "needs_background": "light"
     },
     "output_type": "display_data"
    }
   ],
   "source": [
    "x.boxplot(figsize=[20,8])\n",
    "plt.subplots_adjust(bottom = 0.25)\n",
    "plt.show"
   ]
  },
  {
   "cell_type": "markdown",
   "id": "deefbe62",
   "metadata": {},
   "source": [
    "#### WE can see 3 values from total 2 columns but those are very near to whiskers so these are no outliers"
   ]
  },
  {
   "cell_type": "code",
   "execution_count": 54,
   "id": "7338b66f",
   "metadata": {},
   "outputs": [
    {
     "data": {
      "text/plain": [
       "True"
      ]
     },
     "execution_count": 54,
     "metadata": {},
     "output_type": "execute_result"
    }
   ],
   "source": [
    "from scipy.stats import zscore\n",
    "np.abs(zscore(x)<3).all() #thumb rule of 3"
   ]
  },
  {
   "cell_type": "markdown",
   "id": "c9852e0c",
   "metadata": {},
   "source": [
    "### No outliers are present in my data"
   ]
  },
  {
   "cell_type": "markdown",
   "id": "fe7a89e2",
   "metadata": {},
   "source": [
    "### training process begins"
   ]
  },
  {
   "cell_type": "markdown",
   "id": "ab1bc325",
   "metadata": {},
   "source": [
    "### finding best random_state"
   ]
  },
  {
   "cell_type": "code",
   "execution_count": 55,
   "id": "54cb4092",
   "metadata": {},
   "outputs": [],
   "source": [
    "from sklearn.linear_model import LinearRegression\n",
    "from sklearn.metrics import accuracy_score,confusion_matrix,classification_report,r2_score\n",
    "from sklearn.model_selection import train_test_split"
   ]
  },
  {
   "cell_type": "code",
   "execution_count": 56,
   "id": "929c5a77",
   "metadata": {},
   "outputs": [
    {
     "name": "stdout",
     "output_type": "stream",
     "text": [
      "Best accuracy is 0.9961125140241441 on random state 129\n"
     ]
    }
   ],
   "source": [
    "maxAcc = 0 #maximum accuracy\n",
    "maxRs = 0 #best random state value for which max accuracy is achieved \n",
    "for i in range(1,200):\n",
    "    x_train,x_test,y_train,y_test = train_test_split(x,y,test_size=.20,random_state=i)\n",
    "    LR = LinearRegression()\n",
    "    LR.fit(x_train,y_train) #fitting the data will train your model\n",
    "    predlr = LR.predict(x_test) #this is the predicted target variable\n",
    "    acc =r2_score(y_test,predlr)\n",
    "    if acc>maxAcc:\n",
    "        maxAcc = acc\n",
    "        maxRs = i\n",
    "print(\"Best accuracy is\",maxAcc,\"on random state\",maxRs)"
   ]
  },
  {
   "cell_type": "code",
   "execution_count": 57,
   "id": "806c1957",
   "metadata": {},
   "outputs": [],
   "source": [
    "x_train,x_test,y_train,y_test = train_test_split(x,y,test_size=0.20,random_state=129)"
   ]
  },
  {
   "cell_type": "markdown",
   "id": "0c926ee8",
   "metadata": {},
   "source": [
    "## linear regression"
   ]
  },
  {
   "cell_type": "code",
   "execution_count": 58,
   "id": "c7377031",
   "metadata": {},
   "outputs": [
    {
     "name": "stdout",
     "output_type": "stream",
     "text": [
      "Accuracy score 99.61125140241441\n"
     ]
    }
   ],
   "source": [
    "from sklearn.linear_model import LinearRegression\n",
    "Lr = LinearRegression()\n",
    "Lr.fit(x_train,y_train)\n",
    "predlr = Lr.predict(x_test)\n",
    "print(\"Accuracy score\", r2_score(y_test, predlr)*100)"
   ]
  },
  {
   "cell_type": "code",
   "execution_count": 59,
   "id": "c9434488",
   "metadata": {},
   "outputs": [
    {
     "data": {
      "text/plain": [
       "0.9961125140241441"
      ]
     },
     "execution_count": 59,
     "metadata": {},
     "output_type": "execute_result"
    }
   ],
   "source": [
    "Lr.score(x_test,y_test)"
   ]
  },
  {
   "cell_type": "code",
   "execution_count": 60,
   "id": "d8bb3918",
   "metadata": {},
   "outputs": [
    {
     "data": {
      "image/png": "[encoded data removed]",
      "text/plain": [
       "<Figure size 432x288 with 1 Axes>"
      ]
     },
     "metadata": {
      "needs_background": "light"
     },
     "output_type": "display_data"
    }
   ],
   "source": [
    "plt.scatter(y_test,predlr)\n",
    "plt.xlabel(\"ACTUAL CHANCE OF ADMISSION\")\n",
    "plt.ylabel(\"PREDICTED CHANCE OF ADMISSION\")\n",
    "plt.title(\"ACTUAL VS MODEL PREDICTED\")\n",
    "plt.show()"
   ]
  },
  {
   "cell_type": "markdown",
   "id": "d68482fe",
   "metadata": {},
   "source": [
    "## Support vector machine"
   ]
  },
  {
   "cell_type": "code",
   "execution_count": 61,
   "id": "2c581f94",
   "metadata": {},
   "outputs": [
    {
     "name": "stdout",
     "output_type": "stream",
     "text": [
      "Accuracy score 97.80271353646174\n"
     ]
    }
   ],
   "source": [
    "from sklearn.svm import SVR\n",
    "svr=SVR()\n",
    "svr.fit(x_train,y_train)\n",
    "predlr = svr.predict(x_test)\n",
    "print(\"Accuracy score\", r2_score(y_test, predlr)*100)"
   ]
  },
  {
   "cell_type": "markdown",
   "id": "35431e0a",
   "metadata": {},
   "source": [
    "## Decision Tree "
   ]
  },
  {
   "cell_type": "code",
   "execution_count": 62,
   "id": "e51cf1d1",
   "metadata": {},
   "outputs": [
    {
     "name": "stdout",
     "output_type": "stream",
     "text": [
      "Accuracy score 82.29167478978377\n"
     ]
    }
   ],
   "source": [
    "from sklearn.tree import DecisionTreeRegressor\n",
    "dt = DecisionTreeRegressor()\n",
    "dt.fit(x_train,y_train)\n",
    "pred_dt = dt.predict(x_test)\n",
    "print(\"Accuracy score\", r2_score(y_test, pred_dt)*100)"
   ]
  },
  {
   "cell_type": "markdown",
   "id": "9fd524b4",
   "metadata": {},
   "source": [
    "## Random forest"
   ]
  },
  {
   "cell_type": "code",
   "execution_count": 63,
   "id": "561eb6bd",
   "metadata": {},
   "outputs": [
    {
     "name": "stdout",
     "output_type": "stream",
     "text": [
      "Accuracy score 92.11536687380902\n"
     ]
    }
   ],
   "source": [
    "from sklearn.ensemble import RandomForestRegressor\n",
    "rf = RandomForestRegressor()\n",
    "rf.fit(x_train,y_train)\n",
    "pred_rf = rf.predict(x_test)\n",
    "print(\"Accuracy score\", r2_score(y_test, pred_rf)*100)"
   ]
  },
  {
   "cell_type": "code",
   "execution_count": 64,
   "id": "d5dbfa88",
   "metadata": {},
   "outputs": [
    {
     "data": {
      "image/png": "[encoded data removed]",
      "text/plain": [
       "<Figure size 432x288 with 1 Axes>"
      ]
     },
     "metadata": {
      "needs_background": "light"
     },
     "output_type": "display_data"
    }
   ],
   "source": [
    "plt.scatter(y_test,pred_rf)\n",
    "plt.xlabel(\"ACTUAL CHANCE OF ADMISSION\")\n",
    "plt.ylabel(\"PREDICTED CHANCE OF ADMISSION\")\n",
    "plt.title(\"ACTUAL VS MODEL PREDICTED\")\n",
    "plt.show()"
   ]
  },
  {
   "cell_type": "markdown",
   "id": "d6979d2d",
   "metadata": {},
   "source": [
    "## XGBOOST"
   ]
  },
  {
   "cell_type": "code",
   "execution_count": 65,
   "id": "52cfe2f6",
   "metadata": {},
   "outputs": [
    {
     "name": "stdout",
     "output_type": "stream",
     "text": [
      "Accuracy score 96.26702006838721\n"
     ]
    }
   ],
   "source": [
    "from xgboost import XGBRegressor\n",
    "xgbt = XGBRegressor()\n",
    "xgbt.fit(x_train,y_train)\n",
    "pred_xgbt = xgbt.predict(x_test)\n",
    "print(\"Accuracy score\", r2_score(y_test, pred_xgbt)*100)"
   ]
  },
  {
   "cell_type": "code",
   "execution_count": 66,
   "id": "5cbff91d",
   "metadata": {},
   "outputs": [
    {
     "data": {
      "image/png": "[encoded data removed]",
      "text/plain": [
       "<Figure size 432x288 with 1 Axes>"
      ]
     },
     "metadata": {
      "needs_background": "light"
     },
     "output_type": "display_data"
    }
   ],
   "source": [
    "plt.scatter(y_test,pred_xgbt)\n",
    "plt.xlabel(\"ACTUAL CHANCE OF ADMISSION\")\n",
    "plt.ylabel(\"PREDICTED CHANCE OF ADMISSION\")\n",
    "plt.title(\"ACTUAL VS MODEL PREDICTED\")\n",
    "plt.show()"
   ]
  },
  {
   "cell_type": "markdown",
   "id": "5fa6dce5",
   "metadata": {},
   "source": [
    "## Gradient boosting"
   ]
  },
  {
   "cell_type": "code",
   "execution_count": 67,
   "id": "eb804ed6",
   "metadata": {},
   "outputs": [
    {
     "name": "stdout",
     "output_type": "stream",
     "text": [
      "Accuracy score 95.04662963816102\n"
     ]
    }
   ],
   "source": [
    "from sklearn.ensemble import GradientBoostingRegressor\n",
    "from sklearn import metrics\n",
    "gbr = GradientBoostingRegressor()\n",
    "gbr.fit(x_train,y_train)\n",
    "pred_gbr = gbr.predict(x_test)\n",
    "print(\"Accuracy score\", r2_score(y_test, pred_gbr)*100)"
   ]
  },
  {
   "cell_type": "code",
   "execution_count": 68,
   "id": "64dfc966",
   "metadata": {},
   "outputs": [
    {
     "data": {
      "image/png": "[encoded data removed]",
      "text/plain": [
       "<Figure size 432x288 with 1 Axes>"
      ]
     },
     "metadata": {
      "needs_background": "light"
     },
     "output_type": "display_data"
    }
   ],
   "source": [
    "plt.scatter(y_test,pred_gbr)\n",
    "plt.xlabel(\"ACTUAL CHANCE OF ADMISSION\")\n",
    "plt.ylabel(\"PREDICTED CHANCE OF ADMISSION\")\n",
    "plt.title(\"ACTUAL VS MODEL PREDICTED\")\n",
    "plt.show()"
   ]
  },
  {
   "cell_type": "markdown",
   "id": "ac5e2f61",
   "metadata": {},
   "source": [
    "### All of them (except decision tree)  are giving good accuracy. performing cross validation to check overfitting"
   ]
  },
  {
   "cell_type": "code",
   "execution_count": 70,
   "id": "60d53890",
   "metadata": {},
   "outputs": [
    {
     "name": "stdout",
     "output_type": "stream",
     "text": [
      "Cross validation score of linear regression model is 0.7773794322675338\n"
     ]
    }
   ],
   "source": [
    "from sklearn.model_selection import cross_val_score\n",
    "\n",
    "scr = cross_val_score(LR, x, y, cv=5)\n",
    "print(\"Cross validation score of linear regression model is\",scr.mean())"
   ]
  },
  {
   "cell_type": "code",
   "execution_count": 71,
   "id": "97981713",
   "metadata": {},
   "outputs": [
    {
     "name": "stdout",
     "output_type": "stream",
     "text": [
      "Cross validation score of linear regression model is -2.7219212528503984\n"
     ]
    }
   ],
   "source": [
    "from sklearn.model_selection import cross_val_score\n",
    "\n",
    "scr = cross_val_score(svr, x, y, cv=5)\n",
    "print(\"Cross validation score of linear regression model is\",scr.mean())"
   ]
  },
  {
   "cell_type": "code",
   "execution_count": 72,
   "id": "681fb2b4",
   "metadata": {},
   "outputs": [
    {
     "name": "stdout",
     "output_type": "stream",
     "text": [
      "Cross validation score of linear regression model is -6.884978890731189\n"
     ]
    }
   ],
   "source": [
    "from sklearn.model_selection import cross_val_score\n",
    "\n",
    "scr = cross_val_score(dt, x, y, cv=5)\n",
    "print(\"Cross validation score of linear regression model is\",scr.mean())"
   ]
  },
  {
   "cell_type": "code",
   "execution_count": 73,
   "id": "f211084f",
   "metadata": {},
   "outputs": [
    {
     "name": "stdout",
     "output_type": "stream",
     "text": [
      "Cross validation score of Random forest model is -3.1586590385565714\n"
     ]
    }
   ],
   "source": [
    "scr = cross_val_score(rf, x, y, cv=5)\n",
    "print(\"Cross validation score of Random forest model is\",scr.mean())"
   ]
  },
  {
   "cell_type": "code",
   "execution_count": 74,
   "id": "5258e48b",
   "metadata": {},
   "outputs": [
    {
     "name": "stdout",
     "output_type": "stream",
     "text": [
      "Cross validation score of Xtreme boosting model is -2.8894264826465155\n"
     ]
    }
   ],
   "source": [
    "scr = cross_val_score(xgbt, x, y, cv=5)\n",
    "print(\"Cross validation score of Xtreme boosting model is\",scr.mean())"
   ]
  },
  {
   "cell_type": "code",
   "execution_count": 171,
   "id": "b60a85c2",
   "metadata": {},
   "outputs": [
    {
     "name": "stdout",
     "output_type": "stream",
     "text": [
      "Cross validation score of Gradient boosting model is -2.201568535947561\n"
     ]
    }
   ],
   "source": [
    "scr = cross_val_score(gbr, x, y, cv=5)\n",
    "print(\"Cross validation score of Gradient boosting model is\",scr.mean())"
   ]
  },
  {
   "cell_type": "markdown",
   "id": "834571d6",
   "metadata": {},
   "source": [
    "### as we can see there is no need of hypertuning as accuracy of linear regression model is 99% "
   ]
  },
  {
   "cell_type": "code",
   "execution_count": null,
   "id": "3be6b50c",
   "metadata": {},
   "outputs": [],
   "source": []
  }
 ],
 "metadata": {
  "kernelspec": {
   "display_name": "Python 3",
   "language": "python",
   "name": "python3"
  },
  "language_info": {
   "codemirror_mode": {
    "name": "ipython",
    "version": 3
   },
   "file_extension": ".py",
   "mimetype": "text/x-python",
   "name": "python",
   "nbconvert_exporter": "python",
   "pygments_lexer": "ipython3",
   "version": "3.8.8"
  }
 },
 "nbformat": 4,
 "nbformat_minor": 5
}
