{
 "cells": [
  {
   "cell_type": "markdown",
   "id": "97de4c31",
   "metadata": {},
   "source": [
    "### Task - You need to predict the happiness score considering all the other factors mentioned in the dataset. "
   ]
  },
  {
   "cell_type": "code",
   "execution_count": 153,
   "id": "7a3f6bca",
   "metadata": {},
   "outputs": [],
   "source": [
    "#basic library\n",
    "import pandas as pd\n",
    "import numpy as np\n",
    "import matplotlib.pyplot as plt \n",
    "import seaborn as sns"
   ]
  },
  {
   "cell_type": "code",
   "execution_count": 154,
   "id": "0c352a72",
   "metadata": {},
   "outputs": [],
   "source": [
    "data = pd.read_csv(\"happiness_score_dataset.csv\")"
   ]
  },
  {
   "cell_type": "code",
   "execution_count": 155,
   "id": "ea619164",
   "metadata": {},
   "outputs": [
    {
     "data": {
      "text/html": [
       "<div>\n",
       "<style scoped>\n",
       "    .dataframe tbody tr th:only-of-type {\n",
       "        vertical-align: middle;\n",
       "    }\n",
       "\n",
       "    .dataframe tbody tr th {\n",
       "        vertical-align: top;\n",
       "    }\n",
       "\n",
       "    .dataframe thead th {\n",
       "        text-align: right;\n",
       "    }\n",
       "</style>\n",
       "<table border=\"1\" class=\"dataframe\">\n",
       "  <thead>\n",
       "    <tr style=\"text-align: right;\">\n",
       "      <th></th>\n",
       "      <th>Country</th>\n",
       "      <th>Region</th>\n",
       "      <th>Happiness Rank</th>\n",
       "      <th>Happiness Score</th>\n",
       "      <th>Standard Error</th>\n",
       "      <th>Economy (GDP per Capita)</th>\n",
       "      <th>Family</th>\n",
       "      <th>Health (Life Expectancy)</th>\n",
       "      <th>Freedom</th>\n",
       "      <th>Trust (Government Corruption)</th>\n",
       "      <th>Generosity</th>\n",
       "      <th>Dystopia Residual</th>\n",
       "    </tr>\n",
       "  </thead>\n",
       "  <tbody>\n",
       "    <tr>\n",
       "      <th>4</th>\n",
       "      <td>Canada</td>\n",
       "      <td>North America</td>\n",
       "      <td>5</td>\n",
       "      <td>7.427</td>\n",
       "      <td>0.03553</td>\n",
       "      <td>1.32629</td>\n",
       "      <td>1.32261</td>\n",
       "      <td>0.90563</td>\n",
       "      <td>0.63297</td>\n",
       "      <td>0.32957</td>\n",
       "      <td>0.45811</td>\n",
       "      <td>2.45176</td>\n",
       "    </tr>\n",
       "    <tr>\n",
       "      <th>117</th>\n",
       "      <td>Sudan</td>\n",
       "      <td>Sub-Saharan Africa</td>\n",
       "      <td>118</td>\n",
       "      <td>4.550</td>\n",
       "      <td>0.06740</td>\n",
       "      <td>0.52107</td>\n",
       "      <td>1.01404</td>\n",
       "      <td>0.36878</td>\n",
       "      <td>0.10081</td>\n",
       "      <td>0.14660</td>\n",
       "      <td>0.19062</td>\n",
       "      <td>2.20857</td>\n",
       "    </tr>\n",
       "    <tr>\n",
       "      <th>75</th>\n",
       "      <td>Turkey</td>\n",
       "      <td>Middle East and Northern Africa</td>\n",
       "      <td>76</td>\n",
       "      <td>5.332</td>\n",
       "      <td>0.03864</td>\n",
       "      <td>1.06098</td>\n",
       "      <td>0.94632</td>\n",
       "      <td>0.73172</td>\n",
       "      <td>0.22815</td>\n",
       "      <td>0.15746</td>\n",
       "      <td>0.12253</td>\n",
       "      <td>2.08528</td>\n",
       "    </tr>\n",
       "    <tr>\n",
       "      <th>141</th>\n",
       "      <td>Senegal</td>\n",
       "      <td>Sub-Saharan Africa</td>\n",
       "      <td>142</td>\n",
       "      <td>3.904</td>\n",
       "      <td>0.03608</td>\n",
       "      <td>0.36498</td>\n",
       "      <td>0.97619</td>\n",
       "      <td>0.43540</td>\n",
       "      <td>0.36772</td>\n",
       "      <td>0.10713</td>\n",
       "      <td>0.20843</td>\n",
       "      <td>1.44395</td>\n",
       "    </tr>\n",
       "    <tr>\n",
       "      <th>23</th>\n",
       "      <td>Singapore</td>\n",
       "      <td>Southeastern Asia</td>\n",
       "      <td>24</td>\n",
       "      <td>6.798</td>\n",
       "      <td>0.03780</td>\n",
       "      <td>1.52186</td>\n",
       "      <td>1.02000</td>\n",
       "      <td>1.02525</td>\n",
       "      <td>0.54252</td>\n",
       "      <td>0.49210</td>\n",
       "      <td>0.31105</td>\n",
       "      <td>1.88501</td>\n",
       "    </tr>\n",
       "  </tbody>\n",
       "</table>\n",
       "</div>"
      ],
      "text/plain": [
       "       Country                           Region  Happiness Rank  \\\n",
       "4       Canada                    North America               5   \n",
       "117      Sudan               Sub-Saharan Africa             118   \n",
       "75      Turkey  Middle East and Northern Africa              76   \n",
       "141    Senegal               Sub-Saharan Africa             142   \n",
       "23   Singapore                Southeastern Asia              24   \n",
       "\n",
       "     Happiness Score  Standard Error  Economy (GDP per Capita)   Family  \\\n",
       "4              7.427         0.03553                   1.32629  1.32261   \n",
       "117            4.550         0.06740                   0.52107  1.01404   \n",
       "75             5.332         0.03864                   1.06098  0.94632   \n",
       "141            3.904         0.03608                   0.36498  0.97619   \n",
       "23             6.798         0.03780                   1.52186  1.02000   \n",
       "\n",
       "     Health (Life Expectancy)  Freedom  Trust (Government Corruption)  \\\n",
       "4                     0.90563  0.63297                        0.32957   \n",
       "117                   0.36878  0.10081                        0.14660   \n",
       "75                    0.73172  0.22815                        0.15746   \n",
       "141                   0.43540  0.36772                        0.10713   \n",
       "23                    1.02525  0.54252                        0.49210   \n",
       "\n",
       "     Generosity  Dystopia Residual  \n",
       "4       0.45811            2.45176  \n",
       "117     0.19062            2.20857  \n",
       "75      0.12253            2.08528  \n",
       "141     0.20843            1.44395  \n",
       "23      0.31105            1.88501  "
      ]
     },
     "execution_count": 155,
     "metadata": {},
     "output_type": "execute_result"
    }
   ],
   "source": [
    "data.sample(5) #sample will show you random 5 values from data set instead of this we can use head() to see top rows."
   ]
  },
  {
   "cell_type": "code",
   "execution_count": 156,
   "id": "cbf7f62e",
   "metadata": {},
   "outputs": [],
   "source": [
    "data.rename(columns={'Standard Error':'Standard_Error','Economy (GDP per Capita)':'Economy','Health (Life Expectancy)':'Health',\n",
    "                    'Trust (Government Corruption)':'Trust','Dystopia Residual':'Dystopia_Residual'},inplace=True)"
   ]
  },
  {
   "cell_type": "code",
   "execution_count": 157,
   "id": "f5bfb4f3",
   "metadata": {},
   "outputs": [
    {
     "data": {
      "text/plain": [
       "(158, 12)"
      ]
     },
     "execution_count": 157,
     "metadata": {},
     "output_type": "execute_result"
    }
   ],
   "source": [
    "data.shape #there are 158 rows and 12 columns"
   ]
  },
  {
   "cell_type": "code",
   "execution_count": 158,
   "id": "1dfa5971",
   "metadata": {},
   "outputs": [
    {
     "data": {
      "text/plain": [
       "Country              0\n",
       "Region               0\n",
       "Happiness Rank       0\n",
       "Happiness Score      0\n",
       "Standard_Error       0\n",
       "Economy              0\n",
       "Family               0\n",
       "Health               0\n",
       "Freedom              0\n",
       "Trust                0\n",
       "Generosity           0\n",
       "Dystopia_Residual    0\n",
       "dtype: int64"
      ]
     },
     "execution_count": 158,
     "metadata": {},
     "output_type": "execute_result"
    }
   ],
   "source": [
    "# checking aur null values in columns\n",
    "data.isnull().sum()"
   ]
  },
  {
   "cell_type": "markdown",
   "id": "b66bd81b",
   "metadata": {},
   "source": [
    "###### there is no null values in any columns so we can skip the part of imputing values "
   ]
  },
  {
   "cell_type": "code",
   "execution_count": 159,
   "id": "43726715",
   "metadata": {},
   "outputs": [
    {
     "data": {
      "text/html": [
       "<div>\n",
       "<style scoped>\n",
       "    .dataframe tbody tr th:only-of-type {\n",
       "        vertical-align: middle;\n",
       "    }\n",
       "\n",
       "    .dataframe tbody tr th {\n",
       "        vertical-align: top;\n",
       "    }\n",
       "\n",
       "    .dataframe thead th {\n",
       "        text-align: right;\n",
       "    }\n",
       "</style>\n",
       "<table border=\"1\" class=\"dataframe\">\n",
       "  <thead>\n",
       "    <tr style=\"text-align: right;\">\n",
       "      <th></th>\n",
       "      <th>Happiness Rank</th>\n",
       "      <th>Happiness Score</th>\n",
       "      <th>Standard_Error</th>\n",
       "      <th>Economy</th>\n",
       "      <th>Family</th>\n",
       "      <th>Health</th>\n",
       "      <th>Freedom</th>\n",
       "      <th>Trust</th>\n",
       "      <th>Generosity</th>\n",
       "      <th>Dystopia_Residual</th>\n",
       "    </tr>\n",
       "  </thead>\n",
       "  <tbody>\n",
       "    <tr>\n",
       "      <th>count</th>\n",
       "      <td>158.000000</td>\n",
       "      <td>158.000000</td>\n",
       "      <td>158.000000</td>\n",
       "      <td>158.000000</td>\n",
       "      <td>158.000000</td>\n",
       "      <td>158.000000</td>\n",
       "      <td>158.000000</td>\n",
       "      <td>158.000000</td>\n",
       "      <td>158.000000</td>\n",
       "      <td>158.000000</td>\n",
       "    </tr>\n",
       "    <tr>\n",
       "      <th>mean</th>\n",
       "      <td>79.493671</td>\n",
       "      <td>5.375734</td>\n",
       "      <td>0.047885</td>\n",
       "      <td>0.846137</td>\n",
       "      <td>0.991046</td>\n",
       "      <td>0.630259</td>\n",
       "      <td>0.428615</td>\n",
       "      <td>0.143422</td>\n",
       "      <td>0.237296</td>\n",
       "      <td>2.098977</td>\n",
       "    </tr>\n",
       "    <tr>\n",
       "      <th>std</th>\n",
       "      <td>45.754363</td>\n",
       "      <td>1.145010</td>\n",
       "      <td>0.017146</td>\n",
       "      <td>0.403121</td>\n",
       "      <td>0.272369</td>\n",
       "      <td>0.247078</td>\n",
       "      <td>0.150693</td>\n",
       "      <td>0.120034</td>\n",
       "      <td>0.126685</td>\n",
       "      <td>0.553550</td>\n",
       "    </tr>\n",
       "    <tr>\n",
       "      <th>min</th>\n",
       "      <td>1.000000</td>\n",
       "      <td>2.839000</td>\n",
       "      <td>0.018480</td>\n",
       "      <td>0.000000</td>\n",
       "      <td>0.000000</td>\n",
       "      <td>0.000000</td>\n",
       "      <td>0.000000</td>\n",
       "      <td>0.000000</td>\n",
       "      <td>0.000000</td>\n",
       "      <td>0.328580</td>\n",
       "    </tr>\n",
       "    <tr>\n",
       "      <th>25%</th>\n",
       "      <td>40.250000</td>\n",
       "      <td>4.526000</td>\n",
       "      <td>0.037268</td>\n",
       "      <td>0.545808</td>\n",
       "      <td>0.856823</td>\n",
       "      <td>0.439185</td>\n",
       "      <td>0.328330</td>\n",
       "      <td>0.061675</td>\n",
       "      <td>0.150553</td>\n",
       "      <td>1.759410</td>\n",
       "    </tr>\n",
       "    <tr>\n",
       "      <th>50%</th>\n",
       "      <td>79.500000</td>\n",
       "      <td>5.232500</td>\n",
       "      <td>0.043940</td>\n",
       "      <td>0.910245</td>\n",
       "      <td>1.029510</td>\n",
       "      <td>0.696705</td>\n",
       "      <td>0.435515</td>\n",
       "      <td>0.107220</td>\n",
       "      <td>0.216130</td>\n",
       "      <td>2.095415</td>\n",
       "    </tr>\n",
       "    <tr>\n",
       "      <th>75%</th>\n",
       "      <td>118.750000</td>\n",
       "      <td>6.243750</td>\n",
       "      <td>0.052300</td>\n",
       "      <td>1.158448</td>\n",
       "      <td>1.214405</td>\n",
       "      <td>0.811013</td>\n",
       "      <td>0.549092</td>\n",
       "      <td>0.180255</td>\n",
       "      <td>0.309883</td>\n",
       "      <td>2.462415</td>\n",
       "    </tr>\n",
       "    <tr>\n",
       "      <th>max</th>\n",
       "      <td>158.000000</td>\n",
       "      <td>7.587000</td>\n",
       "      <td>0.136930</td>\n",
       "      <td>1.690420</td>\n",
       "      <td>1.402230</td>\n",
       "      <td>1.025250</td>\n",
       "      <td>0.669730</td>\n",
       "      <td>0.551910</td>\n",
       "      <td>0.795880</td>\n",
       "      <td>3.602140</td>\n",
       "    </tr>\n",
       "  </tbody>\n",
       "</table>\n",
       "</div>"
      ],
      "text/plain": [
       "       Happiness Rank  Happiness Score  Standard_Error     Economy  \\\n",
       "count      158.000000       158.000000      158.000000  158.000000   \n",
       "mean        79.493671         5.375734        0.047885    0.846137   \n",
       "std         45.754363         1.145010        0.017146    0.403121   \n",
       "min          1.000000         2.839000        0.018480    0.000000   \n",
       "25%         40.250000         4.526000        0.037268    0.545808   \n",
       "50%         79.500000         5.232500        0.043940    0.910245   \n",
       "75%        118.750000         6.243750        0.052300    1.158448   \n",
       "max        158.000000         7.587000        0.136930    1.690420   \n",
       "\n",
       "           Family      Health     Freedom       Trust  Generosity  \\\n",
       "count  158.000000  158.000000  158.000000  158.000000  158.000000   \n",
       "mean     0.991046    0.630259    0.428615    0.143422    0.237296   \n",
       "std      0.272369    0.247078    0.150693    0.120034    0.126685   \n",
       "min      0.000000    0.000000    0.000000    0.000000    0.000000   \n",
       "25%      0.856823    0.439185    0.328330    0.061675    0.150553   \n",
       "50%      1.029510    0.696705    0.435515    0.107220    0.216130   \n",
       "75%      1.214405    0.811013    0.549092    0.180255    0.309883   \n",
       "max      1.402230    1.025250    0.669730    0.551910    0.795880   \n",
       "\n",
       "       Dystopia_Residual  \n",
       "count         158.000000  \n",
       "mean            2.098977  \n",
       "std             0.553550  \n",
       "min             0.328580  \n",
       "25%             1.759410  \n",
       "50%             2.095415  \n",
       "75%             2.462415  \n",
       "max             3.602140  "
      ]
     },
     "execution_count": 159,
     "metadata": {},
     "output_type": "execute_result"
    }
   ],
   "source": [
    "data.describe() #statistical summary"
   ]
  },
  {
   "cell_type": "markdown",
   "id": "4fa5bedc",
   "metadata": {},
   "source": [
    "### Observation - 1)GDP, Health, freedom, trust(GC),Generosity can't be zero(min value) - outliers should be removed. \n",
    "### 2) Continous data\n",
    "### Columns used : GDP per Capita, Family, Life Expectancy, Freedom, Generosity, Trust Government Corruption describe the extent to which these factors contribute in evaluating the happiness in each country. so we can drop all other except this columns"
   ]
  },
  {
   "cell_type": "code",
   "execution_count": 160,
   "id": "c77882ba",
   "metadata": {},
   "outputs": [],
   "source": [
    "data.drop(columns=['Country','Region','Happiness Rank'],axis=1,inplace=True)"
   ]
  },
  {
   "cell_type": "code",
   "execution_count": 161,
   "id": "f35b50de",
   "metadata": {},
   "outputs": [
    {
     "data": {
      "text/html": [
       "<div>\n",
       "<style scoped>\n",
       "    .dataframe tbody tr th:only-of-type {\n",
       "        vertical-align: middle;\n",
       "    }\n",
       "\n",
       "    .dataframe tbody tr th {\n",
       "        vertical-align: top;\n",
       "    }\n",
       "\n",
       "    .dataframe thead th {\n",
       "        text-align: right;\n",
       "    }\n",
       "</style>\n",
       "<table border=\"1\" class=\"dataframe\">\n",
       "  <thead>\n",
       "    <tr style=\"text-align: right;\">\n",
       "      <th></th>\n",
       "      <th>Happiness Score</th>\n",
       "      <th>Standard_Error</th>\n",
       "      <th>Economy</th>\n",
       "      <th>Family</th>\n",
       "      <th>Health</th>\n",
       "      <th>Freedom</th>\n",
       "      <th>Trust</th>\n",
       "      <th>Generosity</th>\n",
       "      <th>Dystopia_Residual</th>\n",
       "    </tr>\n",
       "  </thead>\n",
       "  <tbody>\n",
       "    <tr>\n",
       "      <th>Happiness Score</th>\n",
       "      <td>1.000000</td>\n",
       "      <td>-0.177254</td>\n",
       "      <td>0.780966</td>\n",
       "      <td>0.740605</td>\n",
       "      <td>0.724200</td>\n",
       "      <td>0.568211</td>\n",
       "      <td>0.395199</td>\n",
       "      <td>0.180319</td>\n",
       "      <td>0.530474</td>\n",
       "    </tr>\n",
       "    <tr>\n",
       "      <th>Standard_Error</th>\n",
       "      <td>-0.177254</td>\n",
       "      <td>1.000000</td>\n",
       "      <td>-0.217651</td>\n",
       "      <td>-0.120728</td>\n",
       "      <td>-0.310287</td>\n",
       "      <td>-0.129773</td>\n",
       "      <td>-0.178325</td>\n",
       "      <td>-0.088439</td>\n",
       "      <td>0.083981</td>\n",
       "    </tr>\n",
       "    <tr>\n",
       "      <th>Economy</th>\n",
       "      <td>0.780966</td>\n",
       "      <td>-0.217651</td>\n",
       "      <td>1.000000</td>\n",
       "      <td>0.645299</td>\n",
       "      <td>0.816478</td>\n",
       "      <td>0.370300</td>\n",
       "      <td>0.307885</td>\n",
       "      <td>-0.010465</td>\n",
       "      <td>0.040059</td>\n",
       "    </tr>\n",
       "    <tr>\n",
       "      <th>Family</th>\n",
       "      <td>0.740605</td>\n",
       "      <td>-0.120728</td>\n",
       "      <td>0.645299</td>\n",
       "      <td>1.000000</td>\n",
       "      <td>0.531104</td>\n",
       "      <td>0.441518</td>\n",
       "      <td>0.205605</td>\n",
       "      <td>0.087513</td>\n",
       "      <td>0.148117</td>\n",
       "    </tr>\n",
       "    <tr>\n",
       "      <th>Health</th>\n",
       "      <td>0.724200</td>\n",
       "      <td>-0.310287</td>\n",
       "      <td>0.816478</td>\n",
       "      <td>0.531104</td>\n",
       "      <td>1.000000</td>\n",
       "      <td>0.360477</td>\n",
       "      <td>0.248335</td>\n",
       "      <td>0.108335</td>\n",
       "      <td>0.018979</td>\n",
       "    </tr>\n",
       "    <tr>\n",
       "      <th>Freedom</th>\n",
       "      <td>0.568211</td>\n",
       "      <td>-0.129773</td>\n",
       "      <td>0.370300</td>\n",
       "      <td>0.441518</td>\n",
       "      <td>0.360477</td>\n",
       "      <td>1.000000</td>\n",
       "      <td>0.493524</td>\n",
       "      <td>0.373916</td>\n",
       "      <td>0.062783</td>\n",
       "    </tr>\n",
       "    <tr>\n",
       "      <th>Trust</th>\n",
       "      <td>0.395199</td>\n",
       "      <td>-0.178325</td>\n",
       "      <td>0.307885</td>\n",
       "      <td>0.205605</td>\n",
       "      <td>0.248335</td>\n",
       "      <td>0.493524</td>\n",
       "      <td>1.000000</td>\n",
       "      <td>0.276123</td>\n",
       "      <td>-0.033105</td>\n",
       "    </tr>\n",
       "    <tr>\n",
       "      <th>Generosity</th>\n",
       "      <td>0.180319</td>\n",
       "      <td>-0.088439</td>\n",
       "      <td>-0.010465</td>\n",
       "      <td>0.087513</td>\n",
       "      <td>0.108335</td>\n",
       "      <td>0.373916</td>\n",
       "      <td>0.276123</td>\n",
       "      <td>1.000000</td>\n",
       "      <td>-0.101301</td>\n",
       "    </tr>\n",
       "    <tr>\n",
       "      <th>Dystopia_Residual</th>\n",
       "      <td>0.530474</td>\n",
       "      <td>0.083981</td>\n",
       "      <td>0.040059</td>\n",
       "      <td>0.148117</td>\n",
       "      <td>0.018979</td>\n",
       "      <td>0.062783</td>\n",
       "      <td>-0.033105</td>\n",
       "      <td>-0.101301</td>\n",
       "      <td>1.000000</td>\n",
       "    </tr>\n",
       "  </tbody>\n",
       "</table>\n",
       "</div>"
      ],
      "text/plain": [
       "                   Happiness Score  Standard_Error   Economy    Family  \\\n",
       "Happiness Score           1.000000       -0.177254  0.780966  0.740605   \n",
       "Standard_Error           -0.177254        1.000000 -0.217651 -0.120728   \n",
       "Economy                   0.780966       -0.217651  1.000000  0.645299   \n",
       "Family                    0.740605       -0.120728  0.645299  1.000000   \n",
       "Health                    0.724200       -0.310287  0.816478  0.531104   \n",
       "Freedom                   0.568211       -0.129773  0.370300  0.441518   \n",
       "Trust                     0.395199       -0.178325  0.307885  0.205605   \n",
       "Generosity                0.180319       -0.088439 -0.010465  0.087513   \n",
       "Dystopia_Residual         0.530474        0.083981  0.040059  0.148117   \n",
       "\n",
       "                     Health   Freedom     Trust  Generosity  Dystopia_Residual  \n",
       "Happiness Score    0.724200  0.568211  0.395199    0.180319           0.530474  \n",
       "Standard_Error    -0.310287 -0.129773 -0.178325   -0.088439           0.083981  \n",
       "Economy            0.816478  0.370300  0.307885   -0.010465           0.040059  \n",
       "Family             0.531104  0.441518  0.205605    0.087513           0.148117  \n",
       "Health             1.000000  0.360477  0.248335    0.108335           0.018979  \n",
       "Freedom            0.360477  1.000000  0.493524    0.373916           0.062783  \n",
       "Trust              0.248335  0.493524  1.000000    0.276123          -0.033105  \n",
       "Generosity         0.108335  0.373916  0.276123    1.000000          -0.101301  \n",
       "Dystopia_Residual  0.018979  0.062783 -0.033105   -0.101301           1.000000  "
      ]
     },
     "execution_count": 161,
     "metadata": {},
     "output_type": "execute_result"
    }
   ],
   "source": [
    "data.corr()"
   ]
  },
  {
   "cell_type": "code",
   "execution_count": 162,
   "id": "0e225a9f",
   "metadata": {},
   "outputs": [
    {
     "data": {
      "image/png": "[encoded data removed]",
      "text/plain": [
       "<Figure size 720x720 with 2 Axes>"
      ]
     },
     "metadata": {
      "needs_background": "light"
     },
     "output_type": "display_data"
    }
   ],
   "source": [
    "corr_mat  =data.corr()\n",
    "#size of the canvas \n",
    "plt.figure(figsize = [10,10])\n",
    "#plor the correlation matrix\n",
    "sns.heatmap(corr_mat,annot = True)\n",
    "plt.title('Correlation matrix')\n",
    "plt.show()"
   ]
  },
  {
   "cell_type": "code",
   "execution_count": 163,
   "id": "9e4339d6",
   "metadata": {},
   "outputs": [
    {
     "data": {
      "text/plain": [
       "Happiness Score      1.000000\n",
       "Economy              0.780966\n",
       "Family               0.740605\n",
       "Health               0.724200\n",
       "Freedom              0.568211\n",
       "Dystopia_Residual    0.530474\n",
       "Trust                0.395199\n",
       "Generosity           0.180319\n",
       "Standard_Error      -0.177254\n",
       "Name: Happiness Score, dtype: float64"
      ]
     },
     "execution_count": 163,
     "metadata": {},
     "output_type": "execute_result"
    }
   ],
   "source": [
    "corr_matrix = data.corr()\n",
    "corr_matrix['Happiness Score'].sort_values(ascending=False)"
   ]
  },
  {
   "cell_type": "markdown",
   "id": "572534ac",
   "metadata": {},
   "source": [
    "#### as we can see through heat map there is possibility that Economy and health column are corelated so we have to confirm by scatter plot are they following any trend"
   ]
  },
  {
   "cell_type": "code",
   "execution_count": 164,
   "id": "0bd061e6",
   "metadata": {},
   "outputs": [
    {
     "data": {
      "text/plain": [
       "<matplotlib.collections.PathCollection at 0x20019e308e0>"
      ]
     },
     "execution_count": 164,
     "metadata": {},
     "output_type": "execute_result"
    },
    {
     "data": {
      "image/png": "[encoded data removed]",
      "text/plain": [
       "<Figure size 432x288 with 1 Axes>"
      ]
     },
     "metadata": {
      "needs_background": "light"
     },
     "output_type": "display_data"
    }
   ],
   "source": [
    "plt.scatter(y ='Economy',x='Happiness Score',data=data)"
   ]
  },
  {
   "cell_type": "code",
   "execution_count": 165,
   "id": "2e532644",
   "metadata": {},
   "outputs": [
    {
     "data": {
      "text/plain": [
       "<matplotlib.collections.PathCollection at 0x20019e84fa0>"
      ]
     },
     "execution_count": 165,
     "metadata": {},
     "output_type": "execute_result"
    },
    {
     "data": {
      "image/png": "[encoded data removed]",
      "text/plain": [
       "<Figure size 432x288 with 1 Axes>"
      ]
     },
     "metadata": {
      "needs_background": "light"
     },
     "output_type": "display_data"
    }
   ],
   "source": [
    "plt.scatter(y ='Health',x='Happiness Score',data=data)"
   ]
  },
  {
   "cell_type": "code",
   "execution_count": 166,
   "id": "ddff97b4",
   "metadata": {},
   "outputs": [],
   "source": [
    "# cant see any trend soo we can cant say they are highly corelated"
   ]
  },
  {
   "cell_type": "code",
   "execution_count": 167,
   "id": "732fc783",
   "metadata": {},
   "outputs": [],
   "source": [
    "# seeing data distribution by histogram"
   ]
  },
  {
   "cell_type": "code",
   "execution_count": 168,
   "id": "ad951fde",
   "metadata": {},
   "outputs": [
    {
     "data": {
      "image/png": "[encoded data removed]",
      "text/plain": [
       "<Figure size 1800x2160 with 9 Axes>"
      ]
     },
     "metadata": {
      "needs_background": "light"
     },
     "output_type": "display_data"
    }
   ],
   "source": [
    "plt.figure(figsize=(25,30))\n",
    "plotnumber=1\n",
    "\n",
    "for column in data:\n",
    "    if plotnumber<=12: #as there are 9 columns in data\n",
    "        ax=plt.subplot(4,3,plotnumber)\n",
    "        plt.hist(data[column],bins=30)\n",
    "        plt.xlabel(column,fontsize=20)\n",
    "    plotnumber +=1\n",
    "plt.show()"
   ]
  },
  {
   "cell_type": "code",
   "execution_count": 169,
   "id": "ea0a93c6",
   "metadata": {},
   "outputs": [
    {
     "data": {
      "image/png": "[encoded data removed]",
      "text/plain": [
       "<Figure size 2880x4320 with 200 Axes>"
      ]
     },
     "metadata": {
      "needs_background": "light"
     },
     "output_type": "display_data"
    }
   ],
   "source": [
    "data.plot(kind = 'density',subplots = True, layout = (10,20), sharex = False, legend =False ,fontsize =1,figsize=(40,60))\n",
    "plt.show()"
   ]
  },
  {
   "cell_type": "code",
   "execution_count": 170,
   "id": "e6419b73",
   "metadata": {},
   "outputs": [],
   "source": [
    "# we can see skewness in data, we will handle it in furthur steps"
   ]
  },
  {
   "cell_type": "markdown",
   "id": "acd63ad0",
   "metadata": {},
   "source": [
    "### splitting the independent and target variable in X and Y before removing the skewness"
   ]
  },
  {
   "cell_type": "code",
   "execution_count": 171,
   "id": "af3b03af",
   "metadata": {},
   "outputs": [],
   "source": [
    "x = data.drop(['Happiness Score'],axis = 1)\n",
    "y = data['Happiness Score']"
   ]
  },
  {
   "cell_type": "code",
   "execution_count": 172,
   "id": "52452194",
   "metadata": {},
   "outputs": [
    {
     "data": {
      "text/plain": [
       "Standard_Error       1.983439\n",
       "Trust                1.385463\n",
       "Generosity           1.001961\n",
       "Dystopia_Residual   -0.238911\n",
       "Economy             -0.317575\n",
       "Freedom             -0.413462\n",
       "Health              -0.705328\n",
       "Family              -1.006893\n",
       "dtype: float64"
      ]
     },
     "execution_count": 172,
     "metadata": {},
     "output_type": "execute_result"
    }
   ],
   "source": [
    "x.skew().sort_values(ascending = False)"
   ]
  },
  {
   "cell_type": "markdown",
   "id": "38440319",
   "metadata": {},
   "source": [
    "### We can see skewness in the most of the columns of dataset. we will remove the skewness using the Standard scaler (and value accepted is -0.5 to 0.5)"
   ]
  },
  {
   "cell_type": "code",
   "execution_count": 173,
   "id": "2120f659",
   "metadata": {},
   "outputs": [],
   "source": [
    "from sklearn.preprocessing import StandardScaler\n",
    "scaler = StandardScaler()\n",
    "x_new = scaler.fit_transform(x)"
   ]
  },
  {
   "cell_type": "code",
   "execution_count": 174,
   "id": "6c1beda5",
   "metadata": {},
   "outputs": [],
   "source": [
    "x = pd.DataFrame(x_new,columns = x.columns)"
   ]
  },
  {
   "cell_type": "code",
   "execution_count": 175,
   "id": "e109c798",
   "metadata": {},
   "outputs": [
    {
     "data": {
      "text/plain": [
       "True"
      ]
     },
     "execution_count": 175,
     "metadata": {},
     "output_type": "execute_result"
    }
   ],
   "source": [
    "sk = x.skew()\n",
    "sk[np.abs(sk)>0.25].all()"
   ]
  },
  {
   "cell_type": "markdown",
   "id": "9f7de394",
   "metadata": {},
   "source": [
    "### Checking outliers"
   ]
  },
  {
   "cell_type": "code",
   "execution_count": 176,
   "id": "4021d33e",
   "metadata": {},
   "outputs": [
    {
     "data": {
      "text/plain": [
       "<function matplotlib.pyplot.show(close=None, block=None)>"
      ]
     },
     "execution_count": 176,
     "metadata": {},
     "output_type": "execute_result"
    },
    {
     "data": {
      "image/png": "[encoded data removed]",
      "text/plain": [
       "<Figure size 1440x576 with 1 Axes>"
      ]
     },
     "metadata": {
      "needs_background": "light"
     },
     "output_type": "display_data"
    }
   ],
   "source": [
    "data.boxplot(figsize=[20,8])\n",
    "plt.subplots_adjust(bottom = 0.25)\n",
    "plt.show"
   ]
  },
  {
   "cell_type": "code",
   "execution_count": 177,
   "id": "034b2d0d",
   "metadata": {},
   "outputs": [
    {
     "data": {
      "text/plain": [
       "Happiness Score      1.717750\n",
       "Standard_Error       0.015032\n",
       "Economy              0.612640\n",
       "Family               0.357582\n",
       "Health               0.371828\n",
       "Freedom              0.220762\n",
       "Trust                0.118580\n",
       "Generosity           0.159330\n",
       "Dystopia_Residual    0.703005\n",
       "dtype: float64"
      ]
     },
     "execution_count": 177,
     "metadata": {},
     "output_type": "execute_result"
    }
   ],
   "source": [
    "#quantile 1\n",
    "q1=data.quantile(0.25)\n",
    "#QUANTILE 3\n",
    "q3=data.quantile(0.75)\n",
    "\n",
    "IQR=q3-q1\n",
    "IQR"
   ]
  },
  {
   "cell_type": "code",
   "execution_count": 178,
   "id": "4a7d842e",
   "metadata": {},
   "outputs": [
    {
     "data": {
      "text/html": [
       "<div>\n",
       "<style scoped>\n",
       "    .dataframe tbody tr th:only-of-type {\n",
       "        vertical-align: middle;\n",
       "    }\n",
       "\n",
       "    .dataframe tbody tr th {\n",
       "        vertical-align: top;\n",
       "    }\n",
       "\n",
       "    .dataframe thead th {\n",
       "        text-align: right;\n",
       "    }\n",
       "</style>\n",
       "<table border=\"1\" class=\"dataframe\">\n",
       "  <thead>\n",
       "    <tr style=\"text-align: right;\">\n",
       "      <th></th>\n",
       "      <th>index</th>\n",
       "      <th>Happiness Score</th>\n",
       "      <th>Standard_Error</th>\n",
       "      <th>Economy</th>\n",
       "      <th>Family</th>\n",
       "      <th>Health</th>\n",
       "      <th>Freedom</th>\n",
       "      <th>Trust</th>\n",
       "      <th>Generosity</th>\n",
       "      <th>Dystopia_Residual</th>\n",
       "    </tr>\n",
       "  </thead>\n",
       "  <tbody>\n",
       "    <tr>\n",
       "      <th>0</th>\n",
       "      <td>0</td>\n",
       "      <td>7.587</td>\n",
       "      <td>0.03411</td>\n",
       "      <td>1.39651</td>\n",
       "      <td>1.34951</td>\n",
       "      <td>0.94143</td>\n",
       "      <td>0.66557</td>\n",
       "      <td>0.41978</td>\n",
       "      <td>0.29678</td>\n",
       "      <td>2.51738</td>\n",
       "    </tr>\n",
       "    <tr>\n",
       "      <th>1</th>\n",
       "      <td>1</td>\n",
       "      <td>7.561</td>\n",
       "      <td>0.04884</td>\n",
       "      <td>1.30232</td>\n",
       "      <td>1.40223</td>\n",
       "      <td>0.94784</td>\n",
       "      <td>0.62877</td>\n",
       "      <td>0.14145</td>\n",
       "      <td>0.43630</td>\n",
       "      <td>2.70201</td>\n",
       "    </tr>\n",
       "    <tr>\n",
       "      <th>2</th>\n",
       "      <td>2</td>\n",
       "      <td>7.527</td>\n",
       "      <td>0.03328</td>\n",
       "      <td>1.32548</td>\n",
       "      <td>1.36058</td>\n",
       "      <td>0.87464</td>\n",
       "      <td>0.64938</td>\n",
       "      <td>0.48357</td>\n",
       "      <td>0.34139</td>\n",
       "      <td>2.49204</td>\n",
       "    </tr>\n",
       "    <tr>\n",
       "      <th>3</th>\n",
       "      <td>3</td>\n",
       "      <td>7.522</td>\n",
       "      <td>0.03880</td>\n",
       "      <td>1.45900</td>\n",
       "      <td>1.33095</td>\n",
       "      <td>0.88521</td>\n",
       "      <td>0.66973</td>\n",
       "      <td>0.36503</td>\n",
       "      <td>0.34699</td>\n",
       "      <td>2.46531</td>\n",
       "    </tr>\n",
       "    <tr>\n",
       "      <th>4</th>\n",
       "      <td>4</td>\n",
       "      <td>7.427</td>\n",
       "      <td>0.03553</td>\n",
       "      <td>1.32629</td>\n",
       "      <td>1.32261</td>\n",
       "      <td>0.90563</td>\n",
       "      <td>0.63297</td>\n",
       "      <td>0.32957</td>\n",
       "      <td>0.45811</td>\n",
       "      <td>2.45176</td>\n",
       "    </tr>\n",
       "    <tr>\n",
       "      <th>...</th>\n",
       "      <td>...</td>\n",
       "      <td>...</td>\n",
       "      <td>...</td>\n",
       "      <td>...</td>\n",
       "      <td>...</td>\n",
       "      <td>...</td>\n",
       "      <td>...</td>\n",
       "      <td>...</td>\n",
       "      <td>...</td>\n",
       "      <td>...</td>\n",
       "    </tr>\n",
       "    <tr>\n",
       "      <th>143</th>\n",
       "      <td>152</td>\n",
       "      <td>3.575</td>\n",
       "      <td>0.03084</td>\n",
       "      <td>0.31982</td>\n",
       "      <td>0.30285</td>\n",
       "      <td>0.30335</td>\n",
       "      <td>0.23414</td>\n",
       "      <td>0.09719</td>\n",
       "      <td>0.36510</td>\n",
       "      <td>1.95210</td>\n",
       "    </tr>\n",
       "    <tr>\n",
       "      <th>144</th>\n",
       "      <td>153</td>\n",
       "      <td>3.465</td>\n",
       "      <td>0.03464</td>\n",
       "      <td>0.22208</td>\n",
       "      <td>0.77370</td>\n",
       "      <td>0.42864</td>\n",
       "      <td>0.59201</td>\n",
       "      <td>0.55191</td>\n",
       "      <td>0.22628</td>\n",
       "      <td>0.67042</td>\n",
       "    </tr>\n",
       "    <tr>\n",
       "      <th>145</th>\n",
       "      <td>154</td>\n",
       "      <td>3.340</td>\n",
       "      <td>0.03656</td>\n",
       "      <td>0.28665</td>\n",
       "      <td>0.35386</td>\n",
       "      <td>0.31910</td>\n",
       "      <td>0.48450</td>\n",
       "      <td>0.08010</td>\n",
       "      <td>0.18260</td>\n",
       "      <td>1.63328</td>\n",
       "    </tr>\n",
       "    <tr>\n",
       "      <th>146</th>\n",
       "      <td>155</td>\n",
       "      <td>3.006</td>\n",
       "      <td>0.05015</td>\n",
       "      <td>0.66320</td>\n",
       "      <td>0.47489</td>\n",
       "      <td>0.72193</td>\n",
       "      <td>0.15684</td>\n",
       "      <td>0.18906</td>\n",
       "      <td>0.47179</td>\n",
       "      <td>0.32858</td>\n",
       "    </tr>\n",
       "    <tr>\n",
       "      <th>147</th>\n",
       "      <td>157</td>\n",
       "      <td>2.839</td>\n",
       "      <td>0.06727</td>\n",
       "      <td>0.20868</td>\n",
       "      <td>0.13995</td>\n",
       "      <td>0.28443</td>\n",
       "      <td>0.36453</td>\n",
       "      <td>0.10731</td>\n",
       "      <td>0.16681</td>\n",
       "      <td>1.56726</td>\n",
       "    </tr>\n",
       "  </tbody>\n",
       "</table>\n",
       "<p>148 rows × 10 columns</p>\n",
       "</div>"
      ],
      "text/plain": [
       "     index  Happiness Score  Standard_Error  Economy   Family   Health  \\\n",
       "0        0            7.587         0.03411  1.39651  1.34951  0.94143   \n",
       "1        1            7.561         0.04884  1.30232  1.40223  0.94784   \n",
       "2        2            7.527         0.03328  1.32548  1.36058  0.87464   \n",
       "3        3            7.522         0.03880  1.45900  1.33095  0.88521   \n",
       "4        4            7.427         0.03553  1.32629  1.32261  0.90563   \n",
       "..     ...              ...             ...      ...      ...      ...   \n",
       "143    152            3.575         0.03084  0.31982  0.30285  0.30335   \n",
       "144    153            3.465         0.03464  0.22208  0.77370  0.42864   \n",
       "145    154            3.340         0.03656  0.28665  0.35386  0.31910   \n",
       "146    155            3.006         0.05015  0.66320  0.47489  0.72193   \n",
       "147    157            2.839         0.06727  0.20868  0.13995  0.28443   \n",
       "\n",
       "     Freedom    Trust  Generosity  Dystopia_Residual  \n",
       "0    0.66557  0.41978     0.29678            2.51738  \n",
       "1    0.62877  0.14145     0.43630            2.70201  \n",
       "2    0.64938  0.48357     0.34139            2.49204  \n",
       "3    0.66973  0.36503     0.34699            2.46531  \n",
       "4    0.63297  0.32957     0.45811            2.45176  \n",
       "..       ...      ...         ...                ...  \n",
       "143  0.23414  0.09719     0.36510            1.95210  \n",
       "144  0.59201  0.55191     0.22628            0.67042  \n",
       "145  0.48450  0.08010     0.18260            1.63328  \n",
       "146  0.15684  0.18906     0.47179            0.32858  \n",
       "147  0.36453  0.10731     0.16681            1.56726  \n",
       "\n",
       "[148 rows x 10 columns]"
      ]
     },
     "execution_count": 178,
     "metadata": {},
     "output_type": "execute_result"
    }
   ],
   "source": [
    "Se=(q3.Standard_Error+1.5*IQR.Standard_Error)\n",
    "\n",
    "index = np.where(data['Standard_Error']>Se)\n",
    "\n",
    "data=data.drop(data.index[index])\n",
    "\n",
    "data.reset_index()"
   ]
  },
  {
   "cell_type": "code",
   "execution_count": 179,
   "id": "55112fc9",
   "metadata": {},
   "outputs": [
    {
     "data": {
      "text/html": [
       "<div>\n",
       "<style scoped>\n",
       "    .dataframe tbody tr th:only-of-type {\n",
       "        vertical-align: middle;\n",
       "    }\n",
       "\n",
       "    .dataframe tbody tr th {\n",
       "        vertical-align: top;\n",
       "    }\n",
       "\n",
       "    .dataframe thead th {\n",
       "        text-align: right;\n",
       "    }\n",
       "</style>\n",
       "<table border=\"1\" class=\"dataframe\">\n",
       "  <thead>\n",
       "    <tr style=\"text-align: right;\">\n",
       "      <th></th>\n",
       "      <th>index</th>\n",
       "      <th>Happiness Score</th>\n",
       "      <th>Standard_Error</th>\n",
       "      <th>Economy</th>\n",
       "      <th>Family</th>\n",
       "      <th>Health</th>\n",
       "      <th>Freedom</th>\n",
       "      <th>Trust</th>\n",
       "      <th>Generosity</th>\n",
       "      <th>Dystopia_Residual</th>\n",
       "    </tr>\n",
       "  </thead>\n",
       "  <tbody>\n",
       "    <tr>\n",
       "      <th>0</th>\n",
       "      <td>0</td>\n",
       "      <td>7.587</td>\n",
       "      <td>0.03411</td>\n",
       "      <td>1.39651</td>\n",
       "      <td>1.34951</td>\n",
       "      <td>0.94143</td>\n",
       "      <td>0.66557</td>\n",
       "      <td>0.41978</td>\n",
       "      <td>0.29678</td>\n",
       "      <td>2.51738</td>\n",
       "    </tr>\n",
       "    <tr>\n",
       "      <th>1</th>\n",
       "      <td>1</td>\n",
       "      <td>7.561</td>\n",
       "      <td>0.04884</td>\n",
       "      <td>1.30232</td>\n",
       "      <td>1.40223</td>\n",
       "      <td>0.94784</td>\n",
       "      <td>0.62877</td>\n",
       "      <td>0.14145</td>\n",
       "      <td>0.43630</td>\n",
       "      <td>2.70201</td>\n",
       "    </tr>\n",
       "    <tr>\n",
       "      <th>2</th>\n",
       "      <td>2</td>\n",
       "      <td>7.527</td>\n",
       "      <td>0.03328</td>\n",
       "      <td>1.32548</td>\n",
       "      <td>1.36058</td>\n",
       "      <td>0.87464</td>\n",
       "      <td>0.64938</td>\n",
       "      <td>0.48357</td>\n",
       "      <td>0.34139</td>\n",
       "      <td>2.49204</td>\n",
       "    </tr>\n",
       "    <tr>\n",
       "      <th>3</th>\n",
       "      <td>3</td>\n",
       "      <td>7.522</td>\n",
       "      <td>0.03880</td>\n",
       "      <td>1.45900</td>\n",
       "      <td>1.33095</td>\n",
       "      <td>0.88521</td>\n",
       "      <td>0.66973</td>\n",
       "      <td>0.36503</td>\n",
       "      <td>0.34699</td>\n",
       "      <td>2.46531</td>\n",
       "    </tr>\n",
       "    <tr>\n",
       "      <th>4</th>\n",
       "      <td>4</td>\n",
       "      <td>7.427</td>\n",
       "      <td>0.03553</td>\n",
       "      <td>1.32629</td>\n",
       "      <td>1.32261</td>\n",
       "      <td>0.90563</td>\n",
       "      <td>0.63297</td>\n",
       "      <td>0.32957</td>\n",
       "      <td>0.45811</td>\n",
       "      <td>2.45176</td>\n",
       "    </tr>\n",
       "    <tr>\n",
       "      <th>...</th>\n",
       "      <td>...</td>\n",
       "      <td>...</td>\n",
       "      <td>...</td>\n",
       "      <td>...</td>\n",
       "      <td>...</td>\n",
       "      <td>...</td>\n",
       "      <td>...</td>\n",
       "      <td>...</td>\n",
       "      <td>...</td>\n",
       "      <td>...</td>\n",
       "    </tr>\n",
       "    <tr>\n",
       "      <th>125</th>\n",
       "      <td>145</td>\n",
       "      <td>3.781</td>\n",
       "      <td>0.05061</td>\n",
       "      <td>0.28520</td>\n",
       "      <td>1.00268</td>\n",
       "      <td>0.38215</td>\n",
       "      <td>0.32878</td>\n",
       "      <td>0.05747</td>\n",
       "      <td>0.34377</td>\n",
       "      <td>1.38079</td>\n",
       "    </tr>\n",
       "    <tr>\n",
       "      <th>126</th>\n",
       "      <td>148</td>\n",
       "      <td>3.667</td>\n",
       "      <td>0.03830</td>\n",
       "      <td>0.34193</td>\n",
       "      <td>0.76062</td>\n",
       "      <td>0.15010</td>\n",
       "      <td>0.23501</td>\n",
       "      <td>0.05269</td>\n",
       "      <td>0.18386</td>\n",
       "      <td>1.94296</td>\n",
       "    </tr>\n",
       "    <tr>\n",
       "      <th>127</th>\n",
       "      <td>150</td>\n",
       "      <td>3.655</td>\n",
       "      <td>0.05141</td>\n",
       "      <td>0.46534</td>\n",
       "      <td>0.77115</td>\n",
       "      <td>0.15185</td>\n",
       "      <td>0.46866</td>\n",
       "      <td>0.17922</td>\n",
       "      <td>0.20165</td>\n",
       "      <td>1.41723</td>\n",
       "    </tr>\n",
       "    <tr>\n",
       "      <th>128</th>\n",
       "      <td>151</td>\n",
       "      <td>3.587</td>\n",
       "      <td>0.04324</td>\n",
       "      <td>0.25812</td>\n",
       "      <td>0.85188</td>\n",
       "      <td>0.27125</td>\n",
       "      <td>0.39493</td>\n",
       "      <td>0.12832</td>\n",
       "      <td>0.21747</td>\n",
       "      <td>1.46494</td>\n",
       "    </tr>\n",
       "    <tr>\n",
       "      <th>129</th>\n",
       "      <td>153</td>\n",
       "      <td>3.465</td>\n",
       "      <td>0.03464</td>\n",
       "      <td>0.22208</td>\n",
       "      <td>0.77370</td>\n",
       "      <td>0.42864</td>\n",
       "      <td>0.59201</td>\n",
       "      <td>0.55191</td>\n",
       "      <td>0.22628</td>\n",
       "      <td>0.67042</td>\n",
       "    </tr>\n",
       "  </tbody>\n",
       "</table>\n",
       "<p>130 rows × 10 columns</p>\n",
       "</div>"
      ],
      "text/plain": [
       "     index  Happiness Score  Standard_Error  Economy   Family   Health  \\\n",
       "0        0            7.587         0.03411  1.39651  1.34951  0.94143   \n",
       "1        1            7.561         0.04884  1.30232  1.40223  0.94784   \n",
       "2        2            7.527         0.03328  1.32548  1.36058  0.87464   \n",
       "3        3            7.522         0.03880  1.45900  1.33095  0.88521   \n",
       "4        4            7.427         0.03553  1.32629  1.32261  0.90563   \n",
       "..     ...              ...             ...      ...      ...      ...   \n",
       "125    145            3.781         0.05061  0.28520  1.00268  0.38215   \n",
       "126    148            3.667         0.03830  0.34193  0.76062  0.15010   \n",
       "127    150            3.655         0.05141  0.46534  0.77115  0.15185   \n",
       "128    151            3.587         0.04324  0.25812  0.85188  0.27125   \n",
       "129    153            3.465         0.03464  0.22208  0.77370  0.42864   \n",
       "\n",
       "     Freedom    Trust  Generosity  Dystopia_Residual  \n",
       "0    0.66557  0.41978     0.29678            2.51738  \n",
       "1    0.62877  0.14145     0.43630            2.70201  \n",
       "2    0.64938  0.48357     0.34139            2.49204  \n",
       "3    0.66973  0.36503     0.34699            2.46531  \n",
       "4    0.63297  0.32957     0.45811            2.45176  \n",
       "..       ...      ...         ...                ...  \n",
       "125  0.32878  0.05747     0.34377            1.38079  \n",
       "126  0.23501  0.05269     0.18386            1.94296  \n",
       "127  0.46866  0.17922     0.20165            1.41723  \n",
       "128  0.39493  0.12832     0.21747            1.46494  \n",
       "129  0.59201  0.55191     0.22628            0.67042  \n",
       "\n",
       "[130 rows x 10 columns]"
      ]
     },
     "execution_count": 179,
     "metadata": {},
     "output_type": "execute_result"
    }
   ],
   "source": [
    "Se=(q3.Family-1.5*IQR.Family)\n",
    "\n",
    "index = np.where(data['Family']<Se)\n",
    "\n",
    "data=data.drop(data.index[index])\n",
    "\n",
    "data.reset_index()"
   ]
  },
  {
   "cell_type": "code",
   "execution_count": 180,
   "id": "ed953980",
   "metadata": {},
   "outputs": [
    {
     "data": {
      "text/html": [
       "<div>\n",
       "<style scoped>\n",
       "    .dataframe tbody tr th:only-of-type {\n",
       "        vertical-align: middle;\n",
       "    }\n",
       "\n",
       "    .dataframe tbody tr th {\n",
       "        vertical-align: top;\n",
       "    }\n",
       "\n",
       "    .dataframe thead th {\n",
       "        text-align: right;\n",
       "    }\n",
       "</style>\n",
       "<table border=\"1\" class=\"dataframe\">\n",
       "  <thead>\n",
       "    <tr style=\"text-align: right;\">\n",
       "      <th></th>\n",
       "      <th>index</th>\n",
       "      <th>Happiness Score</th>\n",
       "      <th>Standard_Error</th>\n",
       "      <th>Economy</th>\n",
       "      <th>Family</th>\n",
       "      <th>Health</th>\n",
       "      <th>Freedom</th>\n",
       "      <th>Trust</th>\n",
       "      <th>Generosity</th>\n",
       "      <th>Dystopia_Residual</th>\n",
       "    </tr>\n",
       "  </thead>\n",
       "  <tbody>\n",
       "    <tr>\n",
       "      <th>0</th>\n",
       "      <td>0</td>\n",
       "      <td>7.587</td>\n",
       "      <td>0.03411</td>\n",
       "      <td>1.39651</td>\n",
       "      <td>1.34951</td>\n",
       "      <td>0.94143</td>\n",
       "      <td>0.66557</td>\n",
       "      <td>0.41978</td>\n",
       "      <td>0.29678</td>\n",
       "      <td>2.51738</td>\n",
       "    </tr>\n",
       "    <tr>\n",
       "      <th>1</th>\n",
       "      <td>1</td>\n",
       "      <td>7.561</td>\n",
       "      <td>0.04884</td>\n",
       "      <td>1.30232</td>\n",
       "      <td>1.40223</td>\n",
       "      <td>0.94784</td>\n",
       "      <td>0.62877</td>\n",
       "      <td>0.14145</td>\n",
       "      <td>0.43630</td>\n",
       "      <td>2.70201</td>\n",
       "    </tr>\n",
       "    <tr>\n",
       "      <th>2</th>\n",
       "      <td>2</td>\n",
       "      <td>7.527</td>\n",
       "      <td>0.03328</td>\n",
       "      <td>1.32548</td>\n",
       "      <td>1.36058</td>\n",
       "      <td>0.87464</td>\n",
       "      <td>0.64938</td>\n",
       "      <td>0.48357</td>\n",
       "      <td>0.34139</td>\n",
       "      <td>2.49204</td>\n",
       "    </tr>\n",
       "    <tr>\n",
       "      <th>3</th>\n",
       "      <td>3</td>\n",
       "      <td>7.522</td>\n",
       "      <td>0.03880</td>\n",
       "      <td>1.45900</td>\n",
       "      <td>1.33095</td>\n",
       "      <td>0.88521</td>\n",
       "      <td>0.66973</td>\n",
       "      <td>0.36503</td>\n",
       "      <td>0.34699</td>\n",
       "      <td>2.46531</td>\n",
       "    </tr>\n",
       "    <tr>\n",
       "      <th>4</th>\n",
       "      <td>4</td>\n",
       "      <td>7.427</td>\n",
       "      <td>0.03553</td>\n",
       "      <td>1.32629</td>\n",
       "      <td>1.32261</td>\n",
       "      <td>0.90563</td>\n",
       "      <td>0.63297</td>\n",
       "      <td>0.32957</td>\n",
       "      <td>0.45811</td>\n",
       "      <td>2.45176</td>\n",
       "    </tr>\n",
       "    <tr>\n",
       "      <th>...</th>\n",
       "      <td>...</td>\n",
       "      <td>...</td>\n",
       "      <td>...</td>\n",
       "      <td>...</td>\n",
       "      <td>...</td>\n",
       "      <td>...</td>\n",
       "      <td>...</td>\n",
       "      <td>...</td>\n",
       "      <td>...</td>\n",
       "      <td>...</td>\n",
       "    </tr>\n",
       "    <tr>\n",
       "      <th>123</th>\n",
       "      <td>145</td>\n",
       "      <td>3.781</td>\n",
       "      <td>0.05061</td>\n",
       "      <td>0.28520</td>\n",
       "      <td>1.00268</td>\n",
       "      <td>0.38215</td>\n",
       "      <td>0.32878</td>\n",
       "      <td>0.05747</td>\n",
       "      <td>0.34377</td>\n",
       "      <td>1.38079</td>\n",
       "    </tr>\n",
       "    <tr>\n",
       "      <th>124</th>\n",
       "      <td>148</td>\n",
       "      <td>3.667</td>\n",
       "      <td>0.03830</td>\n",
       "      <td>0.34193</td>\n",
       "      <td>0.76062</td>\n",
       "      <td>0.15010</td>\n",
       "      <td>0.23501</td>\n",
       "      <td>0.05269</td>\n",
       "      <td>0.18386</td>\n",
       "      <td>1.94296</td>\n",
       "    </tr>\n",
       "    <tr>\n",
       "      <th>125</th>\n",
       "      <td>150</td>\n",
       "      <td>3.655</td>\n",
       "      <td>0.05141</td>\n",
       "      <td>0.46534</td>\n",
       "      <td>0.77115</td>\n",
       "      <td>0.15185</td>\n",
       "      <td>0.46866</td>\n",
       "      <td>0.17922</td>\n",
       "      <td>0.20165</td>\n",
       "      <td>1.41723</td>\n",
       "    </tr>\n",
       "    <tr>\n",
       "      <th>126</th>\n",
       "      <td>151</td>\n",
       "      <td>3.587</td>\n",
       "      <td>0.04324</td>\n",
       "      <td>0.25812</td>\n",
       "      <td>0.85188</td>\n",
       "      <td>0.27125</td>\n",
       "      <td>0.39493</td>\n",
       "      <td>0.12832</td>\n",
       "      <td>0.21747</td>\n",
       "      <td>1.46494</td>\n",
       "    </tr>\n",
       "    <tr>\n",
       "      <th>127</th>\n",
       "      <td>153</td>\n",
       "      <td>3.465</td>\n",
       "      <td>0.03464</td>\n",
       "      <td>0.22208</td>\n",
       "      <td>0.77370</td>\n",
       "      <td>0.42864</td>\n",
       "      <td>0.59201</td>\n",
       "      <td>0.55191</td>\n",
       "      <td>0.22628</td>\n",
       "      <td>0.67042</td>\n",
       "    </tr>\n",
       "  </tbody>\n",
       "</table>\n",
       "<p>128 rows × 10 columns</p>\n",
       "</div>"
      ],
      "text/plain": [
       "     index  Happiness Score  Standard_Error  Economy   Family   Health  \\\n",
       "0        0            7.587         0.03411  1.39651  1.34951  0.94143   \n",
       "1        1            7.561         0.04884  1.30232  1.40223  0.94784   \n",
       "2        2            7.527         0.03328  1.32548  1.36058  0.87464   \n",
       "3        3            7.522         0.03880  1.45900  1.33095  0.88521   \n",
       "4        4            7.427         0.03553  1.32629  1.32261  0.90563   \n",
       "..     ...              ...             ...      ...      ...      ...   \n",
       "123    145            3.781         0.05061  0.28520  1.00268  0.38215   \n",
       "124    148            3.667         0.03830  0.34193  0.76062  0.15010   \n",
       "125    150            3.655         0.05141  0.46534  0.77115  0.15185   \n",
       "126    151            3.587         0.04324  0.25812  0.85188  0.27125   \n",
       "127    153            3.465         0.03464  0.22208  0.77370  0.42864   \n",
       "\n",
       "     Freedom    Trust  Generosity  Dystopia_Residual  \n",
       "0    0.66557  0.41978     0.29678            2.51738  \n",
       "1    0.62877  0.14145     0.43630            2.70201  \n",
       "2    0.64938  0.48357     0.34139            2.49204  \n",
       "3    0.66973  0.36503     0.34699            2.46531  \n",
       "4    0.63297  0.32957     0.45811            2.45176  \n",
       "..       ...      ...         ...                ...  \n",
       "123  0.32878  0.05747     0.34377            1.38079  \n",
       "124  0.23501  0.05269     0.18386            1.94296  \n",
       "125  0.46866  0.17922     0.20165            1.41723  \n",
       "126  0.39493  0.12832     0.21747            1.46494  \n",
       "127  0.59201  0.55191     0.22628            0.67042  \n",
       "\n",
       "[128 rows x 10 columns]"
      ]
     },
     "execution_count": 180,
     "metadata": {},
     "output_type": "execute_result"
    }
   ],
   "source": [
    "Se=(q3.Generosity+1.5*IQR.Generosity)\n",
    "\n",
    "index = np.where(data['Generosity']>Se)\n",
    "\n",
    "data=data.drop(data.index[index])\n",
    "\n",
    "data.reset_index()"
   ]
  },
  {
   "cell_type": "code",
   "execution_count": 181,
   "id": "5c04f8d6",
   "metadata": {},
   "outputs": [
    {
     "data": {
      "text/html": [
       "<div>\n",
       "<style scoped>\n",
       "    .dataframe tbody tr th:only-of-type {\n",
       "        vertical-align: middle;\n",
       "    }\n",
       "\n",
       "    .dataframe tbody tr th {\n",
       "        vertical-align: top;\n",
       "    }\n",
       "\n",
       "    .dataframe thead th {\n",
       "        text-align: right;\n",
       "    }\n",
       "</style>\n",
       "<table border=\"1\" class=\"dataframe\">\n",
       "  <thead>\n",
       "    <tr style=\"text-align: right;\">\n",
       "      <th></th>\n",
       "      <th>index</th>\n",
       "      <th>Happiness Score</th>\n",
       "      <th>Standard_Error</th>\n",
       "      <th>Economy</th>\n",
       "      <th>Family</th>\n",
       "      <th>Health</th>\n",
       "      <th>Freedom</th>\n",
       "      <th>Trust</th>\n",
       "      <th>Generosity</th>\n",
       "      <th>Dystopia_Residual</th>\n",
       "    </tr>\n",
       "  </thead>\n",
       "  <tbody>\n",
       "    <tr>\n",
       "      <th>0</th>\n",
       "      <td>0</td>\n",
       "      <td>7.587</td>\n",
       "      <td>0.03411</td>\n",
       "      <td>1.39651</td>\n",
       "      <td>1.34951</td>\n",
       "      <td>0.94143</td>\n",
       "      <td>0.66557</td>\n",
       "      <td>0.41978</td>\n",
       "      <td>0.29678</td>\n",
       "      <td>2.51738</td>\n",
       "    </tr>\n",
       "    <tr>\n",
       "      <th>1</th>\n",
       "      <td>1</td>\n",
       "      <td>7.561</td>\n",
       "      <td>0.04884</td>\n",
       "      <td>1.30232</td>\n",
       "      <td>1.40223</td>\n",
       "      <td>0.94784</td>\n",
       "      <td>0.62877</td>\n",
       "      <td>0.14145</td>\n",
       "      <td>0.43630</td>\n",
       "      <td>2.70201</td>\n",
       "    </tr>\n",
       "    <tr>\n",
       "      <th>2</th>\n",
       "      <td>2</td>\n",
       "      <td>7.527</td>\n",
       "      <td>0.03328</td>\n",
       "      <td>1.32548</td>\n",
       "      <td>1.36058</td>\n",
       "      <td>0.87464</td>\n",
       "      <td>0.64938</td>\n",
       "      <td>0.48357</td>\n",
       "      <td>0.34139</td>\n",
       "      <td>2.49204</td>\n",
       "    </tr>\n",
       "    <tr>\n",
       "      <th>3</th>\n",
       "      <td>3</td>\n",
       "      <td>7.522</td>\n",
       "      <td>0.03880</td>\n",
       "      <td>1.45900</td>\n",
       "      <td>1.33095</td>\n",
       "      <td>0.88521</td>\n",
       "      <td>0.66973</td>\n",
       "      <td>0.36503</td>\n",
       "      <td>0.34699</td>\n",
       "      <td>2.46531</td>\n",
       "    </tr>\n",
       "    <tr>\n",
       "      <th>4</th>\n",
       "      <td>4</td>\n",
       "      <td>7.427</td>\n",
       "      <td>0.03553</td>\n",
       "      <td>1.32629</td>\n",
       "      <td>1.32261</td>\n",
       "      <td>0.90563</td>\n",
       "      <td>0.63297</td>\n",
       "      <td>0.32957</td>\n",
       "      <td>0.45811</td>\n",
       "      <td>2.45176</td>\n",
       "    </tr>\n",
       "    <tr>\n",
       "      <th>...</th>\n",
       "      <td>...</td>\n",
       "      <td>...</td>\n",
       "      <td>...</td>\n",
       "      <td>...</td>\n",
       "      <td>...</td>\n",
       "      <td>...</td>\n",
       "      <td>...</td>\n",
       "      <td>...</td>\n",
       "      <td>...</td>\n",
       "      <td>...</td>\n",
       "    </tr>\n",
       "    <tr>\n",
       "      <th>113</th>\n",
       "      <td>141</td>\n",
       "      <td>3.904</td>\n",
       "      <td>0.03608</td>\n",
       "      <td>0.36498</td>\n",
       "      <td>0.97619</td>\n",
       "      <td>0.43540</td>\n",
       "      <td>0.36772</td>\n",
       "      <td>0.10713</td>\n",
       "      <td>0.20843</td>\n",
       "      <td>1.44395</td>\n",
       "    </tr>\n",
       "    <tr>\n",
       "      <th>114</th>\n",
       "      <td>143</td>\n",
       "      <td>3.845</td>\n",
       "      <td>0.03602</td>\n",
       "      <td>0.06940</td>\n",
       "      <td>0.77265</td>\n",
       "      <td>0.29707</td>\n",
       "      <td>0.47692</td>\n",
       "      <td>0.15639</td>\n",
       "      <td>0.19387</td>\n",
       "      <td>1.87877</td>\n",
       "    </tr>\n",
       "    <tr>\n",
       "      <th>115</th>\n",
       "      <td>148</td>\n",
       "      <td>3.667</td>\n",
       "      <td>0.03830</td>\n",
       "      <td>0.34193</td>\n",
       "      <td>0.76062</td>\n",
       "      <td>0.15010</td>\n",
       "      <td>0.23501</td>\n",
       "      <td>0.05269</td>\n",
       "      <td>0.18386</td>\n",
       "      <td>1.94296</td>\n",
       "    </tr>\n",
       "    <tr>\n",
       "      <th>116</th>\n",
       "      <td>150</td>\n",
       "      <td>3.655</td>\n",
       "      <td>0.05141</td>\n",
       "      <td>0.46534</td>\n",
       "      <td>0.77115</td>\n",
       "      <td>0.15185</td>\n",
       "      <td>0.46866</td>\n",
       "      <td>0.17922</td>\n",
       "      <td>0.20165</td>\n",
       "      <td>1.41723</td>\n",
       "    </tr>\n",
       "    <tr>\n",
       "      <th>117</th>\n",
       "      <td>151</td>\n",
       "      <td>3.587</td>\n",
       "      <td>0.04324</td>\n",
       "      <td>0.25812</td>\n",
       "      <td>0.85188</td>\n",
       "      <td>0.27125</td>\n",
       "      <td>0.39493</td>\n",
       "      <td>0.12832</td>\n",
       "      <td>0.21747</td>\n",
       "      <td>1.46494</td>\n",
       "    </tr>\n",
       "  </tbody>\n",
       "</table>\n",
       "<p>118 rows × 10 columns</p>\n",
       "</div>"
      ],
      "text/plain": [
       "     index  Happiness Score  Standard_Error  Economy   Family   Health  \\\n",
       "0        0            7.587         0.03411  1.39651  1.34951  0.94143   \n",
       "1        1            7.561         0.04884  1.30232  1.40223  0.94784   \n",
       "2        2            7.527         0.03328  1.32548  1.36058  0.87464   \n",
       "3        3            7.522         0.03880  1.45900  1.33095  0.88521   \n",
       "4        4            7.427         0.03553  1.32629  1.32261  0.90563   \n",
       "..     ...              ...             ...      ...      ...      ...   \n",
       "113    141            3.904         0.03608  0.36498  0.97619  0.43540   \n",
       "114    143            3.845         0.03602  0.06940  0.77265  0.29707   \n",
       "115    148            3.667         0.03830  0.34193  0.76062  0.15010   \n",
       "116    150            3.655         0.05141  0.46534  0.77115  0.15185   \n",
       "117    151            3.587         0.04324  0.25812  0.85188  0.27125   \n",
       "\n",
       "     Freedom    Trust  Generosity  Dystopia_Residual  \n",
       "0    0.66557  0.41978     0.29678            2.51738  \n",
       "1    0.62877  0.14145     0.43630            2.70201  \n",
       "2    0.64938  0.48357     0.34139            2.49204  \n",
       "3    0.66973  0.36503     0.34699            2.46531  \n",
       "4    0.63297  0.32957     0.45811            2.45176  \n",
       "..       ...      ...         ...                ...  \n",
       "113  0.36772  0.10713     0.20843            1.44395  \n",
       "114  0.47692  0.15639     0.19387            1.87877  \n",
       "115  0.23501  0.05269     0.18386            1.94296  \n",
       "116  0.46866  0.17922     0.20165            1.41723  \n",
       "117  0.39493  0.12832     0.21747            1.46494  \n",
       "\n",
       "[118 rows x 10 columns]"
      ]
     },
     "execution_count": 181,
     "metadata": {},
     "output_type": "execute_result"
    }
   ],
   "source": [
    "Se=(q3.Dystopia_Residual-1.5*IQR.Dystopia_Residual)\n",
    "\n",
    "index = np.where(data['Dystopia_Residual']<Se)\n",
    "\n",
    "data=data.drop(data.index[index])\n",
    "\n",
    "data.reset_index()"
   ]
  },
  {
   "cell_type": "code",
   "execution_count": 183,
   "id": "41793006",
   "metadata": {},
   "outputs": [
    {
     "data": {
      "text/plain": [
       "<function matplotlib.pyplot.show(close=None, block=None)>"
      ]
     },
     "execution_count": 183,
     "metadata": {},
     "output_type": "execute_result"
    },
    {
     "data": {
      "image/png": "[encoded data removed]",
      "text/plain": [
       "<Figure size 1440x576 with 1 Axes>"
      ]
     },
     "metadata": {
      "needs_background": "light"
     },
     "output_type": "display_data"
    }
   ],
   "source": [
    "data.boxplot(figsize=[20,8])\n",
    "plt.subplots_adjust(bottom = 0.25)\n",
    "plt.show"
   ]
  },
  {
   "cell_type": "markdown",
   "id": "654d4d29",
   "metadata": {},
   "source": [
    "### now there are outliers but only on whiskers so they can be taken"
   ]
  },
  {
   "cell_type": "markdown",
   "id": "fe7a89e2",
   "metadata": {},
   "source": [
    "### Training process begins"
   ]
  },
  {
   "cell_type": "markdown",
   "id": "ab1bc325",
   "metadata": {},
   "source": [
    "### finding best random_state"
   ]
  },
  {
   "cell_type": "code",
   "execution_count": 185,
   "id": "54cb4092",
   "metadata": {},
   "outputs": [],
   "source": [
    "from sklearn.linear_model import LinearRegression\n",
    "from sklearn.metrics import accuracy_score,confusion_matrix,classification_report,r2_score\n",
    "from sklearn.model_selection import train_test_split"
   ]
  },
  {
   "cell_type": "code",
   "execution_count": 186,
   "id": "929c5a77",
   "metadata": {},
   "outputs": [
    {
     "name": "stdout",
     "output_type": "stream",
     "text": [
      "Best accuracy is 0.9536011114244315 on random state 163\n"
     ]
    }
   ],
   "source": [
    "maxAcc = 0 #maximum accuracy\n",
    "maxRs = 0 #best random state value for which max accuracy is achieved \n",
    "for i in range(1,200):\n",
    "    x_train,x_test,y_train,y_test = train_test_split(x,y,test_size=.20,random_state=i)\n",
    "    from sklearn.ensemble import RandomForestRegressor\n",
    "    rf = RandomForestRegressor()\n",
    "    rf.fit(x_train,y_train) #fitting the data will train your model\n",
    "    predlr = rf.predict(x_test) #this is the predicted target variable\n",
    "    acc =r2_score(y_test,predlr)\n",
    "    if acc>maxAcc:\n",
    "        maxAcc = acc\n",
    "        maxRs = i\n",
    "print(\"Best accuracy is\",maxAcc,\"on random state\",maxRs)"
   ]
  },
  {
   "cell_type": "code",
   "execution_count": 187,
   "id": "806c1957",
   "metadata": {},
   "outputs": [],
   "source": [
    "x_train,x_test,y_train,y_test = train_test_split(x,y,test_size=0.20,random_state=163)"
   ]
  },
  {
   "cell_type": "markdown",
   "id": "0c926ee8",
   "metadata": {},
   "source": [
    "## linear regression"
   ]
  },
  {
   "cell_type": "code",
   "execution_count": 188,
   "id": "c7377031",
   "metadata": {},
   "outputs": [
    {
     "name": "stdout",
     "output_type": "stream",
     "text": [
      "Accuracy score 99.9999932372894\n"
     ]
    }
   ],
   "source": [
    "from sklearn.linear_model import LinearRegression\n",
    "Lr = LinearRegression()\n",
    "Lr.fit(x_train,y_train)\n",
    "predlr = Lr.predict(x_test)\n",
    "print(\"Accuracy score\", r2_score(y_test, predlr)*100)"
   ]
  },
  {
   "cell_type": "code",
   "execution_count": 189,
   "id": "c9434488",
   "metadata": {},
   "outputs": [
    {
     "data": {
      "text/plain": [
       "0.999999932372894"
      ]
     },
     "execution_count": 189,
     "metadata": {},
     "output_type": "execute_result"
    }
   ],
   "source": [
    "Lr.score(x_test,y_test)"
   ]
  },
  {
   "cell_type": "code",
   "execution_count": 190,
   "id": "d8bb3918",
   "metadata": {},
   "outputs": [
    {
     "data": {
      "image/png": "[encoded data removed]",
      "text/plain": [
       "<Figure size 432x288 with 1 Axes>"
      ]
     },
     "metadata": {
      "needs_background": "light"
     },
     "output_type": "display_data"
    }
   ],
   "source": [
    "plt.scatter(y_test,predlr)\n",
    "plt.xlabel(\"ACTUAL CHANCE OF ADMISSION\")\n",
    "plt.ylabel(\"PREDICTED CHANCE OF ADMISSION\")\n",
    "plt.title(\"ACTUAL VS MODEL PREDICTED\")\n",
    "plt.show()"
   ]
  },
  {
   "cell_type": "markdown",
   "id": "d68482fe",
   "metadata": {},
   "source": [
    "## Support vector machine"
   ]
  },
  {
   "cell_type": "code",
   "execution_count": 191,
   "id": "2c581f94",
   "metadata": {},
   "outputs": [
    {
     "name": "stdout",
     "output_type": "stream",
     "text": [
      "Accuracy score 91.64518775827926\n"
     ]
    }
   ],
   "source": [
    "from sklearn.svm import SVR\n",
    "svr=SVR()\n",
    "svr.fit(x_train,y_train)\n",
    "predlr = svr.predict(x_test)\n",
    "print(\"Accuracy score\", r2_score(y_test, predlr)*100)"
   ]
  },
  {
   "cell_type": "markdown",
   "id": "35431e0a",
   "metadata": {},
   "source": [
    "## Decision Tree "
   ]
  },
  {
   "cell_type": "code",
   "execution_count": 192,
   "id": "e51cf1d1",
   "metadata": {},
   "outputs": [
    {
     "name": "stdout",
     "output_type": "stream",
     "text": [
      "Accuracy score 87.18225961671338\n"
     ]
    }
   ],
   "source": [
    "from sklearn.tree import DecisionTreeRegressor\n",
    "dt = DecisionTreeRegressor()\n",
    "dt.fit(x_train,y_train)\n",
    "pred_dt = dt.predict(x_test)\n",
    "print(\"Accuracy score\", r2_score(y_test, pred_dt)*100)"
   ]
  },
  {
   "cell_type": "markdown",
   "id": "9fd524b4",
   "metadata": {},
   "source": [
    "## Random forest"
   ]
  },
  {
   "cell_type": "code",
   "execution_count": 193,
   "id": "561eb6bd",
   "metadata": {},
   "outputs": [
    {
     "name": "stdout",
     "output_type": "stream",
     "text": [
      "Accuracy score 95.28191671109006\n"
     ]
    }
   ],
   "source": [
    "from sklearn.ensemble import RandomForestRegressor\n",
    "rf = RandomForestRegressor()\n",
    "rf.fit(x_train,y_train)\n",
    "pred_rf = rf.predict(x_test)\n",
    "print(\"Accuracy score\", r2_score(y_test, pred_rf)*100)"
   ]
  },
  {
   "cell_type": "code",
   "execution_count": 194,
   "id": "d5dbfa88",
   "metadata": {},
   "outputs": [
    {
     "data": {
      "image/png": "[encoded data removed]",
      "text/plain": [
       "<Figure size 432x288 with 1 Axes>"
      ]
     },
     "metadata": {
      "needs_background": "light"
     },
     "output_type": "display_data"
    }
   ],
   "source": [
    "plt.scatter(y_test,pred_rf)\n",
    "plt.xlabel(\"ACTUAL CHANCE OF ADMISSION\")\n",
    "plt.ylabel(\"PREDICTED CHANCE OF ADMISSION\")\n",
    "plt.title(\"ACTUAL VS MODEL PREDICTED\")\n",
    "plt.show()"
   ]
  },
  {
   "cell_type": "markdown",
   "id": "d6979d2d",
   "metadata": {},
   "source": [
    "## XGBOOST"
   ]
  },
  {
   "cell_type": "code",
   "execution_count": 195,
   "id": "52cfe2f6",
   "metadata": {},
   "outputs": [
    {
     "name": "stdout",
     "output_type": "stream",
     "text": [
      "Accuracy score 95.68931411623471\n"
     ]
    }
   ],
   "source": [
    "from xgboost import XGBRegressor\n",
    "xgbt = XGBRegressor()\n",
    "xgbt.fit(x_train,y_train)\n",
    "pred_xgbt = xgbt.predict(x_test)\n",
    "print(\"Accuracy score\", r2_score(y_test, pred_xgbt)*100)"
   ]
  },
  {
   "cell_type": "code",
   "execution_count": 196,
   "id": "5cbff91d",
   "metadata": {},
   "outputs": [
    {
     "data": {
      "image/png": "[encoded data removed]",
      "text/plain": [
       "<Figure size 432x288 with 1 Axes>"
      ]
     },
     "metadata": {
      "needs_background": "light"
     },
     "output_type": "display_data"
    }
   ],
   "source": [
    "plt.scatter(y_test,pred_xgbt)\n",
    "plt.xlabel(\"ACTUAL CHANCE OF ADMISSION\")\n",
    "plt.ylabel(\"PREDICTED CHANCE OF ADMISSION\")\n",
    "plt.title(\"ACTUAL VS MODEL PREDICTED\")\n",
    "plt.show()"
   ]
  },
  {
   "cell_type": "markdown",
   "id": "5fa6dce5",
   "metadata": {},
   "source": [
    "## Gradient boosting"
   ]
  },
  {
   "cell_type": "code",
   "execution_count": 197,
   "id": "eb804ed6",
   "metadata": {},
   "outputs": [
    {
     "name": "stdout",
     "output_type": "stream",
     "text": [
      "Accuracy score 95.93007166944845\n"
     ]
    }
   ],
   "source": [
    "from sklearn.ensemble import GradientBoostingRegressor\n",
    "from sklearn import metrics\n",
    "gbr = GradientBoostingRegressor()\n",
    "gbr.fit(x_train,y_train)\n",
    "pred_gbr = gbr.predict(x_test)\n",
    "print(\"Accuracy score\", r2_score(y_test, pred_gbr)*100)"
   ]
  },
  {
   "cell_type": "code",
   "execution_count": 198,
   "id": "64dfc966",
   "metadata": {},
   "outputs": [
    {
     "data": {
      "image/png": "[encoded data removed]",
      "text/plain": [
       "<Figure size 432x288 with 1 Axes>"
      ]
     },
     "metadata": {
      "needs_background": "light"
     },
     "output_type": "display_data"
    }
   ],
   "source": [
    "plt.scatter(y_test,pred_gbr)\n",
    "plt.xlabel(\"ACTUAL CHANCE OF ADMISSION\")\n",
    "plt.ylabel(\"PREDICTED CHANCE OF ADMISSION\")\n",
    "plt.title(\"ACTUAL VS MODEL PREDICTED\")\n",
    "plt.show()"
   ]
  },
  {
   "cell_type": "markdown",
   "id": "ac5e2f61",
   "metadata": {},
   "source": [
    "### All of them (except decision tree)  are giving good accuracy. performing cross validation to check overfitting"
   ]
  },
  {
   "cell_type": "code",
   "execution_count": 200,
   "id": "60d53890",
   "metadata": {},
   "outputs": [
    {
     "name": "stdout",
     "output_type": "stream",
     "text": [
      "Cross validation score of linear regression model is 0.9999999268594142\n"
     ]
    }
   ],
   "source": [
    "from sklearn.model_selection import cross_val_score\n",
    "\n",
    "scr = cross_val_score(Lr, x_train, y_train, cv=5)\n",
    "print(\"Cross validation score of linear regression model is\",scr.mean())"
   ]
  },
  {
   "cell_type": "code",
   "execution_count": 201,
   "id": "97981713",
   "metadata": {},
   "outputs": [
    {
     "name": "stdout",
     "output_type": "stream",
     "text": [
      "Cross validation score of linear regression model is 0.9371623596460641\n"
     ]
    }
   ],
   "source": [
    "from sklearn.model_selection import cross_val_score\n",
    "\n",
    "scr = cross_val_score(svr, x_train, y_train, cv=5)\n",
    "print(\"Cross validation score of linear regression model is\",scr.mean())"
   ]
  },
  {
   "cell_type": "code",
   "execution_count": 202,
   "id": "681fb2b4",
   "metadata": {},
   "outputs": [
    {
     "name": "stdout",
     "output_type": "stream",
     "text": [
      "Cross validation score of linear regression model is 0.7520892324371051\n"
     ]
    }
   ],
   "source": [
    "from sklearn.model_selection import cross_val_score\n",
    "\n",
    "scr = cross_val_score(dt, x_train, y_train, cv=5)\n",
    "print(\"Cross validation score of linear regression model is\",scr.mean())"
   ]
  },
  {
   "cell_type": "code",
   "execution_count": 203,
   "id": "f211084f",
   "metadata": {},
   "outputs": [
    {
     "name": "stdout",
     "output_type": "stream",
     "text": [
      "Cross validation score of Random forest model is 0.8817679644966067\n"
     ]
    }
   ],
   "source": [
    "scr = cross_val_score(rf, x_train, y_train, cv=5)\n",
    "print(\"Cross validation score of Random forest model is\",scr.mean())"
   ]
  },
  {
   "cell_type": "code",
   "execution_count": 204,
   "id": "5258e48b",
   "metadata": {},
   "outputs": [
    {
     "name": "stdout",
     "output_type": "stream",
     "text": [
      "Cross validation score of Xtreme boosting model is 0.8924225772220238\n"
     ]
    }
   ],
   "source": [
    "scr = cross_val_score(xgbt, x_train, y_train, cv=5)\n",
    "print(\"Cross validation score of Xtreme boosting model is\",scr.mean())"
   ]
  },
  {
   "cell_type": "code",
   "execution_count": 205,
   "id": "b60a85c2",
   "metadata": {},
   "outputs": [
    {
     "name": "stdout",
     "output_type": "stream",
     "text": [
      "Cross validation score of Gradient boosting model is 0.9076432517124691\n"
     ]
    }
   ],
   "source": [
    "scr = cross_val_score(gbr, x_train, y_train, cv=5)\n",
    "print(\"Cross validation score of Gradient boosting model is\",scr.mean())"
   ]
  },
  {
   "cell_type": "markdown",
   "id": "834571d6",
   "metadata": {},
   "source": [
    "### as we can see there is no need of hypertuning as accuracy of linear regression model is 99% "
   ]
  },
  {
   "cell_type": "code",
   "execution_count": 208,
   "id": "3be6b50c",
   "metadata": {},
   "outputs": [
    {
     "data": {
      "text/plain": [
       "['World_happiness_report.obj']"
      ]
     },
     "execution_count": 208,
     "metadata": {},
     "output_type": "execute_result"
    }
   ],
   "source": [
    "import joblib\n",
    "joblib.dump(Lr,\"World_happiness_report.obj\")"
   ]
  },
  {
   "cell_type": "code",
   "execution_count": 212,
   "id": "5faefd90",
   "metadata": {},
   "outputs": [],
   "source": [
    "model=joblib.load(\"E:\\Data science\\capstone project\\world happieness report\\World_happiness_report.obj\")"
   ]
  },
  {
   "cell_type": "code",
   "execution_count": 213,
   "id": "383fc3fe",
   "metadata": {},
   "outputs": [],
   "source": [
    "y_preds=model.predict(x_test)"
   ]
  },
  {
   "cell_type": "code",
   "execution_count": 214,
   "id": "20aafd89",
   "metadata": {},
   "outputs": [],
   "source": [
    "prediction=pd.DataFrame()\n",
    "prediction['original_values']=y_test"
   ]
  },
  {
   "cell_type": "code",
   "execution_count": 215,
   "id": "36454fce",
   "metadata": {},
   "outputs": [],
   "source": [
    "prediction['predicted_by_model']=y_preds"
   ]
  },
  {
   "cell_type": "code",
   "execution_count": 216,
   "id": "cd32dd21",
   "metadata": {},
   "outputs": [
    {
     "data": {
      "text/html": [
       "<div>\n",
       "<style scoped>\n",
       "    .dataframe tbody tr th:only-of-type {\n",
       "        vertical-align: middle;\n",
       "    }\n",
       "\n",
       "    .dataframe tbody tr th {\n",
       "        vertical-align: top;\n",
       "    }\n",
       "\n",
       "    .dataframe thead th {\n",
       "        text-align: right;\n",
       "    }\n",
       "</style>\n",
       "<table border=\"1\" class=\"dataframe\">\n",
       "  <thead>\n",
       "    <tr style=\"text-align: right;\">\n",
       "      <th></th>\n",
       "      <th>original_values</th>\n",
       "      <th>predicted_by_model</th>\n",
       "    </tr>\n",
       "  </thead>\n",
       "  <tbody>\n",
       "    <tr>\n",
       "      <th>54</th>\n",
       "      <td>5.848</td>\n",
       "      <td>5.847637</td>\n",
       "    </tr>\n",
       "    <tr>\n",
       "      <th>55</th>\n",
       "      <td>5.833</td>\n",
       "      <td>5.832673</td>\n",
       "    </tr>\n",
       "    <tr>\n",
       "      <th>117</th>\n",
       "      <td>4.550</td>\n",
       "      <td>4.550599</td>\n",
       "    </tr>\n",
       "    <tr>\n",
       "      <th>48</th>\n",
       "      <td>5.960</td>\n",
       "      <td>5.959659</td>\n",
       "    </tr>\n",
       "    <tr>\n",
       "      <th>116</th>\n",
       "      <td>4.565</td>\n",
       "      <td>4.564654</td>\n",
       "    </tr>\n",
       "    <tr>\n",
       "      <th>83</th>\n",
       "      <td>5.140</td>\n",
       "      <td>5.140389</td>\n",
       "    </tr>\n",
       "    <tr>\n",
       "      <th>31</th>\n",
       "      <td>6.485</td>\n",
       "      <td>6.485115</td>\n",
       "    </tr>\n",
       "    <tr>\n",
       "      <th>153</th>\n",
       "      <td>3.465</td>\n",
       "      <td>3.464859</td>\n",
       "    </tr>\n",
       "    <tr>\n",
       "      <th>44</th>\n",
       "      <td>5.995</td>\n",
       "      <td>5.995102</td>\n",
       "    </tr>\n",
       "    <tr>\n",
       "      <th>114</th>\n",
       "      <td>4.610</td>\n",
       "      <td>4.609730</td>\n",
       "    </tr>\n",
       "  </tbody>\n",
       "</table>\n",
       "</div>"
      ],
      "text/plain": [
       "     original_values  predicted_by_model\n",
       "54             5.848            5.847637\n",
       "55             5.833            5.832673\n",
       "117            4.550            4.550599\n",
       "48             5.960            5.959659\n",
       "116            4.565            4.564654\n",
       "83             5.140            5.140389\n",
       "31             6.485            6.485115\n",
       "153            3.465            3.464859\n",
       "44             5.995            5.995102\n",
       "114            4.610            4.609730"
      ]
     },
     "execution_count": 216,
     "metadata": {},
     "output_type": "execute_result"
    }
   ],
   "source": [
    "prediction.sample(10)"
   ]
  },
  {
   "cell_type": "code",
   "execution_count": null,
   "id": "1651e7a8",
   "metadata": {},
   "outputs": [],
   "source": []
  }
 ],
 "metadata": {
  "kernelspec": {
   "display_name": "Python 3",
   "language": "python",
   "name": "python3"
  },
  "language_info": {
   "codemirror_mode": {
    "name": "ipython",
    "version": 3
   },
   "file_extension": ".py",
   "mimetype": "text/x-python",
   "name": "python",
   "nbconvert_exporter": "python",
   "pygments_lexer": "ipython3",
   "version": "3.8.8"
  }
 },
 "nbformat": 4,
 "nbformat_minor": 5
}
